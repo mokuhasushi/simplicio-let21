{
 "cells": [
  {
   "cell_type": "markdown",
   "id": "23582978",
   "metadata": {},
   "source": [
    "# Esempi di esecuzione\n",
    "Si riportano qui di seguito gli esempi citati nelle specifiche del progetto"
   ]
  },
  {
   "cell_type": "code",
   "execution_count": 1,
   "id": "4dcccfb8",
   "metadata": {},
   "outputs": [],
   "source": [
    "from IPython.display import Math as show_latex\n",
    "import simplicio"
   ]
  },
  {
   "cell_type": "code",
   "execution_count": 2,
   "id": "d38f54bc",
   "metadata": {},
   "outputs": [
    {
     "data": {
      "text/latex": [
       "$\\displaystyle \\begin{align}&1 + \\left\\{ 2 \\times \\left[ \\left( 3 + 4 : 2 \\right) + 5 \\right] \\times 6 \\right\\} - \\left[ 7 + \\left( 1 + 8 \\right) : 3 \\right] \\times \\left[ 9 : \\left( 2 + 1 \\right) + 2 \\right]\n",
       "\\\\&1 + \\left\\{ 2 \\times \\left[ \\color{blue} {\\left( 3 + \\color{red} {\\boxed{4 : 2}} \\right)} + 5 \\right] \\times 6 \\right\\} - \\left[ 7 + \\left( 1 + 8 \\right) : 3 \\right] \\times \\left[ 9 : \\left( 2 + 1 \\right) + 2 \\right]\n",
       "\\\\&1 + \\left\\{ 2 \\times \\left[ \\color{blue} {\\left( \\color{red} {\\boxed{3 + \\color{green} {\\boxed{2}}}} \\right)} + 5 \\right] \\times 6 \\right\\} - \\left[ 7 + \\left( 1 + 8 \\right) : 3 \\right] \\times \\left[ 9 : \\left( 2 + 1 \\right) + 2 \\right]\n",
       "\\\\&1 + \\left\\{ 2 \\times \\left[ \\color{green} {\\boxed{5}} + 5 \\right] \\times 6 \\right\\} - \\left[ 7 + \\color{blue} {\\left( \\color{red} {\\boxed{1 + 8}} \\right)} : 3 \\right] \\times \\left[ 9 : \\left( 2 + 1 \\right) + 2 \\right]\n",
       "\\\\&1 + \\left\\{ 2 \\times \\left[ 5 + 5 \\right] \\times 6 \\right\\} - \\left[ 7 + \\color{green} {\\boxed{9}} : 3 \\right] \\times \\left[ 9 : \\color{blue} {\\left( \\color{red} {\\boxed{2 + 1}} \\right)} + 2 \\right]\n",
       "\\\\&1 + \\left\\{ 2 \\times \\color{blue} {\\left[ \\color{red} {\\boxed{5 + 5}} \\right]} \\times 6 \\right\\} - \\left[ 7 + 9 : 3 \\right] \\times \\left[ 9 : \\color{green} {\\boxed{3}} + 2 \\right]\n",
       "\\\\&1 + \\left\\{ 2 \\times \\color{green} {\\boxed{10}} \\times 6 \\right\\} - \\color{blue} {\\left[ 7 + \\color{red} {\\boxed{9 : 3}} \\right]} \\times \\left[ 9 : 3 + 2 \\right]\n",
       "\\\\&1 + \\left\\{ 2 \\times 10 \\times 6 \\right\\} - \\color{blue} {\\left[ \\color{red} {\\boxed{7 + \\color{green} {\\boxed{3}}}} \\right]} \\times \\left[ 9 : 3 + 2 \\right]\n",
       "\\\\&1 + \\left\\{ 2 \\times 10 \\times 6 \\right\\} - \\color{green} {\\boxed{10}} \\times \\color{blue} {\\left[ \\color{red} {\\boxed{9 : 3}} + 2 \\right]}\n",
       "\\\\&1 + \\left\\{ 2 \\times 10 \\times 6 \\right\\} - 10 \\times \\color{blue} {\\left[ \\color{red} {\\boxed{\\color{green} {\\boxed{3}} + 2}} \\right]}\n",
       "\\\\&1 + \\color{blue} {\\left\\{ \\color{red} {\\boxed{2 \\times 10 \\times 6}} \\right\\}} - 10 \\times \\color{green} {\\boxed{5}}\n",
       "\\\\&1 + \\color{green} {\\boxed{120}} - \\color{red} {\\boxed{10 \\times 5}}\n",
       "\\\\&\\color{red} {\\boxed{1 + 120 - \\color{green} {\\boxed{50}}}}\n",
       "\\\\&\\color{green} {\\boxed{71}}\n",
       "\\end{align}$"
      ],
      "text/plain": [
       "<IPython.core.display.Math object>"
      ]
     },
     "execution_count": 2,
     "metadata": {},
     "output_type": "execute_result"
    }
   ],
   "source": [
    "esempio_1 = \"1 + {2 * [(3 + 4 : 2) + 5] * 6} - [7 + (1 + 8) : 3] * [9 : (2 + 1) + 2]\"\n",
    "show_latex(simplicio.string2latex(esempio_1, 'N'))"
   ]
  },
  {
   "cell_type": "code",
   "execution_count": 3,
   "id": "3b436ab4",
   "metadata": {},
   "outputs": [
    {
     "data": {
      "text/latex": [
       "$\\displaystyle \\begin{align}&\\frac{\\frac{\\frac{2 + 3} {4}} {5 + 6}} {7}\n",
       "\\\\&\\frac{\\frac{\\frac{\\color{red} {\\boxed{2 + 3}}} {4}} {5 + 6}} {7}\n",
       "\\\\&\\frac{\\frac{\\color{red} {\\boxed{\\frac{\\color{green} {\\boxed{5}}} {4}}}} {5 + 6}} {7}\n",
       "\\\\&\\frac{\\frac{\\color{green} {\\boxed{\\frac{5} {4}}}} {\\color{red} {\\boxed{5 + 6}}}} {7}\n",
       "\\\\&\\frac{\\color{red} {\\boxed{\\frac{\\frac{5} {4}} {\\color{green} {\\boxed{11}}}}}} {7}\n",
       "\\\\&\\color{red} {\\boxed{\\frac{\\color{green} {\\boxed{\\frac{5} {44}}}} {7}}}\n",
       "\\\\&\\color{green} {\\boxed{\\frac{5} {308}}}\n",
       "\\end{align}$"
      ],
      "text/plain": [
       "<IPython.core.display.Math object>"
      ]
     },
     "execution_count": 3,
     "metadata": {},
     "output_type": "execute_result"
    }
   ],
   "source": [
    "esempio_2 = \"(((2+3)/4)/(5+6))/7\"\n",
    "show_latex(simplicio.string2latex(esempio_2, 'Q'))"
   ]
  },
  {
   "cell_type": "code",
   "execution_count": 4,
   "id": "39884a5e",
   "metadata": {},
   "outputs": [
    {
     "data": {
      "text/latex": [
       "$\\displaystyle \\begin{align}&\\frac{4 + 6} {2 + 3}\n",
       "\\\\&\\frac{\\color{red} {\\boxed{4 + 6}}} {2 + 3}\n",
       "\\\\&\\frac{\\color{green} {\\boxed{10}}} {\\color{red} {\\boxed{2 + 3}}}\n",
       "\\\\&\\color{red} {\\boxed{\\frac{10} {\\color{green} {\\boxed{5}}}}}\n",
       "\\\\&\\color{green} {\\boxed{2}}\n",
       "\\end{align}$"
      ],
      "text/plain": [
       "<IPython.core.display.Math object>"
      ]
     },
     "execution_count": 4,
     "metadata": {},
     "output_type": "execute_result"
    }
   ],
   "source": [
    "esempio_3 = \"(4+6)/(2+3)\"\n",
    "show_latex(simplicio.string2latex(esempio_3, 'N'))"
   ]
  },
  {
   "cell_type": "code",
   "execution_count": 5,
   "id": "83590bd9",
   "metadata": {},
   "outputs": [
    {
     "data": {
      "text/latex": [
       "$\\displaystyle \\begin{align}&\\left( 2 + 3 \\right) : \\left( 4 + 5 \\right)\n",
       "\\\\&\\color{blue} {\\left( \\color{red} {\\boxed{2 + 3}} \\right)} : \\left( 4 + 5 \\right)\n",
       "\\\\&\\color{green} {\\boxed{5}} : \\color{blue} {\\left( \\color{red} {\\boxed{4 + 5}} \\right)}\n",
       "\\\\&\\color{red} {\\boxed{5 : \\color{green} {\\boxed{9}}}}\n",
       "\\\\&\\color{green} {\\boxed{\\frac{5} {9}}}\n",
       "\\end{align}$"
      ],
      "text/plain": [
       "<IPython.core.display.Math object>"
      ]
     },
     "execution_count": 5,
     "metadata": {},
     "output_type": "execute_result"
    }
   ],
   "source": [
    "esempio_4 = \"(2+3):(4+5)\"\n",
    "show_latex(simplicio.string2latex(esempio_4, 'Q'))"
   ]
  },
  {
   "cell_type": "code",
   "execution_count": 6,
   "id": "e43c6e59",
   "metadata": {},
   "outputs": [
    {
     "data": {
      "text/latex": [
       "$\\displaystyle \\begin{align}&{2} ^ {3 + {4} ^ {5} : {2} ^ {7}}\n",
       "\\\\&{2} ^ {3 + \\color{red} {\\boxed{{4} ^ {5}}} : {2} ^ {7}}\n",
       "\\\\&{2} ^ {3 + \\color{green} {\\boxed{1024}} : \\color{red} {\\boxed{{2} ^ {7}}}}\n",
       "\\\\&{2} ^ {3 + \\color{red} {\\boxed{1024 : \\color{green} {\\boxed{128}}}}}\n",
       "\\\\&{2} ^ {\\color{red} {\\boxed{3 + \\color{green} {\\boxed{8}}}}}\n",
       "\\\\&\\color{red} {\\boxed{{2} ^ {\\color{green} {\\boxed{11}}}}}\n",
       "\\\\&\\color{green} {\\boxed{2048}}\n",
       "\\end{align}$"
      ],
      "text/plain": [
       "<IPython.core.display.Math object>"
      ]
     },
     "execution_count": 6,
     "metadata": {},
     "output_type": "execute_result"
    }
   ],
   "source": [
    "esempio_5 = \"2^(3 + 4^5 : 2^7)\"\n",
    "show_latex(simplicio.string2latex(esempio_5, 'N'))"
   ]
  },
  {
   "cell_type": "code",
   "execution_count": 7,
   "id": "880bc694",
   "metadata": {},
   "outputs": [
    {
     "data": {
      "text/latex": [
       "$\\displaystyle \\begin{align}&{\\frac{4} {25}} ^ {- \\frac{3} {2}}\n",
       "\\\\&{\\frac{4} {25}} ^ {\\color{red} {\\boxed{- \\frac{3} {2}}}}\n",
       "\\\\&\\color{red} {\\boxed{{\\frac{4} {25}} ^ {\\color{green} {\\boxed{\\frac{-3} {2}}}}}}\n",
       "\\\\&\\color{green} {\\boxed{\\frac{125} {8}}}\n",
       "\\end{align}$"
      ],
      "text/plain": [
       "<IPython.core.display.Math object>"
      ]
     },
     "execution_count": 7,
     "metadata": {},
     "output_type": "execute_result"
    }
   ],
   "source": [
    "esempio_6 = \"(4/25)^(-3/2)\"\n",
    "show_latex(simplicio.string2latex(esempio_6, 'Q'))"
   ]
  },
  {
   "cell_type": "code",
   "execution_count": 8,
   "id": "da1b54fc",
   "metadata": {},
   "outputs": [
    {
     "data": {
      "text/latex": [
       "$\\displaystyle \\begin{align}&- {2} ^ {2}\n",
       "\\\\&- \\color{red} {\\boxed{{2} ^ {2}}}\n",
       "\\\\&\\color{red} {\\boxed{- \\color{green} {\\boxed{4}}}}\n",
       "\\\\&\\color{green} {\\boxed{-4}}\n",
       "\\end{align}$"
      ],
      "text/plain": [
       "<IPython.core.display.Math object>"
      ]
     },
     "execution_count": 8,
     "metadata": {},
     "output_type": "execute_result"
    }
   ],
   "source": [
    "esempio_7 = \"-2^2\"\n",
    "show_latex(simplicio.string2latex(esempio_7, 'Z'))"
   ]
  },
  {
   "cell_type": "code",
   "execution_count": 9,
   "id": "3000ce31",
   "metadata": {},
   "outputs": [
    {
     "data": {
      "text/latex": [
       "$\\displaystyle \\begin{align}&3 + 13 \\times - \\frac{1 + 3} {{2} ^ {1 + 4} - 6}\n",
       "\\\\&3 + 13 \\times - \\frac{1 + 3} {{2} ^ {\\color{red} {\\boxed{1 + 4}}} - 6}\n",
       "\\\\&3 + 13 \\times - \\frac{1 + 3} {\\color{red} {\\boxed{{2} ^ {\\color{green} {\\boxed{5}}}}} - 6}\n",
       "\\\\&3 + 13 \\times - \\frac{\\color{red} {\\boxed{1 + 3}}} {\\color{green} {\\boxed{32}} - 6}\n",
       "\\\\&3 + 13 \\times - \\frac{\\color{green} {\\boxed{4}}} {\\color{red} {\\boxed{32 - 6}}}\n",
       "\\\\&3 + 13 \\times - \\color{red} {\\boxed{\\frac{4} {\\color{green} {\\boxed{26}}}}}\n",
       "\\\\&3 + 13 \\times \\color{red} {\\boxed{- \\color{green} {\\boxed{\\frac{2} {13}}}}}\n",
       "\\\\&3 + \\color{red} {\\boxed{13 \\times \\color{green} {\\boxed{\\frac{-2} {13}}}}}\n",
       "\\\\&\\color{red} {\\boxed{3 + \\color{green} {\\boxed{-2}}}}\n",
       "\\\\&\\color{green} {\\boxed{1}}\n",
       "\\end{align}$"
      ],
      "text/plain": [
       "<IPython.core.display.Math object>"
      ]
     },
     "execution_count": 9,
     "metadata": {},
     "output_type": "execute_result"
    }
   ],
   "source": [
    "esempio_8 = \"3 + 13 * - (1 + 3) / (2 ^ (1+4) - 6)\"\n",
    "show_latex(simplicio.string2latex(esempio_8, 'Q'))"
   ]
  },
  {
   "cell_type": "code",
   "execution_count": 10,
   "id": "c3e612e3",
   "metadata": {},
   "outputs": [
    {
     "data": {
      "text/latex": [
       "$\\displaystyle \\begin{align}&\\frac{3} {4 + 2} + 2 \\times \\left\\{ 3 : \\left( 4 + 5 \\right) + {2} ^ {6 \\times \\frac{1} {2}} \\right\\} - \\frac{2 \\times \\left[ 5 \\times \\left( 3 + 4 \\right) + 5 \\right] - 1} {6}\n",
       "\\\\&\\frac{3} {4 + 2} + 2 \\times \\left\\{ 3 : \\color{blue} {\\left( \\color{red} {\\boxed{4 + 5}} \\right)} + {2} ^ {6 \\times \\frac{1} {2}} \\right\\} - \\frac{2 \\times \\left[ 5 \\times \\left( 3 + 4 \\right) + 5 \\right] - 1} {6}\n",
       "\\\\&\\frac{3} {4 + 2} + 2 \\times \\left\\{ 3 : \\color{green} {\\boxed{9}} + {2} ^ {6 \\times \\frac{1} {2}} \\right\\} - \\frac{2 \\times \\left[ 5 \\times \\color{blue} {\\left( \\color{red} {\\boxed{3 + 4}} \\right)} + 5 \\right] - 1} {6}\n",
       "\\\\&\\frac{3} {4 + 2} + 2 \\times \\left\\{ 3 : 9 + {2} ^ {6 \\times \\frac{1} {2}} \\right\\} - \\frac{2 \\times \\color{blue} {\\left[ \\color{red} {\\boxed{5 \\times \\color{green} {\\boxed{7}}}} + 5 \\right]} - 1} {6}\n",
       "\\\\&\\frac{3} {4 + 2} + 2 \\times \\left\\{ 3 : 9 + {2} ^ {6 \\times \\frac{1} {2}} \\right\\} - \\frac{2 \\times \\color{blue} {\\left[ \\color{red} {\\boxed{\\color{green} {\\boxed{35}} + 5}} \\right]} - 1} {6}\n",
       "\\\\&\\frac{3} {4 + 2} + 2 \\times \\color{blue} {\\left\\{ 3 : 9 + {2} ^ {\\color{red} {\\boxed{6 \\times \\frac{1} {2}}}} \\right\\}} - \\frac{2 \\times \\color{green} {\\boxed{40}} - 1} {6}\n",
       "\\\\&\\frac{3} {4 + 2} + 2 \\times \\color{blue} {\\left\\{ 3 : 9 + \\color{red} {\\boxed{{2} ^ {\\color{green} {\\boxed{3}}}}} \\right\\}} - \\frac{2 \\times 40 - 1} {6}\n",
       "\\\\&\\frac{3} {4 + 2} + 2 \\times \\color{blue} {\\left\\{ \\color{red} {\\boxed{3 : 9}} + \\color{green} {\\boxed{8}} \\right\\}} - \\frac{2 \\times 40 - 1} {6}\n",
       "\\\\&\\frac{3} {4 + 2} + 2 \\times \\color{blue} {\\left\\{ \\color{red} {\\boxed{\\color{green} {\\boxed{\\frac{1} {3}}} + 8}} \\right\\}} - \\frac{2 \\times 40 - 1} {6}\n",
       "\\\\&\\frac{3} {\\color{red} {\\boxed{4 + 2}}} + 2 \\times \\color{green} {\\boxed{\\frac{25} {3}}} - \\frac{2 \\times 40 - 1} {6}\n",
       "\\\\&\\color{red} {\\boxed{\\frac{3} {\\color{green} {\\boxed{6}}}}} + 2 \\times \\frac{25} {3} - \\frac{2 \\times 40 - 1} {6}\n",
       "\\\\&\\color{green} {\\boxed{\\frac{1} {2}}} + 2 \\times \\frac{25} {3} - \\frac{\\color{red} {\\boxed{2 \\times 40}} - 1} {6}\n",
       "\\\\&\\frac{1} {2} + 2 \\times \\frac{25} {3} - \\frac{\\color{red} {\\boxed{\\color{green} {\\boxed{80}} - 1}}} {6}\n",
       "\\\\&\\frac{1} {2} + 2 \\times \\frac{25} {3} - \\color{red} {\\boxed{\\frac{\\color{green} {\\boxed{79}}} {6}}}\n",
       "\\\\&\\frac{1} {2} + \\color{red} {\\boxed{2 \\times \\frac{25} {3}}} - \\color{green} {\\boxed{\\frac{79} {6}}}\n",
       "\\\\&\\color{red} {\\boxed{\\frac{1} {2} + \\color{green} {\\boxed{\\frac{50} {3}}} - \\frac{79} {6}}}\n",
       "\\\\&\\color{green} {\\boxed{4}}\n",
       "\\end{align}$"
      ],
      "text/plain": [
       "<IPython.core.display.Math object>"
      ]
     },
     "execution_count": 10,
     "metadata": {},
     "output_type": "execute_result"
    }
   ],
   "source": [
    "esempio_9 = \"3/(4+2) + 2 * {3 : (4 + 5) + 2^(6*1/2)} - (2 * [5 * (3 + 4) + 5] - 1) / 6\"\n",
    "show_latex(simplicio.string2latex(esempio_9, 'Q'))"
   ]
  },
  {
   "cell_type": "markdown",
   "id": "b774fea9",
   "metadata": {},
   "source": [
    "Se ho controllato bene, l'esempio seguente è l'unico che differisce da quelli forniti, e solo di un passaggio: viene prima risolta completamente la parentesi tonda a sinistra, quindi quella a destra."
   ]
  },
  {
   "cell_type": "code",
   "execution_count": 11,
   "id": "dda466d2",
   "metadata": {},
   "outputs": [
    {
     "data": {
      "text/latex": [
       "$\\displaystyle \\begin{align}&\\frac{3} {4 + 2} + 2 \\times \\left( 3 : \\left( 4 + 5 \\right) + {2} ^ {6 \\times \\frac{1} {2}} \\right) - \\frac{2 \\times \\left( 5 \\times \\left( 3 + 4 \\right) + 5 \\right) - 1} {6}\n",
       "\\\\&\\frac{3} {4 + 2} + 2 \\times \\left( 3 : \\color{blue} {\\left( \\color{red} {\\boxed{4 + 5}} \\right)} + {2} ^ {6 \\times \\frac{1} {2}} \\right) - \\frac{2 \\times \\left( 5 \\times \\left( 3 + 4 \\right) + 5 \\right) - 1} {6}\n",
       "\\\\&\\frac{3} {4 + 2} + 2 \\times \\color{blue} {\\left( 3 : \\color{green} {\\boxed{9}} + {2} ^ {\\color{red} {\\boxed{6 \\times \\frac{1} {2}}}} \\right)} - \\frac{2 \\times \\left( 5 \\times \\left( 3 + 4 \\right) + 5 \\right) - 1} {6}\n",
       "\\\\&\\frac{3} {4 + 2} + 2 \\times \\color{blue} {\\left( 3 : 9 + \\color{red} {\\boxed{{2} ^ {\\color{green} {\\boxed{3}}}}} \\right)} - \\frac{2 \\times \\left( 5 \\times \\left( 3 + 4 \\right) + 5 \\right) - 1} {6}\n",
       "\\\\&\\frac{3} {4 + 2} + 2 \\times \\color{blue} {\\left( \\color{red} {\\boxed{3 : 9}} + \\color{green} {\\boxed{8}} \\right)} - \\frac{2 \\times \\left( 5 \\times \\left( 3 + 4 \\right) + 5 \\right) - 1} {6}\n",
       "\\\\&\\frac{3} {4 + 2} + 2 \\times \\color{blue} {\\left( \\color{red} {\\boxed{\\color{green} {\\boxed{\\frac{1} {3}}} + 8}} \\right)} - \\frac{2 \\times \\left( 5 \\times \\left( 3 + 4 \\right) + 5 \\right) - 1} {6}\n",
       "\\\\&\\frac{3} {4 + 2} + 2 \\times \\color{green} {\\boxed{\\frac{25} {3}}} - \\frac{2 \\times \\left( 5 \\times \\color{blue} {\\left( \\color{red} {\\boxed{3 + 4}} \\right)} + 5 \\right) - 1} {6}\n",
       "\\\\&\\frac{3} {4 + 2} + 2 \\times \\frac{25} {3} - \\frac{2 \\times \\color{blue} {\\left( \\color{red} {\\boxed{5 \\times \\color{green} {\\boxed{7}}}} + 5 \\right)} - 1} {6}\n",
       "\\\\&\\frac{3} {4 + 2} + 2 \\times \\frac{25} {3} - \\frac{2 \\times \\color{blue} {\\left( \\color{red} {\\boxed{\\color{green} {\\boxed{35}} + 5}} \\right)} - 1} {6}\n",
       "\\\\&\\frac{3} {\\color{red} {\\boxed{4 + 2}}} + 2 \\times \\frac{25} {3} - \\frac{2 \\times \\color{green} {\\boxed{40}} - 1} {6}\n",
       "\\\\&\\color{red} {\\boxed{\\frac{3} {\\color{green} {\\boxed{6}}}}} + 2 \\times \\frac{25} {3} - \\frac{2 \\times 40 - 1} {6}\n",
       "\\\\&\\color{green} {\\boxed{\\frac{1} {2}}} + 2 \\times \\frac{25} {3} - \\frac{\\color{red} {\\boxed{2 \\times 40}} - 1} {6}\n",
       "\\\\&\\frac{1} {2} + 2 \\times \\frac{25} {3} - \\frac{\\color{red} {\\boxed{\\color{green} {\\boxed{80}} - 1}}} {6}\n",
       "\\\\&\\frac{1} {2} + 2 \\times \\frac{25} {3} - \\color{red} {\\boxed{\\frac{\\color{green} {\\boxed{79}}} {6}}}\n",
       "\\\\&\\frac{1} {2} + \\color{red} {\\boxed{2 \\times \\frac{25} {3}}} - \\color{green} {\\boxed{\\frac{79} {6}}}\n",
       "\\\\&\\color{red} {\\boxed{\\frac{1} {2} + \\color{green} {\\boxed{\\frac{50} {3}}} - \\frac{79} {6}}}\n",
       "\\\\&\\color{green} {\\boxed{4}}\n",
       "\\end{align}$"
      ],
      "text/plain": [
       "<IPython.core.display.Math object>"
      ]
     },
     "execution_count": 11,
     "metadata": {},
     "output_type": "execute_result"
    }
   ],
   "source": [
    "esempio_10 = \"3/(4+2) + 2 * (3 : (4 + 5) + 2^(6*1/2)) - (2 * (5 * (3 + 4) + 5) - 1) / 6\"\n",
    "show_latex(simplicio.string2latex(esempio_10, 'Q'))"
   ]
  },
  {
   "cell_type": "markdown",
   "id": "26da1a7f",
   "metadata": {},
   "source": [
    "### Seguono alcuni esempi rilevanti"
   ]
  },
  {
   "cell_type": "code",
   "execution_count": null,
   "id": "21b5e59a",
   "metadata": {},
   "outputs": [],
   "source": []
  }
 ],
 "metadata": {
  "kernelspec": {
   "display_name": "Python 3",
   "language": "python",
   "name": "python3"
  },
  "language_info": {
   "codemirror_mode": {
    "name": "ipython",
    "version": 3
   },
   "file_extension": ".py",
   "mimetype": "text/x-python",
   "name": "python",
   "nbconvert_exporter": "python",
   "pygments_lexer": "ipython3",
   "version": "3.9.5"
  }
 },
 "nbformat": 4,
 "nbformat_minor": 5
}
