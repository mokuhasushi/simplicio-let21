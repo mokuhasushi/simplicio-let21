{
 "cells": [
  {
   "cell_type": "code",
   "execution_count": 1,
   "id": "7c7b960a",
   "metadata": {},
   "outputs": [],
   "source": [
    "%load_ext autoreload"
   ]
  },
  {
   "cell_type": "code",
   "execution_count": 2,
   "id": "61962af0",
   "metadata": {},
   "outputs": [],
   "source": [
    "%autoreload 2"
   ]
  },
  {
   "cell_type": "code",
   "execution_count": 4,
   "id": "6ea4a10b",
   "metadata": {},
   "outputs": [],
   "source": [
    "# from utilities import nodo2tree\n",
    "import shuntingyard as sy\n",
    "import importlib\n",
    "from IPython.display import Math as show_latex"
   ]
  },
  {
   "cell_type": "code",
   "execution_count": 5,
   "id": "3eb97f9c",
   "metadata": {},
   "outputs": [],
   "source": [
    "from semplificatore import Semplificatore as smp"
   ]
  },
  {
   "cell_type": "code",
   "execution_count": 22,
   "id": "3cc6c794",
   "metadata": {},
   "outputs": [],
   "source": [
    "test_expr = \"1 + {2 * [(3 + 4 : 2) + 5] * 6} - [7 + (1 + 8) : 3] * [9 : (2 + 1) + 2]#\"\n",
    "test_pow = \"2^(3+4^5:2^7)#\"\n",
    "test_frac_1 = \"(2+4)/(3+4)#\"\n",
    "test_riassuntivo = \"3 + 13 * ~(1+3) / (2^(1+4) - 6)#\"\n",
    "test_parentesi_semplice = \"3/(4+2) + 2 * {3:(4+5) + 2^(6*1/2)}-(2*[5*(3+4)+5]-1)/6#\"\n",
    "test_parentesi_libere = \"3/(4+2) + 2 * (3:(4+5) + 2^(6*1/2))-(2*(5*(3+4)+5)-1)/6#\"\n",
    "test_parentesi_libere2 = \"3/(4+2) + 2 * (3:(4+5) : 2^(6*1/2))-(2*(5*(3+4)+5)-1)/6#\"\n",
    "test_rapido = \"3 + 3 + 8 + 6 * 2#\"\n",
    "test_parentesi_sbagliate = \"{3 + [4 * (25 + 1)]}\"\n",
    "test_segni_unari_multipli = \"---3 + -56 * -(-(-(5)))#\"\n",
    "test_lungo = \"-19 + 4 * 45 / {12^[3+60/6:5] - 7/4 + 3 * (13 - 5 * -2^3)} * 22 / 143 - [13^2/45*3+3/(7+3^2)] : 3 - 1 + {12^(3+4)/12 + [5 - 3*4 + -(4^(9/3))]}#\""
   ]
  },
  {
   "cell_type": "code",
   "execution_count": 23,
   "id": "2470ef71",
   "metadata": {},
   "outputs": [],
   "source": [
    "n = sy.parse_expr(test_parentesi_sbagliate, 'Q')\n",
    "simpler = smp(n)\n",
    "# nodo2tree(n)"
   ]
  },
  {
   "cell_type": "code",
   "execution_count": 24,
   "id": "3cc7faed",
   "metadata": {},
   "outputs": [
    {
     "data": {
      "text/latex": [
       "$\\displaystyle \\begin{align}&\\left\\{ 3 + \\left[ 4 \\times \\left( 25 + 1 \\right) \\right] \\right\\}\\\\&\\left\\{ 3 + \\left[ 4 \\times \\color{blue} {\\left( \\color{red} {\\boxed{25 + 1}} \\right)} \\right] \\right\\}\\\\&\\left\\{ 3 + \\color{blue} {\\left[ \\color{red} {\\boxed{4 \\times \\color{green} {\\boxed{26}}}} \\right]} \\right\\}\\\\&\\color{blue} {\\left\\{ \\color{red} {\\boxed{3 + \\color{green} {\\boxed{104}}}} \\right\\}}\\\\&\\left\\{ \\color{red} {\\boxed{3 + 104}} \\right\\}\\\\&\\color{red} {\\boxed{\\left\\{ \\color{green} {\\boxed{107}} \\right\\}}}\\\\&\\color{green} {\\boxed{107}}\\end{align}$"
      ],
      "text/plain": [
       "<IPython.core.display.Math object>"
      ]
     },
     "execution_count": 24,
     "metadata": {},
     "output_type": "execute_result"
    }
   ],
   "source": [
    "texts = simpler.solve()\n",
    "text = '\\\\\\\\&'.join(texts)\n",
    "text = \"\\\\begin{align}\" + text + \"\\end{align}\"\n",
    "show_latex(text)"
   ]
  },
  {
   "cell_type": "code",
   "execution_count": 9,
   "id": "2fed8427",
   "metadata": {},
   "outputs": [],
   "source": [
    "def string2latex(s):\n",
    "    n = sy.parse_expr(s, 'Q')\n",
    "    simpler = smp(n)\n",
    "    texts = simpler.solve()\n",
    "    text = '\\\\\\\\&'.join(texts)\n",
    "    text = \"\\\\begin{align}\" + text + \"\\end{align}\"\n",
    "    return text"
   ]
  },
  {
   "cell_type": "code",
   "execution_count": 10,
   "id": "d411f67c",
   "metadata": {},
   "outputs": [],
   "source": [
    "casi_semplici = [\"(2+4)/(3+4)#\", \"2/3/4#\", \"5/(6/7)#\", \"(2*3+4)/5#\", \"2/(3+4/5)#\", \"(((2+3)/4)/(5+6))/7#\"]\n",
    "potenze = [\"-2^(-2)\", \"(1/2)^3\"]"
   ]
  },
  {
   "cell_type": "code",
   "execution_count": 11,
   "id": "0993b902",
   "metadata": {},
   "outputs": [
    {
     "name": "stdout",
     "output_type": "stream",
     "text": [
      "-2^(-2) ok\n",
      "(1/2)^3 ok\n"
     ]
    }
   ],
   "source": [
    "lista_di_latex = []\n",
    "for t in potenze:\n",
    "    lista_di_latex.append(string2latex(t))\n",
    "    print(t, \"ok\")"
   ]
  },
  {
   "cell_type": "code",
   "execution_count": 12,
   "id": "d0d74660",
   "metadata": {},
   "outputs": [
    {
     "data": {
      "text/latex": [
       "$\\displaystyle \\begin{align}&\\frac{1} {2} ^ {3}\\\\&\\color{red} {\\boxed{\\frac{1} {2}}} ^ {3}\\\\&\\color{red} {\\boxed{\\color{green} {\\boxed{\\frac{1} {2}}} ^ {3}}}\\\\&\\color{green} {\\boxed{\\frac{1} {8}}}\\end{align}$"
      ],
      "text/plain": [
       "<IPython.core.display.Math object>"
      ]
     },
     "execution_count": 12,
     "metadata": {},
     "output_type": "execute_result"
    }
   ],
   "source": [
    "show_latex(lista_di_latex[1])"
   ]
  },
  {
   "cell_type": "code",
   "execution_count": 13,
   "id": "312a6267",
   "metadata": {},
   "outputs": [
    {
     "data": {
      "text/plain": [
       "['\\\\begin{align}&- 2 ^ {- 2}\\\\\\\\&- 2 ^ {\\\\color{red} {\\\\boxed{- 2}}}\\\\\\\\&- \\\\color{red} {\\\\boxed{2 ^ {\\\\color{green} {\\\\boxed{-2}}}}}\\\\\\\\&\\\\color{red} {\\\\boxed{- \\\\color{green} {\\\\boxed{0.25}}}}\\\\\\\\&\\\\color{green} {\\\\boxed{-0.25}}\\\\end{align}',\n",
       " '\\\\begin{align}&\\\\frac{1} {2} ^ {3}\\\\\\\\&\\\\color{red} {\\\\boxed{\\\\frac{1} {2}}} ^ {3}\\\\\\\\&\\\\color{red} {\\\\boxed{\\\\color{green} {\\\\boxed{\\\\frac{1} {2}}} ^ {3}}}\\\\\\\\&\\\\color{green} {\\\\boxed{\\\\frac{1} {8}}}\\\\end{align}']"
      ]
     },
     "execution_count": 13,
     "metadata": {},
     "output_type": "execute_result"
    }
   ],
   "source": [
    "lista_di_latex"
   ]
  },
  {
   "cell_type": "code",
   "execution_count": 14,
   "id": "d0a8220d",
   "metadata": {},
   "outputs": [],
   "source": [
    "n = sy.parse_expr(casi_semplici[5], 'Q')\n",
    "simpler = smp(n)\n"
   ]
  },
  {
   "cell_type": "code",
   "execution_count": 15,
   "id": "308a0b48",
   "metadata": {},
   "outputs": [
    {
     "ename": "NameError",
     "evalue": "name 'nodo2tree' is not defined",
     "output_type": "error",
     "traceback": [
      "\u001b[0;31m-------------------------------------------------------------------------\u001b[0m",
      "\u001b[0;31mNameError\u001b[0m                               Traceback (most recent call last)",
      "\u001b[0;32m<ipython-input-15-b962d636ec60>\u001b[0m in \u001b[0;36m<module>\u001b[0;34m\u001b[0m\n\u001b[0;32m----> 1\u001b[0;31m \u001b[0mnodo2tree\u001b[0m\u001b[0;34m(\u001b[0m\u001b[0mn\u001b[0m\u001b[0;34m)\u001b[0m\u001b[0;34m\u001b[0m\u001b[0;34m\u001b[0m\u001b[0m\n\u001b[0m",
      "\u001b[0;31mNameError\u001b[0m: name 'nodo2tree' is not defined"
     ]
    }
   ],
   "source": [
    "nodo2tree(n)"
   ]
  },
  {
   "cell_type": "code",
   "execution_count": null,
   "id": "ebb88c12",
   "metadata": {},
   "outputs": [],
   "source": []
  }
 ],
 "metadata": {
  "kernelspec": {
   "display_name": "Python 3",
   "language": "python",
   "name": "python3"
  },
  "language_info": {
   "codemirror_mode": {
    "name": "ipython",
    "version": 3
   },
   "file_extension": ".py",
   "mimetype": "text/x-python",
   "name": "python",
   "nbconvert_exporter": "python",
   "pygments_lexer": "ipython3",
   "version": "3.9.5"
  }
 },
 "nbformat": 4,
 "nbformat_minor": 5
}
