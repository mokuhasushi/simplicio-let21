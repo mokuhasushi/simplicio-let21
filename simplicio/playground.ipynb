{
 "cells": [
  {
   "cell_type": "code",
   "execution_count": 1,
   "id": "7c7b960a",
   "metadata": {},
   "outputs": [],
   "source": [
    "%load_ext autoreload"
   ]
  },
  {
   "cell_type": "code",
   "execution_count": 2,
   "id": "61962af0",
   "metadata": {},
   "outputs": [],
   "source": [
    "%autoreload 2"
   ]
  },
  {
   "cell_type": "code",
   "execution_count": 4,
   "id": "6ea4a10b",
   "metadata": {},
   "outputs": [],
   "source": [
    "# from utilities import nodo2tree\n",
    "import shuntingyard as sy\n",
    "import importlib\n",
    "from IPython.display import Math as show_latex"
   ]
  },
  {
   "cell_type": "code",
   "execution_count": 5,
   "id": "3eb97f9c",
   "metadata": {},
   "outputs": [],
   "source": [
    "from semplificatore import Semplificatore as smp"
   ]
  },
  {
   "cell_type": "code",
   "execution_count": 6,
   "id": "3cc6c794",
   "metadata": {},
   "outputs": [],
   "source": [
    "test_expr = \"1 + {2 * [(3 + 4 : 2) + 5] * 6} - [7 + (1 + 8) : 3] * [9 : (2 + 1) + 2]#\"\n",
    "test_pow = \"2^(3+4^5:2^7)#\"\n",
    "test_frac_1 = \"(2+4)/(3+4)#\"\n",
    "test_riassuntivo = \"3 + 13 * ~(1+3) / (2^(1+4) - 6)#\"\n",
    "test_parentesi_semplice = \"3/(4+2) + 2 * {3:(4+5) + 2^(6*1/2)}-(2*[5*(3+4)+5]-1)/6#\"\n",
    "test_parentesi_libere = \"3/(4+2) + 2 * (3:(4+5) + 2^(6*1/2))-(2*(5*(3+4)+5)-1)/6#\"\n",
    "test_parentesi_libere2 = \"3/(4+2) + 2 * (3:(4+5) : 2^(6*1/2))-(2*(5*(3+4)+5)-1)/6#\"\n",
    "test_rapido = \"3 + 3 + 8 + 6 * 2#\"\n",
    "test_segni_unari_multipli = \"---3 + -56 * -(-(-(5)))#\"\n",
    "test_lungo = \"-19 + 4 * 45 / {12^[3+60/6:5] - 7/4 + 3 * (13 - 5 * -2^3)} * 22 / 143 - [13^2/45*3+3/(7+3^2)] : 3 - 1 + {12^(3+4)/12 + [5 - 3*4 + -(4^(9/3))]}#\""
   ]
  },
  {
   "cell_type": "code",
   "execution_count": 7,
   "id": "2470ef71",
   "metadata": {},
   "outputs": [],
   "source": [
    "n = sy.parse_expr(test_lungo, 'Q')\n",
    "simpler = smp(n)\n",
    "# nodo2tree(n)"
   ]
  },
  {
   "cell_type": "code",
   "execution_count": 8,
   "id": "3cc7faed",
   "metadata": {},
   "outputs": [
    {
     "data": {
      "text/latex": [
       "$\\displaystyle \\begin{align}&- 19 + 4 \\times \\frac{45} {12 ^ {3 + \\frac{60} {6} : 5} - \\frac{7} {4} + 3 \\times \\left( 13 - 5 \\times - 2 ^ {3} \\right)} \\times \\frac{22} {143} - \\left[ \\frac{13 ^ {2}} {45} \\times 3 + \\frac{3} {7 + 3 ^ {2}} \\right] : 3 - 1 + \\left\\{ \\frac{12 ^ {3 + 4}} {12} + \\left[ 5 - 3 \\times 4 + - \\left( 4 ^ {\\frac{9} {3}} \\right) \\right] \\right\\}\\\\&- 19 + 4 \\times \\frac{45} {12 ^ {3 + \\frac{60} {6} : 5} - \\frac{7} {4} + 3 \\times \\color{blue} {\\left( 13 - 5 \\times - \\color{red} {\\boxed{2 ^ {3}}} \\right)}} \\times \\frac{22} {143} - \\left[ \\frac{13 ^ {2}} {45} \\times 3 + \\frac{3} {7 + 3 ^ {2}} \\right] : 3 - 1 + \\left\\{ \\frac{12 ^ {3 + 4}} {12} + \\left[ 5 - 3 \\times 4 + - \\left( 4 ^ {\\frac{9} {3}} \\right) \\right] \\right\\}\\\\&- 19 + 4 \\times \\frac{45} {12 ^ {3 + \\frac{60} {6} : 5} - \\frac{7} {4} + 3 \\times \\color{blue} {\\left( 13 - 5 \\times \\color{red} {\\boxed{- \\color{green} {\\boxed{8}}}} \\right)}} \\times \\frac{22} {143} - \\left[ \\frac{13 ^ {2}} {45} \\times 3 + \\frac{3} {7 + 3 ^ {2}} \\right] : 3 - 1 + \\left\\{ \\frac{12 ^ {3 + 4}} {12} + \\left[ 5 - 3 \\times 4 + - \\left( 4 ^ {\\frac{9} {3}} \\right) \\right] \\right\\}\\\\&- 19 + 4 \\times \\frac{45} {12 ^ {3 + \\frac{60} {6} : 5} - \\frac{7} {4} + 3 \\times \\color{blue} {\\left( 13 - \\color{red} {\\boxed{5 \\times \\color{green} {\\boxed{-8}}}} \\right)}} \\times \\frac{22} {143} - \\left[ \\frac{13 ^ {2}} {45} \\times 3 + \\frac{3} {7 + 3 ^ {2}} \\right] : 3 - 1 + \\left\\{ \\frac{12 ^ {3 + 4}} {12} + \\left[ 5 - 3 \\times 4 + - \\left( 4 ^ {\\frac{9} {3}} \\right) \\right] \\right\\}\\\\&- 19 + 4 \\times \\frac{45} {12 ^ {3 + \\frac{60} {6} : 5} - \\frac{7} {4} + 3 \\times \\color{blue} {\\left( \\color{red} {\\boxed{13 - \\color{green} {\\boxed{-40}}}} \\right)}} \\times \\frac{22} {143} - \\left[ \\frac{13 ^ {2}} {45} \\times 3 + \\frac{3} {7 + 3 ^ {2}} \\right] : 3 - 1 + \\left\\{ \\frac{12 ^ {3 + 4}} {12} + \\left[ 5 - 3 \\times 4 + - \\left( 4 ^ {\\frac{9} {3}} \\right) \\right] \\right\\}\\\\&- 19 + 4 \\times \\frac{45} {12 ^ {3 + \\frac{60} {6} : 5} - \\frac{7} {4} + 3 \\times \\color{green} {\\boxed{53}}} \\times \\frac{22} {143} - \\left[ \\frac{13 ^ {2}} {45} \\times 3 + \\frac{3} {7 + 3 ^ {2}} \\right] : 3 - 1 + \\left\\{ \\frac{12 ^ {3 + 4}} {12} + \\left[ 5 - 3 \\times 4 + - \\color{blue} {\\left( 4 ^ {\\color{red} {\\boxed{\\frac{9} {3}}}} \\right)} \\right] \\right\\}\\\\&- 19 + 4 \\times \\frac{45} {12 ^ {3 + \\frac{60} {6} : 5} - \\frac{7} {4} + 3 \\times 53} \\times \\frac{22} {143} - \\left[ \\frac{13 ^ {2}} {45} \\times 3 + \\frac{3} {7 + 3 ^ {2}} \\right] : 3 - 1 + \\left\\{ \\frac{12 ^ {3 + 4}} {12} + \\left[ 5 - 3 \\times 4 + - \\color{blue} {\\left( \\color{red} {\\boxed{4 ^ {\\color{green} {\\boxed{3}}}}} \\right)} \\right] \\right\\}\\\\&- 19 + 4 \\times \\frac{45} {12 ^ {3 + \\frac{60} {6} : 5} - \\frac{7} {4} + 3 \\times 53} \\times \\frac{22} {143} - \\color{blue} {\\left[ \\frac{\\color{red} {\\boxed{13 ^ {2}}}} {45} \\times 3 + \\frac{3} {7 + 3 ^ {2}} \\right]} : 3 - 1 + \\left\\{ \\frac{12 ^ {3 + 4}} {12} + \\left[ 5 - 3 \\times 4 + - \\color{green} {\\boxed{64}} \\right] \\right\\}\\\\&- 19 + 4 \\times \\frac{45} {12 ^ {3 + \\frac{60} {6} : 5} - \\frac{7} {4} + 3 \\times 53} \\times \\frac{22} {143} - \\color{blue} {\\left[ \\color{red} {\\boxed{\\frac{\\color{green} {\\boxed{169}}} {45}}} \\times 3 + \\frac{3} {7 + 3 ^ {2}} \\right]} : 3 - 1 + \\left\\{ \\frac{12 ^ {3 + 4}} {12} + \\left[ 5 - 3 \\times 4 + - 64 \\right] \\right\\}\\\\&- 19 + 4 \\times \\frac{45} {12 ^ {3 + \\frac{60} {6} : 5} - \\frac{7} {4} + 3 \\times 53} \\times \\frac{22} {143} - \\color{blue} {\\left[ \\color{red} {\\boxed{\\color{green} {\\boxed{\\frac{169} {45}}} \\times 3}} + \\frac{3} {7 + 3 ^ {2}} \\right]} : 3 - 1 + \\left\\{ \\frac{12 ^ {3 + 4}} {12} + \\left[ 5 - 3 \\times 4 + - 64 \\right] \\right\\}\\\\&- 19 + 4 \\times \\frac{45} {12 ^ {3 + \\frac{60} {6} : 5} - \\frac{7} {4} + 3 \\times 53} \\times \\frac{22} {143} - \\color{blue} {\\left[ \\color{green} {\\boxed{\\frac{169} {15}}} + \\frac{3} {7 + \\color{red} {\\boxed{3 ^ {2}}}} \\right]} : 3 - 1 + \\left\\{ \\frac{12 ^ {3 + 4}} {12} + \\left[ 5 - 3 \\times 4 + - 64 \\right] \\right\\}\\\\&- 19 + 4 \\times \\frac{45} {12 ^ {3 + \\frac{60} {6} : 5} - \\frac{7} {4} + 3 \\times 53} \\times \\frac{22} {143} - \\color{blue} {\\left[ \\frac{169} {15} + \\frac{3} {\\color{red} {\\boxed{7 + \\color{green} {\\boxed{9}}}}} \\right]} : 3 - 1 + \\left\\{ \\frac{12 ^ {3 + 4}} {12} + \\left[ 5 - 3 \\times 4 + - 64 \\right] \\right\\}\\\\&- 19 + 4 \\times \\frac{45} {12 ^ {3 + \\frac{60} {6} : 5} - \\frac{7} {4} + 3 \\times 53} \\times \\frac{22} {143} - \\color{blue} {\\left[ \\frac{169} {15} + \\color{red} {\\boxed{\\frac{3} {\\color{green} {\\boxed{16}}}}} \\right]} : 3 - 1 + \\left\\{ \\frac{12 ^ {3 + 4}} {12} + \\left[ 5 - 3 \\times 4 + - 64 \\right] \\right\\}\\\\&- 19 + 4 \\times \\frac{45} {12 ^ {3 + \\frac{60} {6} : 5} - \\frac{7} {4} + 3 \\times 53} \\times \\frac{22} {143} - \\color{blue} {\\left[ \\color{red} {\\boxed{\\frac{169} {15} + \\color{green} {\\boxed{\\frac{3} {16}}}}} \\right]} : 3 - 1 + \\left\\{ \\frac{12 ^ {3 + 4}} {12} + \\left[ 5 - 3 \\times 4 + - 64 \\right] \\right\\}\\\\&- 19 + 4 \\times \\frac{45} {12 ^ {3 + \\frac{60} {6} : 5} - \\frac{7} {4} + 3 \\times 53} \\times \\frac{22} {143} - \\color{green} {\\boxed{\\frac{2749} {240}}} : 3 - 1 + \\left\\{ \\frac{12 ^ {3 + 4}} {12} + \\color{blue} {\\left[ 5 - \\color{red} {\\boxed{3 \\times 4}} + - 64 \\right]} \\right\\}\\\\&- 19 + 4 \\times \\frac{45} {12 ^ {3 + \\frac{60} {6} : 5} - \\frac{7} {4} + 3 \\times 53} \\times \\frac{22} {143} - \\frac{2749} {240} : 3 - 1 + \\left\\{ \\frac{12 ^ {3 + 4}} {12} + \\color{blue} {\\left[ 5 - \\color{green} {\\boxed{12}} + \\color{red} {\\boxed{- 64}} \\right]} \\right\\}\\\\&- 19 + 4 \\times \\frac{45} {12 ^ {3 + \\frac{60} {6} : 5} - \\frac{7} {4} + 3 \\times 53} \\times \\frac{22} {143} - \\frac{2749} {240} : 3 - 1 + \\left\\{ \\frac{12 ^ {3 + 4}} {12} + \\color{blue} {\\left[ 5 - \\color{red} {\\boxed{12 + \\color{green} {\\boxed{-64}}}} \\right]} \\right\\}\\\\&- 19 + 4 \\times \\frac{45} {12 ^ {3 + \\frac{60} {6} : 5} - \\frac{7} {4} + 3 \\times 53} \\times \\frac{22} {143} - \\frac{2749} {240} : 3 - 1 + \\left\\{ \\frac{12 ^ {3 + 4}} {12} + \\color{blue} {\\left[ \\color{red} {\\boxed{5 - \\color{green} {\\boxed{-52}}}} \\right]} \\right\\}\\\\&- 19 + 4 \\times \\frac{45} {12 ^ {3 + \\frac{60} {6} : 5} - \\frac{7} {4} + 3 \\times 53} \\times \\frac{22} {143} - \\frac{2749} {240} : 3 - 1 + \\color{blue} {\\left\\{ \\frac{12 ^ {\\color{red} {\\boxed{3 + 4}}}} {12} + \\color{green} {\\boxed{57}} \\right\\}}\\\\&- 19 + 4 \\times \\frac{45} {12 ^ {3 + \\frac{60} {6} : 5} - \\frac{7} {4} + 3 \\times 53} \\times \\frac{22} {143} - \\frac{2749} {240} : 3 - 1 + \\color{blue} {\\left\\{ \\frac{\\color{red} {\\boxed{12 ^ {\\color{green} {\\boxed{7}}}}}} {12} + 57 \\right\\}}\\\\&- 19 + 4 \\times \\frac{45} {12 ^ {3 + \\frac{60} {6} : 5} - \\frac{7} {4} + 3 \\times 53} \\times \\frac{22} {143} - \\frac{2749} {240} : 3 - 1 + \\color{blue} {\\left\\{ \\color{red} {\\boxed{\\frac{\\color{green} {\\boxed{35831808}}} {12}}} + 57 \\right\\}}\\\\&- 19 + 4 \\times \\frac{45} {12 ^ {3 + \\frac{60} {6} : 5} - \\frac{7} {4} + 3 \\times 53} \\times \\frac{22} {143} - \\frac{2749} {240} : 3 - 1 + \\color{blue} {\\left\\{ \\color{red} {\\boxed{\\color{green} {\\boxed{2985984}} + 57}} \\right\\}}\\\\&\\color{red} {\\boxed{- 19}} + 4 \\times \\frac{45} {12 ^ {3 + \\frac{60} {6} : 5} - \\frac{7} {4} + 3 \\times 53} \\times \\frac{22} {143} - \\frac{2749} {240} : 3 - 1 + \\color{green} {\\boxed{2986041}}\\\\&\\color{green} {\\boxed{-19}} + 4 \\times \\frac{45} {12 ^ {3 + \\color{red} {\\boxed{\\frac{60} {6}}} : 5} - \\frac{7} {4} + 3 \\times 53} \\times \\frac{22} {143} - \\frac{2749} {240} : 3 - 1 + 2986041\\\\&-19 + 4 \\times \\frac{45} {12 ^ {3 + \\color{red} {\\boxed{\\color{green} {\\boxed{10}} : 5}}} - \\frac{7} {4} + 3 \\times 53} \\times \\frac{22} {143} - \\frac{2749} {240} : 3 - 1 + 2986041\\\\&-19 + 4 \\times \\frac{45} {12 ^ {\\color{red} {\\boxed{3 + \\color{green} {\\boxed{2}}}}} - \\frac{7} {4} + 3 \\times 53} \\times \\frac{22} {143} - \\frac{2749} {240} : 3 - 1 + 2986041\\\\&-19 + 4 \\times \\frac{45} {\\color{red} {\\boxed{12 ^ {\\color{green} {\\boxed{5}}}}} - \\frac{7} {4} + 3 \\times 53} \\times \\frac{22} {143} - \\frac{2749} {240} : 3 - 1 + 2986041\\\\&-19 + 4 \\times \\frac{45} {\\color{green} {\\boxed{248832}} - \\color{red} {\\boxed{\\frac{7} {4}}} + 3 \\times 53} \\times \\frac{22} {143} - \\frac{2749} {240} : 3 - 1 + 2986041\\\\&-19 + 4 \\times \\frac{45} {248832 - \\color{green} {\\boxed{\\frac{7} {4}}} + \\color{red} {\\boxed{3 \\times 53}}} \\times \\frac{22} {143} - \\frac{2749} {240} : 3 - 1 + 2986041\\\\&-19 + 4 \\times \\frac{45} {248832 - \\color{red} {\\boxed{\\frac{7} {4} + \\color{green} {\\boxed{159}}}}} \\times \\frac{22} {143} - \\frac{2749} {240} : 3 - 1 + 2986041\\\\&-19 + 4 \\times \\frac{45} {\\color{red} {\\boxed{248832 - \\color{green} {\\boxed{\\frac{643} {4}}}}}} \\times \\frac{22} {143} - \\frac{2749} {240} : 3 - 1 + 2986041\\\\&-19 + 4 \\times \\color{red} {\\boxed{\\frac{45} {\\color{green} {\\boxed{\\frac{994685} {4}}}}}} \\times \\frac{22} {143} - \\frac{2749} {240} : 3 - 1 + 2986041\\\\&-19 + 4 \\times \\color{green} {\\boxed{\\frac{36} {198937}}} \\times \\color{red} {\\boxed{\\frac{22} {143}}} - \\frac{2749} {240} : 3 - 1 + 2986041\\\\&-19 + \\color{red} {\\boxed{4 \\times \\frac{36} {198937} \\times \\color{green} {\\boxed{\\frac{2} {13}}}}} - \\frac{2749} {240} : 3 - 1 + 2986041\\\\&-19 + \\color{green} {\\boxed{\\frac{288} {2586181}}} - \\color{red} {\\boxed{\\frac{2749} {240} : 3}} - 1 + 2986041\\\\&-19 + \\frac{288} {2586181} - \\color{green} {\\boxed{\\frac{2749} {720}}} - \\color{red} {\\boxed{1 + 2986041}}\\\\&-19 + \\color{red} {\\boxed{\\frac{288} {2586181} - \\frac{2749} {720} - \\color{green} {\\boxed{2986042}}}}\\\\&\\color{red} {\\boxed{-19 + \\color{green} {\\boxed{\\frac{5560153352429231} {1862050320}}}}}\\\\&\\color{green} {\\boxed{\\frac{5560117973473151} {1862050320}}}\\end{align}$"
      ],
      "text/plain": [
       "<IPython.core.display.Math object>"
      ]
     },
     "execution_count": 8,
     "metadata": {},
     "output_type": "execute_result"
    }
   ],
   "source": [
    "texts = simpler.solve()\n",
    "text = '\\\\\\\\&'.join(texts)\n",
    "text = \"\\\\begin{align}\" + text + \"\\end{align}\"\n",
    "show_latex(text)"
   ]
  },
  {
   "cell_type": "code",
   "execution_count": 9,
   "id": "2fed8427",
   "metadata": {},
   "outputs": [],
   "source": [
    "def string2latex(s):\n",
    "    n = sy.parse_expr(s, 'Q')\n",
    "    simpler = smp(n)\n",
    "    texts = simpler.solve()\n",
    "    text = '\\\\\\\\&'.join(texts)\n",
    "    text = \"\\\\begin{align}\" + text + \"\\end{align}\"\n",
    "    return text"
   ]
  },
  {
   "cell_type": "code",
   "execution_count": 10,
   "id": "d411f67c",
   "metadata": {},
   "outputs": [],
   "source": [
    "casi_semplici = [\"(2+4)/(3+4)#\", \"2/3/4#\", \"5/(6/7)#\", \"(2*3+4)/5#\", \"2/(3+4/5)#\", \"(((2+3)/4)/(5+6))/7#\"]\n",
    "potenze = [\"-2^(-2)\", \"(1/2)^3\"]"
   ]
  },
  {
   "cell_type": "code",
   "execution_count": 11,
   "id": "0993b902",
   "metadata": {},
   "outputs": [
    {
     "name": "stdout",
     "output_type": "stream",
     "text": [
      "-2^(-2) ok\n",
      "(1/2)^3 ok\n"
     ]
    }
   ],
   "source": [
    "lista_di_latex = []\n",
    "for t in potenze:\n",
    "    lista_di_latex.append(string2latex(t))\n",
    "    print(t, \"ok\")"
   ]
  },
  {
   "cell_type": "code",
   "execution_count": 12,
   "id": "d0d74660",
   "metadata": {},
   "outputs": [
    {
     "data": {
      "text/latex": [
       "$\\displaystyle \\begin{align}&\\frac{1} {2} ^ {3}\\\\&\\color{red} {\\boxed{\\frac{1} {2}}} ^ {3}\\\\&\\color{red} {\\boxed{\\color{green} {\\boxed{\\frac{1} {2}}} ^ {3}}}\\\\&\\color{green} {\\boxed{\\frac{1} {8}}}\\end{align}$"
      ],
      "text/plain": [
       "<IPython.core.display.Math object>"
      ]
     },
     "execution_count": 12,
     "metadata": {},
     "output_type": "execute_result"
    }
   ],
   "source": [
    "show_latex(lista_di_latex[1])"
   ]
  },
  {
   "cell_type": "code",
   "execution_count": 13,
   "id": "312a6267",
   "metadata": {},
   "outputs": [
    {
     "data": {
      "text/plain": [
       "['\\\\begin{align}&- 2 ^ {- 2}\\\\\\\\&- 2 ^ {\\\\color{red} {\\\\boxed{- 2}}}\\\\\\\\&- \\\\color{red} {\\\\boxed{2 ^ {\\\\color{green} {\\\\boxed{-2}}}}}\\\\\\\\&\\\\color{red} {\\\\boxed{- \\\\color{green} {\\\\boxed{0.25}}}}\\\\\\\\&\\\\color{green} {\\\\boxed{-0.25}}\\\\end{align}',\n",
       " '\\\\begin{align}&\\\\frac{1} {2} ^ {3}\\\\\\\\&\\\\color{red} {\\\\boxed{\\\\frac{1} {2}}} ^ {3}\\\\\\\\&\\\\color{red} {\\\\boxed{\\\\color{green} {\\\\boxed{\\\\frac{1} {2}}} ^ {3}}}\\\\\\\\&\\\\color{green} {\\\\boxed{\\\\frac{1} {8}}}\\\\end{align}']"
      ]
     },
     "execution_count": 13,
     "metadata": {},
     "output_type": "execute_result"
    }
   ],
   "source": [
    "lista_di_latex"
   ]
  },
  {
   "cell_type": "code",
   "execution_count": 14,
   "id": "d0a8220d",
   "metadata": {},
   "outputs": [],
   "source": [
    "n = sy.parse_expr(casi_semplici[5], 'Q')\n",
    "simpler = smp(n)\n"
   ]
  },
  {
   "cell_type": "code",
   "execution_count": 15,
   "id": "308a0b48",
   "metadata": {},
   "outputs": [
    {
     "ename": "NameError",
     "evalue": "name 'nodo2tree' is not defined",
     "output_type": "error",
     "traceback": [
      "\u001b[0;31m-------------------------------------------------------------------------\u001b[0m",
      "\u001b[0;31mNameError\u001b[0m                               Traceback (most recent call last)",
      "\u001b[0;32m<ipython-input-15-b962d636ec60>\u001b[0m in \u001b[0;36m<module>\u001b[0;34m\u001b[0m\n\u001b[0;32m----> 1\u001b[0;31m \u001b[0mnodo2tree\u001b[0m\u001b[0;34m(\u001b[0m\u001b[0mn\u001b[0m\u001b[0;34m)\u001b[0m\u001b[0;34m\u001b[0m\u001b[0;34m\u001b[0m\u001b[0m\n\u001b[0m",
      "\u001b[0;31mNameError\u001b[0m: name 'nodo2tree' is not defined"
     ]
    }
   ],
   "source": [
    "nodo2tree(n)"
   ]
  },
  {
   "cell_type": "code",
   "execution_count": null,
   "id": "ebb88c12",
   "metadata": {},
   "outputs": [],
   "source": []
  }
 ],
 "metadata": {
  "kernelspec": {
   "display_name": "Python 3",
   "language": "python",
   "name": "python3"
  },
  "language_info": {
   "codemirror_mode": {
    "name": "ipython",
    "version": 3
   },
   "file_extension": ".py",
   "mimetype": "text/x-python",
   "name": "python",
   "nbconvert_exporter": "python",
   "pygments_lexer": "ipython3",
   "version": "3.9.5"
  }
 },
 "nbformat": 4,
 "nbformat_minor": 5
}
