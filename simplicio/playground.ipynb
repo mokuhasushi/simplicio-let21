{
 "cells": [
  {
   "cell_type": "code",
   "execution_count": 1,
   "id": "7c7b960a",
   "metadata": {},
   "outputs": [],
   "source": [
    "%load_ext autoreload"
   ]
  },
  {
   "cell_type": "code",
   "execution_count": 2,
   "id": "61962af0",
   "metadata": {},
   "outputs": [],
   "source": [
    "%autoreload 2"
   ]
  },
  {
   "cell_type": "code",
   "execution_count": 3,
   "id": "6ea4a10b",
   "metadata": {},
   "outputs": [],
   "source": [
    "from utilities import nodo2tree\n",
    "import shuntingyard as sy\n",
    "import importlib\n",
    "from IPython.display import Math as show_latex"
   ]
  },
  {
   "cell_type": "code",
   "execution_count": 7,
   "id": "3eb97f9c",
   "metadata": {},
   "outputs": [],
   "source": [
    "from semplificatore import Semplificatore as smp"
   ]
  },
  {
   "cell_type": "code",
   "execution_count": 16,
   "id": "3cc6c794",
   "metadata": {},
   "outputs": [],
   "source": [
    "test_expr = \"1 + {2 * [(3 + 4 : 2) + 5] * 6} - [7 + (1 + 8) : 3] * [9 : (2 + 1) + 2]#\"\n",
    "test_pow = \"2^(3+4^5:2^7)#\"\n",
    "test_frac_1 = \"(2+4)/(3+4)#\"\n",
    "test_riassuntivo = \"3 + 13 * ~(1+3) / (2^(1+4) - 6)#\"\n",
    "test_parentesi_semplice = \"3/(4+2) + 2 * {3:(4+5) + 2^(6*1/2)}-(2*[5*(3+4)+5]-1)/6#\"\n",
    "test_parentesi_libere = \"3/(4+2) + 2 * (3:(4+5) + 2^(6*1/2))-(2*(5*(3+4)+5)-1)/6#\"\n",
    "test_parentesi_libere2 = \"3/(4+2) + 2 * (3:(4+5) : 2^(6*1/2))-(2*(5*(3+4)+5)-1)/6#\""
   ]
  },
  {
   "cell_type": "code",
   "execution_count": 17,
   "id": "2470ef71",
   "metadata": {},
   "outputs": [
    {
     "data": {
      "text/plain": [
       "{'Nodo': [],\n",
       " 'ParentesiTonde': [13, 22, 31, 34],\n",
       " 'ParentesiQuadre': [],\n",
       " 'ParentesiGraffe': [],\n",
       " 'Addizione': [3, 11, 29, 32, 5],\n",
       " 'Sottrazione': [35, 23],\n",
       " 'Moltiplicazione': [18, 7, 27, 25],\n",
       " 'Divisione': [14, 9],\n",
       " 'MenoUnario': [],\n",
       " 'Frazione': [1, 20, 37],\n",
       " 'Potenza': [16],\n",
       " 'Numero': [0, 2, 4, 6, 8, 10, 12, 15, 17, 19, 21, 24, 26, 28, 30, 33, 36, 38]}"
      ]
     },
     "execution_count": 17,
     "metadata": {},
     "output_type": "execute_result"
    }
   ],
   "source": [
    "n = sy.parse_expr(test_parentesi_libere2, 'Q')\n",
    "simpler = smp(n)\n",
    "# nodo2tree(n)"
   ]
  },
  {
   "cell_type": "code",
   "execution_count": 18,
   "id": "3cc7faed",
   "metadata": {},
   "outputs": [
    {
     "name": "stdout",
     "output_type": "stream",
     "text": [
      "13\n",
      "22\n",
      "31\n",
      "34\n"
     ]
    },
    {
     "data": {
      "text/latex": [
       "$\\displaystyle \\begin{align}&\\frac{3} {4 + 2} + 2 \\times \\left( 3 : \\left( 4 + 5 \\right) : 2 ^ {6 \\times \\frac{1} {2}} \\right) - \\frac{2 \\times \\left( 5 \\times \\left( 3 + 4 \\right) + 5 \\right) - 1} {6}\\\\&\\frac{3} {4 + 2} + 2 \\times \\left( 3 : \\color{blue} {\\left( \\color{red} {\\boxed{4 + 5}} \\right)} : 2 ^ {6 \\times \\frac{1} {2}} \\right) - \\frac{2 \\times \\left( 5 \\times \\left( 3 + 4 \\right) + 5 \\right) - 1} {6}\\\\&\\frac{3} {4 + 2} + 2 \\times \\color{blue} {\\left( 3 : \\color{green} {\\boxed{9}} : 2 ^ {6 \\times \\color{red} {\\boxed{\\frac{1} {2}}}} \\right)} - \\frac{2 \\times \\left( 5 \\times \\left( 3 + 4 \\right) + 5 \\right) - 1} {6}\\\\&\\frac{3} {4 + 2} + 2 \\times \\color{blue} {\\left( 3 : 9 : 2 ^ {\\color{red} {\\boxed{6 \\times \\color{green} {\\boxed{\\frac{1} {2}}}}}} \\right)} - \\frac{2 \\times \\left( 5 \\times \\left( 3 + 4 \\right) + 5 \\right) - 1} {6}\\\\&\\frac{3} {4 + 2} + 2 \\times \\color{blue} {\\left( 3 : 9 : \\color{red} {\\boxed{2 ^ {\\color{green} {\\boxed{3}}}}} \\right)} - \\frac{2 \\times \\left( 5 \\times \\left( 3 + 4 \\right) + 5 \\right) - 1} {6}\\\\&\\frac{3} {4 + 2} + 2 \\times \\color{blue} {\\left( 3 : \\color{red} {\\boxed{9 : \\color{green} {\\boxed{8}}}} \\right)} - \\frac{2 \\times \\left( 5 \\times \\left( 3 + 4 \\right) + 5 \\right) - 1} {6}\\\\&\\frac{3} {4 + 2} + 2 \\times \\color{blue} {\\left( 3 : \\color{red} {\\boxed{\\frac{9} {8}}} \\right)} - \\frac{2 \\times \\left( 5 \\times \\left( 3 + 4 \\right) + 5 \\right) - 1} {6}\\\\&\\frac{3} {4 + 2} + 2 \\times \\color{blue} {\\left( \\color{red} {\\boxed{3 : \\color{green} {\\boxed{\\frac{9} {8}}}}} \\right)} - \\frac{2 \\times \\left( 5 \\times \\left( 3 + 4 \\right) + 5 \\right) - 1} {6}\\\\&\\frac{3} {4 + 2} + 2 \\times \\color{blue} {\\left( \\color{red} {\\boxed{3 : \\frac{9} {8}}} \\right)} - \\frac{2 \\times \\left( 5 \\times \\left( 3 + 4 \\right) + 5 \\right) - 1} {6}\\\\&\\frac{3} {4 + 2} + 2 \\times \\color{green} {\\boxed{\\frac{8} {3}}} - \\frac{2 \\times \\left( 5 \\times \\color{blue} {\\left( \\color{red} {\\boxed{3 + 4}} \\right)} + 5 \\right) - 1} {6}\\\\&\\frac{3} {4 + 2} + 2 \\times \\frac{8} {3} - \\frac{2 \\times \\color{blue} {\\left( \\color{red} {\\boxed{5 \\times \\color{green} {\\boxed{7}}}} + 5 \\right)} - 1} {6}\\\\&\\frac{3} {4 + 2} + 2 \\times \\frac{8} {3} - \\frac{2 \\times \\color{blue} {\\left( \\color{red} {\\boxed{\\color{green} {\\boxed{35}} + 5}} \\right)} - 1} {6}\\\\&\\frac{3} {\\color{red} {\\boxed{4 + 2}}} + 2 \\times \\frac{8} {3} - \\frac{2 \\times \\color{green} {\\boxed{40}} - 1} {6}\\\\&\\color{red} {\\boxed{\\frac{3} {\\color{green} {\\boxed{6}}}}} + 2 \\times \\frac{8} {3} - \\frac{2 \\times 40 - 1} {6}\\\\&\\color{green} {\\boxed{\\frac{1} {2}}} + \\color{red} {\\boxed{2 \\times \\frac{8} {3}}} - \\frac{2 \\times 40 - 1} {6}\\\\&\\frac{1} {2} + \\color{red} {\\boxed{\\frac{16} {3}}} - \\frac{2 \\times 40 - 1} {6}\\\\&\\frac{1} {2} + \\color{green} {\\boxed{\\frac{16} {3}}} - \\frac{\\color{red} {\\boxed{2 \\times 40}} - 1} {6}\\\\&\\frac{1} {2} + \\frac{16} {3} - \\frac{\\color{red} {\\boxed{\\color{green} {\\boxed{80}} - 1}}} {6}\\\\&\\frac{1} {2} + \\frac{16} {3} - \\color{red} {\\boxed{\\frac{\\color{green} {\\boxed{79}}} {6}}}\\\\&\\frac{1} {2} + \\color{red} {\\boxed{\\frac{16} {3} - \\color{green} {\\boxed{\\frac{79} {6}}}}}\\\\&\\frac{1} {2} + \\color{red} {\\boxed{\\frac{-47} {6}}}\\\\&\\color{red} {\\boxed{\\frac{1} {2} + \\color{green} {\\boxed{\\frac{-47} {6}}}}}\\\\&\\color{red} {\\boxed{\\frac{1} {2} + \\frac{-47} {6}}}\\\\&\\color{green} {\\boxed{\\frac{-22} {3}}}\\end{align}$"
      ],
      "text/plain": [
       "<IPython.core.display.Math object>"
      ]
     },
     "execution_count": 18,
     "metadata": {},
     "output_type": "execute_result"
    }
   ],
   "source": [
    "texts = simpler.solve()\n",
    "text = '\\\\\\\\&'.join(texts)\n",
    "text = \"\\\\begin{align}\" + text + \"\\end{align}\"\n",
    "show_latex(text)"
   ]
  },
  {
   "cell_type": "code",
   "execution_count": null,
   "id": "4cda9c51",
   "metadata": {},
   "outputs": [],
   "source": [
    "print(simpler.root.get_latex())\n",
    "print(  )\n",
    "print(simpler.nodes_type2node_id)\n",
    "print(  )\n",
    "print(texts)\n",
    "print(  )\n",
    "show_latex(simpler.root.get_latex())"
   ]
  },
  {
   "cell_type": "code",
   "execution_count": null,
   "id": "2fed8427",
   "metadata": {},
   "outputs": [],
   "source": [
    "def string2latex(s):\n",
    "    n = sy.parse_expr(s, 'Q')\n",
    "    simpler = smp(n)\n",
    "    texts = simpler.solve()\n",
    "    text = '\\\\\\\\&'.join(texts)\n",
    "    text = \"\\\\begin{align}\" + text + \"\\end{align}\"\n",
    "    return text"
   ]
  },
  {
   "cell_type": "code",
   "execution_count": null,
   "id": "d411f67c",
   "metadata": {},
   "outputs": [],
   "source": [
    "casi_semplici = [\"(2+4)/(3+4)#\", \"2/3/4#\", \"5/(6/7)#\", \"(2*3+4)/5#\", \"2/(3+4/5)#\", \"(((2+3)/4)/(5+6))/7#\"]"
   ]
  },
  {
   "cell_type": "code",
   "execution_count": null,
   "id": "0993b902",
   "metadata": {},
   "outputs": [],
   "source": [
    "lista_di_latex = []\n",
    "for t in casi_semplici:\n",
    "    lista_di_latex.append(string2latex(t))\n",
    "    print(t, \"ok\")"
   ]
  },
  {
   "cell_type": "code",
   "execution_count": null,
   "id": "312a6267",
   "metadata": {},
   "outputs": [],
   "source": [
    "lista_di_latex"
   ]
  },
  {
   "cell_type": "code",
   "execution_count": null,
   "id": "d0d74660",
   "metadata": {},
   "outputs": [],
   "source": [
    "show_latex(lista_di_latex[5])"
   ]
  },
  {
   "cell_type": "code",
   "execution_count": null,
   "id": "d0a8220d",
   "metadata": {},
   "outputs": [],
   "source": [
    "n = sy.parse_expr(casi_semplici[5], 'Q')\n",
    "simpler = smp(n)\n"
   ]
  },
  {
   "cell_type": "code",
   "execution_count": null,
   "id": "d14edd26",
   "metadata": {},
   "outputs": [],
   "source": [
    "nodo2tree(n)"
   ]
  },
  {
   "cell_type": "code",
   "execution_count": null,
   "id": "9c43620c",
   "metadata": {},
   "outputs": [],
   "source": []
  }
 ],
 "metadata": {
  "kernelspec": {
   "display_name": "Python 3",
   "language": "python",
   "name": "python3"
  },
  "language_info": {
   "codemirror_mode": {
    "name": "ipython",
    "version": 3
   },
   "file_extension": ".py",
   "mimetype": "text/x-python",
   "name": "python",
   "nbconvert_exporter": "python",
   "pygments_lexer": "ipython3",
   "version": "3.9.5"
  }
 },
 "nbformat": 4,
 "nbformat_minor": 5
}
