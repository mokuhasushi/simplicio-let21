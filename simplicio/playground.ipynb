{
 "cells": [
  {
   "cell_type": "code",
   "execution_count": 1,
   "id": "7c7b960a",
   "metadata": {},
   "outputs": [],
   "source": [
    "%load_ext autoreload"
   ]
  },
  {
   "cell_type": "code",
   "execution_count": 2,
   "id": "61962af0",
   "metadata": {},
   "outputs": [],
   "source": [
    "%autoreload 2"
   ]
  },
  {
   "cell_type": "code",
   "execution_count": 3,
   "id": "6ea4a10b",
   "metadata": {},
   "outputs": [],
   "source": [
    "from utilities import nodo2tree\n",
    "import shuntingyard as sy\n",
    "import importlib\n",
    "from IPython.display import Math as show_latex"
   ]
  },
  {
   "cell_type": "code",
   "execution_count": 4,
   "id": "3eb97f9c",
   "metadata": {},
   "outputs": [],
   "source": [
    "from semplificatore import Semplificatore as smp"
   ]
  },
  {
   "cell_type": "code",
   "execution_count": 26,
   "id": "3cc6c794",
   "metadata": {},
   "outputs": [],
   "source": [
    "test_expr = \"1 + {2 * [(3 + 4 : 2) + 5] * 6} - [7 + (1 + 8) : 3] * [9 : (2 + 1) + 2]#\"\n",
    "test_pow = \"2^(3+4^5:2^7)#\"\n",
    "test_frac_1 = \"(2+4)/(3+4)#\"\n",
    "test_riassuntivo = \"3 + 13 * -(1+3) / (2^(1+4) - 6)#\"\n",
    "test_parentesi_semplice = \"3/(4+2) + 2 * {3:(4+5) + 2^(6*1/2)}-(2*[5*(3+4)+5]-1)/6#\"\n",
    "test_parentesi_libere = \"3/(4+2) + 2 * (3:(4+5) + 2^(6*1/2))-(2*(5*(3+4)+5)-1)/6#\"\n",
    "test_parentesi_libere2 = \"3/(4+2) + 2 * (3:(4+5) : 2^(6*1/2))-(2*(5*(3+4)+5)-1)/6#\"\n",
    "test_rapido = \"3 + 3 + 8 + 6 * 2#\"\n",
    "test_segni_unari_multipli = \"---3 + -56 * -(-(-(5)))#\"\n",
    "test_lungo = \"-19 + 4 * 45 / {12^[3+60/6:5] - 7/4 + 3 * (13 - 5 * -2^3)} * 22 / 143 - [13^2/45*3+3/(7+3^2)] : 3 - 1 + {12^(3+4)/12 + [5 - 3*4 + -(4^(9/3))]}#\"\n",
    "test_frac_exp = \"(4/9)^(1/2)\"\n",
    "casi_potenze = [\"-2^(-2)\", \"(1/2)^3\", \"3^(2*1/2)\", \"2^[8/4]\"]"
   ]
  },
  {
   "cell_type": "code",
   "execution_count": 37,
   "id": "2470ef71",
   "metadata": {},
   "outputs": [],
   "source": [
    "n = sy.parse_expr(casi_potenze[0], 'Q')\n",
    "simpler = smp(n)\n",
    "# nodo2tree(n)"
   ]
  },
  {
   "cell_type": "code",
   "execution_count": 38,
   "id": "3cc7faed",
   "metadata": {},
   "outputs": [
    {
     "name": "stdout",
     "output_type": "stream",
     "text": [
      "0.25\n"
     ]
    },
    {
     "ename": "DomainException",
     "evalue": "Frazioni all'esponente non supportata!",
     "output_type": "error",
     "traceback": [
      "\u001b[0;31m-------------------------------------------------------------------------\u001b[0m",
      "\u001b[0;31mDomainException\u001b[0m                         Traceback (most recent call last)",
      "\u001b[0;32m<ipython-input-38-d6771a22e280>\u001b[0m in \u001b[0;36m<module>\u001b[0;34m\u001b[0m\n\u001b[0;32m----> 1\u001b[0;31m \u001b[0mtexts\u001b[0m \u001b[0;34m=\u001b[0m \u001b[0msimpler\u001b[0m\u001b[0;34m.\u001b[0m\u001b[0msolve\u001b[0m\u001b[0;34m(\u001b[0m\u001b[0;34m)\u001b[0m\u001b[0;34m\u001b[0m\u001b[0;34m\u001b[0m\u001b[0m\n\u001b[0m\u001b[1;32m      2\u001b[0m \u001b[0mtext\u001b[0m \u001b[0;34m=\u001b[0m \u001b[0;34m'\\\\\\\\&'\u001b[0m\u001b[0;34m.\u001b[0m\u001b[0mjoin\u001b[0m\u001b[0;34m(\u001b[0m\u001b[0mtexts\u001b[0m\u001b[0;34m)\u001b[0m\u001b[0;34m\u001b[0m\u001b[0;34m\u001b[0m\u001b[0m\n\u001b[1;32m      3\u001b[0m \u001b[0mtext\u001b[0m \u001b[0;34m=\u001b[0m \u001b[0;34m\"\\\\begin{align}\"\u001b[0m \u001b[0;34m+\u001b[0m \u001b[0mtext\u001b[0m \u001b[0;34m+\u001b[0m \u001b[0;34m\"\\end{align}\"\u001b[0m\u001b[0;34m\u001b[0m\u001b[0;34m\u001b[0m\u001b[0m\n\u001b[1;32m      4\u001b[0m \u001b[0mshow_latex\u001b[0m\u001b[0;34m(\u001b[0m\u001b[0mtext\u001b[0m\u001b[0;34m)\u001b[0m\u001b[0;34m\u001b[0m\u001b[0;34m\u001b[0m\u001b[0m\n",
      "\u001b[0;32m~/uni/linguaggietraduttori/progetto/ufficiale/simplicio/semplificatore.py\u001b[0m in \u001b[0;36msolve\u001b[0;34m(self)\u001b[0m\n\u001b[1;32m     82\u001b[0m             \u001b[0msolving\u001b[0m\u001b[0;34m.\u001b[0m\u001b[0mbox_leaf\u001b[0m\u001b[0;34m(\u001b[0m\u001b[0;34m)\u001b[0m\u001b[0;34m\u001b[0m\u001b[0;34m\u001b[0m\u001b[0m\n\u001b[1;32m     83\u001b[0m             \u001b[0mtexts\u001b[0m\u001b[0;34m.\u001b[0m\u001b[0mappend\u001b[0m\u001b[0;34m(\u001b[0m\u001b[0mself\u001b[0m\u001b[0;34m.\u001b[0m\u001b[0mroot\u001b[0m\u001b[0;34m.\u001b[0m\u001b[0mget_latex\u001b[0m\u001b[0;34m(\u001b[0m\u001b[0;34m)\u001b[0m\u001b[0;34m)\u001b[0m\u001b[0;34m\u001b[0m\u001b[0;34m\u001b[0m\u001b[0m\n\u001b[0;32m---> 84\u001b[0;31m             \u001b[0msolving\u001b[0m \u001b[0;34m=\u001b[0m \u001b[0msolving\u001b[0m\u001b[0;34m.\u001b[0m\u001b[0msolve_step\u001b[0m\u001b[0;34m(\u001b[0m\u001b[0;34m)\u001b[0m\u001b[0;34m\u001b[0m\u001b[0;34m\u001b[0m\u001b[0m\n\u001b[0m\u001b[1;32m     85\u001b[0m             \u001b[0;32mif\u001b[0m \u001b[0msolving\u001b[0m\u001b[0;34m.\u001b[0m\u001b[0mleaf\u001b[0m\u001b[0;34m:\u001b[0m\u001b[0;34m\u001b[0m\u001b[0;34m\u001b[0m\u001b[0m\n\u001b[1;32m     86\u001b[0m                 \u001b[0mself\u001b[0m\u001b[0;34m.\u001b[0m\u001b[0mroot\u001b[0m \u001b[0;34m=\u001b[0m \u001b[0msolving\u001b[0m\u001b[0;34m\u001b[0m\u001b[0;34m\u001b[0m\u001b[0m\n",
      "\u001b[0;32m~/uni/linguaggietraduttori/progetto/ufficiale/simplicio/nodi.py\u001b[0m in \u001b[0;36msolve_step\u001b[0;34m(self)\u001b[0m\n\u001b[1;32m     64\u001b[0m                 \u001b[0mself\u001b[0m\u001b[0;34m.\u001b[0m\u001b[0mchildren\u001b[0m\u001b[0;34m[\u001b[0m\u001b[0;36m1\u001b[0m\u001b[0;34m]\u001b[0m \u001b[0;34m=\u001b[0m \u001b[0mself\u001b[0m\u001b[0;34m.\u001b[0m\u001b[0mchildren\u001b[0m\u001b[0;34m[\u001b[0m\u001b[0;36m1\u001b[0m\u001b[0;34m]\u001b[0m\u001b[0;34m.\u001b[0m\u001b[0msolve_chain\u001b[0m\u001b[0;34m(\u001b[0m\u001b[0;34m)\u001b[0m\u001b[0;34m\u001b[0m\u001b[0;34m\u001b[0m\u001b[0m\n\u001b[1;32m     65\u001b[0m         \u001b[0;32melif\u001b[0m \u001b[0;32mnot\u001b[0m \u001b[0mself\u001b[0m\u001b[0;34m.\u001b[0m\u001b[0mchildren\u001b[0m\u001b[0;34m[\u001b[0m\u001b[0;36m0\u001b[0m\u001b[0;34m]\u001b[0m\u001b[0;34m.\u001b[0m\u001b[0mleaf\u001b[0m\u001b[0;34m:\u001b[0m\u001b[0;34m\u001b[0m\u001b[0;34m\u001b[0m\u001b[0m\n\u001b[0;32m---> 66\u001b[0;31m             \u001b[0mself\u001b[0m\u001b[0;34m.\u001b[0m\u001b[0mchildren\u001b[0m\u001b[0;34m[\u001b[0m\u001b[0;36m0\u001b[0m\u001b[0;34m]\u001b[0m \u001b[0;34m=\u001b[0m \u001b[0mself\u001b[0m\u001b[0;34m.\u001b[0m\u001b[0mchildren\u001b[0m\u001b[0;34m[\u001b[0m\u001b[0;36m0\u001b[0m\u001b[0;34m]\u001b[0m\u001b[0;34m.\u001b[0m\u001b[0msolve_step\u001b[0m\u001b[0;34m(\u001b[0m\u001b[0;34m)\u001b[0m\u001b[0;34m\u001b[0m\u001b[0;34m\u001b[0m\u001b[0m\n\u001b[0m\u001b[1;32m     67\u001b[0m             \u001b[0;32mreturn\u001b[0m \u001b[0mself\u001b[0m\u001b[0;34m\u001b[0m\u001b[0;34m\u001b[0m\u001b[0m\n\u001b[1;32m     68\u001b[0m         \u001b[0;32melif\u001b[0m \u001b[0mlen\u001b[0m\u001b[0;34m(\u001b[0m\u001b[0mself\u001b[0m\u001b[0;34m.\u001b[0m\u001b[0mchildren\u001b[0m\u001b[0;34m)\u001b[0m \u001b[0;34m>\u001b[0m \u001b[0;36m1\u001b[0m \u001b[0;32mand\u001b[0m \u001b[0;32mnot\u001b[0m \u001b[0mself\u001b[0m\u001b[0;34m.\u001b[0m\u001b[0mchildren\u001b[0m\u001b[0;34m[\u001b[0m\u001b[0;36m1\u001b[0m\u001b[0;34m]\u001b[0m\u001b[0;34m.\u001b[0m\u001b[0mleaf\u001b[0m\u001b[0;34m:\u001b[0m\u001b[0;34m\u001b[0m\u001b[0;34m\u001b[0m\u001b[0m\n",
      "\u001b[0;32m~/uni/linguaggietraduttori/progetto/ufficiale/simplicio/nodi.py\u001b[0m in \u001b[0;36msolve_step\u001b[0;34m(self)\u001b[0m\n\u001b[1;32m     73\u001b[0m             \u001b[0mret\u001b[0m \u001b[0;34m=\u001b[0m \u001b[0mNodoNumero\u001b[0m\u001b[0;34m(\u001b[0m\u001b[0mself\u001b[0m\u001b[0;34m.\u001b[0m\u001b[0moperate\u001b[0m\u001b[0;34m(\u001b[0m\u001b[0;34m)\u001b[0m\u001b[0;34m,\u001b[0m \u001b[0mself\u001b[0m\u001b[0;34m.\u001b[0m\u001b[0mid\u001b[0m\u001b[0;34m)\u001b[0m\u001b[0;34m\u001b[0m\u001b[0;34m\u001b[0m\u001b[0m\n\u001b[1;32m     74\u001b[0m         \u001b[0;32melse\u001b[0m\u001b[0;34m:\u001b[0m\u001b[0;34m\u001b[0m\u001b[0;34m\u001b[0m\u001b[0m\n\u001b[0;32m---> 75\u001b[0;31m             \u001b[0mret\u001b[0m \u001b[0;34m=\u001b[0m \u001b[0mself\u001b[0m\u001b[0;34m.\u001b[0m\u001b[0moperate_Q\u001b[0m\u001b[0;34m(\u001b[0m\u001b[0;34m)\u001b[0m\u001b[0;34m\u001b[0m\u001b[0;34m\u001b[0m\u001b[0m\n\u001b[0m\u001b[1;32m     76\u001b[0m         \u001b[0mret\u001b[0m\u001b[0;34m.\u001b[0m\u001b[0mboxed\u001b[0m \u001b[0;34m=\u001b[0m \u001b[0;32mTrue\u001b[0m\u001b[0;34m\u001b[0m\u001b[0;34m\u001b[0m\u001b[0m\n\u001b[1;32m     77\u001b[0m         \u001b[0mret\u001b[0m\u001b[0;34m.\u001b[0m\u001b[0mcolore\u001b[0m \u001b[0;34m=\u001b[0m \u001b[0;34m\"green\"\u001b[0m\u001b[0;34m\u001b[0m\u001b[0;34m\u001b[0m\u001b[0m\n",
      "\u001b[0;32m~/uni/linguaggietraduttori/progetto/ufficiale/simplicio/nodi.py\u001b[0m in \u001b[0;36moperate_Q\u001b[0;34m(self)\u001b[0m\n\u001b[1;32m    336\u001b[0m             \u001b[0;32mif\u001b[0m \u001b[0mint\u001b[0m\u001b[0;34m(\u001b[0m\u001b[0mvalue\u001b[0m\u001b[0;34m)\u001b[0m \u001b[0;34m!=\u001b[0m \u001b[0mvalue\u001b[0m\u001b[0;34m:\u001b[0m\u001b[0;34m\u001b[0m\u001b[0;34m\u001b[0m\u001b[0m\n\u001b[1;32m    337\u001b[0m                 \u001b[0mprint\u001b[0m\u001b[0;34m(\u001b[0m\u001b[0mvalue\u001b[0m\u001b[0;34m)\u001b[0m\u001b[0;34m\u001b[0m\u001b[0;34m\u001b[0m\u001b[0m\n\u001b[0;32m--> 338\u001b[0;31m                 \u001b[0;32mraise\u001b[0m \u001b[0mexceptions\u001b[0m\u001b[0;34m.\u001b[0m\u001b[0mDomainException\u001b[0m\u001b[0;34m(\u001b[0m\u001b[0;34m\"Frazioni all'esponente non supportata!\"\u001b[0m\u001b[0;34m)\u001b[0m\u001b[0;34m\u001b[0m\u001b[0;34m\u001b[0m\u001b[0m\n\u001b[0m\u001b[1;32m    339\u001b[0m             \u001b[0mret\u001b[0m \u001b[0;34m=\u001b[0m \u001b[0mNodoNumero\u001b[0m\u001b[0;34m(\u001b[0m\u001b[0mvalue\u001b[0m\u001b[0;34m,\u001b[0m \u001b[0mid\u001b[0m\u001b[0;34m=\u001b[0m\u001b[0mself\u001b[0m\u001b[0;34m.\u001b[0m\u001b[0mid\u001b[0m\u001b[0;34m)\u001b[0m\u001b[0;34m\u001b[0m\u001b[0;34m\u001b[0m\u001b[0m\n\u001b[1;32m    340\u001b[0m         \u001b[0;32mreturn\u001b[0m  \u001b[0mret\u001b[0m\u001b[0;34m\u001b[0m\u001b[0;34m\u001b[0m\u001b[0m\n",
      "\u001b[0;31mDomainException\u001b[0m: Frazioni all'esponente non supportata!"
     ]
    }
   ],
   "source": [
    "texts = simpler.solve()\n",
    "text = '\\\\\\\\&'.join(texts)\n",
    "text = \"\\\\begin{align}\" + text + \"\\end{align}\"\n",
    "show_latex(text)"
   ]
  },
  {
   "cell_type": "code",
   "execution_count": 8,
   "id": "2fed8427",
   "metadata": {},
   "outputs": [],
   "source": [
    "def string2latex(s):\n",
    "    n = sy.parse_expr(s, 'Q')\n",
    "    simpler = smp(n)\n",
    "    texts = simpler.solve()\n",
    "    text = '\\\\\\\\&'.join(texts)\n",
    "    text = \"\\\\begin{align}\" + text + \"\\end{align}\"\n",
    "    return text"
   ]
  },
  {
   "cell_type": "code",
   "execution_count": 9,
   "id": "d411f67c",
   "metadata": {},
   "outputs": [],
   "source": [
    "casi_semplici = [\"(2+4)/(3+4)#\", \"2/3/4#\", \"5/(6/7)#\", \"(2*3+4)/5#\", \"2/(3+4/5)#\", \"(((2+3)/4)/(5+6))/7#\"]\n",
    "potenze = [\"-2^(-2)\", \"(1/2)^3\"]"
   ]
  },
  {
   "cell_type": "code",
   "execution_count": 10,
   "id": "0993b902",
   "metadata": {},
   "outputs": [
    {
     "name": "stdout",
     "output_type": "stream",
     "text": [
      "-2^(-2) ok\n",
      "(1/2)^3 ok\n"
     ]
    }
   ],
   "source": [
    "lista_di_latex = []\n",
    "for t in potenze:\n",
    "    lista_di_latex.append(string2latex(t))\n",
    "    print(t, \"ok\")"
   ]
  },
  {
   "cell_type": "code",
   "execution_count": 11,
   "id": "d0d74660",
   "metadata": {},
   "outputs": [
    {
     "data": {
      "text/latex": [
       "$\\displaystyle \\begin{align}&\\frac{1} {2} ^ {3}\\\\&\\color{red} {\\boxed{\\frac{1} {2}}} ^ {3}\\\\&\\color{red} {\\boxed{\\color{green} {\\boxed{\\frac{1} {2}}} ^ {3}}}\\\\&\\color{green} {\\boxed{\\frac{1} {8}}}\\end{align}$"
      ],
      "text/plain": [
       "<IPython.core.display.Math object>"
      ]
     },
     "execution_count": 11,
     "metadata": {},
     "output_type": "execute_result"
    }
   ],
   "source": [
    "show_latex(lista_di_latex[1])"
   ]
  },
  {
   "cell_type": "code",
   "execution_count": 12,
   "id": "312a6267",
   "metadata": {},
   "outputs": [
    {
     "data": {
      "text/plain": [
       "['\\\\begin{align}&- 2 ^ {- 2}\\\\\\\\&- 2 ^ {\\\\color{red} {\\\\boxed{- 2}}}\\\\\\\\&- \\\\color{red} {\\\\boxed{2 ^ {\\\\color{green} {\\\\boxed{-2}}}}}\\\\\\\\&\\\\color{red} {\\\\boxed{- \\\\color{green} {\\\\boxed{0.25}}}}\\\\\\\\&\\\\color{green} {\\\\boxed{-0.25}}\\\\end{align}',\n",
       " '\\\\begin{align}&\\\\frac{1} {2} ^ {3}\\\\\\\\&\\\\color{red} {\\\\boxed{\\\\frac{1} {2}}} ^ {3}\\\\\\\\&\\\\color{red} {\\\\boxed{\\\\color{green} {\\\\boxed{\\\\frac{1} {2}}} ^ {3}}}\\\\\\\\&\\\\color{green} {\\\\boxed{\\\\frac{1} {8}}}\\\\end{align}']"
      ]
     },
     "execution_count": 12,
     "metadata": {},
     "output_type": "execute_result"
    }
   ],
   "source": [
    "lista_di_latex"
   ]
  },
  {
   "cell_type": "code",
   "execution_count": 13,
   "id": "d0a8220d",
   "metadata": {},
   "outputs": [],
   "source": [
    "n = sy.parse_expr(casi_semplici[5], 'Q')\n",
    "simpler = smp(n)\n"
   ]
  },
  {
   "cell_type": "code",
   "execution_count": 16,
   "id": "308a0b48",
   "metadata": {},
   "outputs": [
    {
     "data": {
      "image/svg+xml": [
       "<?xml version=\"1.0\" encoding=\"UTF-8\" standalone=\"no\"?>\n",
       "<!DOCTYPE svg PUBLIC \"-//W3C//DTD SVG 1.1//EN\"\n",
       " \"http://www.w3.org/Graphics/SVG/1.1/DTD/svg11.dtd\">\n",
       "<!-- Generated by graphviz version 2.47.1 (0)\n",
       " -->\n",
       "<!-- Pages: 1 -->\n",
       "<svg width=\"500pt\" height=\"327pt\"\n",
       " viewBox=\"0.00 0.00 500.00 327.00\" xmlns=\"http://www.w3.org/2000/svg\" xmlns:xlink=\"http://www.w3.org/1999/xlink\">\n",
       "<g id=\"graph0\" class=\"graph\" transform=\"scale(1 1) rotate(0) translate(4 323)\">\n",
       "<polygon fill=\"white\" stroke=\"transparent\" points=\"-4,4 -4,-323 496,-323 496,4 -4,4\"/>\n",
       "<!-- 139881049784528 -->\n",
       "<g id=\"node1\" class=\"node\">\n",
       "<title>139881049784528</title>\n",
       "<polygon fill=\"none\" stroke=\"black\" points=\"284.5,-300 284.5,-319 316.5,-319 316.5,-300 284.5,-300\"/>\n",
       "<text text-anchor=\"start\" x=\"287.5\" y=\"-306.4\" font-family=\"Times,serif\" font-size=\"12.00\">type</text>\n",
       "<polygon fill=\"none\" stroke=\"black\" points=\"316.5,-300 316.5,-319 376.5,-319 376.5,-300 316.5,-300\"/>\n",
       "<text text-anchor=\"start\" x=\"319.5\" y=\"-306.4\" font-family=\"Times,serif\" font-size=\"12.00\">Frazione</text>\n",
       "<polygon fill=\"none\" stroke=\"black\" points=\"284.5,-281 284.5,-300 316.5,-300 316.5,-281 284.5,-281\"/>\n",
       "<text text-anchor=\"start\" x=\"294.5\" y=\"-287.4\" font-family=\"Times,serif\" font-size=\"12.00\">id</text>\n",
       "<polygon fill=\"none\" stroke=\"black\" points=\"316.5,-281 316.5,-300 376.5,-300 376.5,-281 316.5,-281\"/>\n",
       "<text text-anchor=\"start\" x=\"342.5\" y=\"-287.4\" font-family=\"Times,serif\" font-size=\"12.00\">9</text>\n",
       "</g>\n",
       "<!-- 139881049784384 -->\n",
       "<g id=\"node2\" class=\"node\">\n",
       "<title>139881049784384</title>\n",
       "<polygon fill=\"none\" stroke=\"black\" points=\"228.5,-234.5 228.5,-253.5 260.5,-253.5 260.5,-234.5 228.5,-234.5\"/>\n",
       "<text text-anchor=\"start\" x=\"231.5\" y=\"-240.9\" font-family=\"Times,serif\" font-size=\"12.00\">type</text>\n",
       "<polygon fill=\"none\" stroke=\"black\" points=\"260.5,-234.5 260.5,-253.5 320.5,-253.5 320.5,-234.5 260.5,-234.5\"/>\n",
       "<text text-anchor=\"start\" x=\"263.5\" y=\"-240.9\" font-family=\"Times,serif\" font-size=\"12.00\">Frazione</text>\n",
       "<polygon fill=\"none\" stroke=\"black\" points=\"228.5,-215.5 228.5,-234.5 260.5,-234.5 260.5,-215.5 228.5,-215.5\"/>\n",
       "<text text-anchor=\"start\" x=\"238.5\" y=\"-221.9\" font-family=\"Times,serif\" font-size=\"12.00\">id</text>\n",
       "<polygon fill=\"none\" stroke=\"black\" points=\"260.5,-215.5 260.5,-234.5 320.5,-234.5 320.5,-215.5 260.5,-215.5\"/>\n",
       "<text text-anchor=\"start\" x=\"286.5\" y=\"-221.9\" font-family=\"Times,serif\" font-size=\"12.00\">5</text>\n",
       "</g>\n",
       "<!-- 139881049784528&#45;&gt;139881049784384 -->\n",
       "<g id=\"edge1\" class=\"edge\">\n",
       "<title>139881049784528&#45;&gt;139881049784384</title>\n",
       "<path fill=\"none\" stroke=\"black\" d=\"M314.6,-280.97C307.1,-272.47 298.16,-262.33 290.63,-253.79\"/>\n",
       "</g>\n",
       "<!-- 139881047742256 -->\n",
       "<g id=\"node3\" class=\"node\">\n",
       "<title>139881047742256</title>\n",
       "<polygon fill=\"none\" stroke=\"black\" points=\"339.5,-243.5 339.5,-262.5 378.5,-262.5 378.5,-243.5 339.5,-243.5\"/>\n",
       "<text text-anchor=\"start\" x=\"346\" y=\"-249.9\" font-family=\"Times,serif\" font-size=\"12.00\">type</text>\n",
       "<polygon fill=\"none\" stroke=\"black\" points=\"378.5,-243.5 378.5,-262.5 434.5,-262.5 434.5,-243.5 378.5,-243.5\"/>\n",
       "<text text-anchor=\"start\" x=\"381.5\" y=\"-249.9\" font-family=\"Times,serif\" font-size=\"12.00\">Numero</text>\n",
       "<polygon fill=\"none\" stroke=\"black\" points=\"339.5,-224.5 339.5,-243.5 378.5,-243.5 378.5,-224.5 339.5,-224.5\"/>\n",
       "<text text-anchor=\"start\" x=\"353\" y=\"-230.9\" font-family=\"Times,serif\" font-size=\"12.00\">id</text>\n",
       "<polygon fill=\"none\" stroke=\"black\" points=\"378.5,-224.5 378.5,-243.5 434.5,-243.5 434.5,-224.5 378.5,-224.5\"/>\n",
       "<text text-anchor=\"start\" x=\"398.5\" y=\"-230.9\" font-family=\"Times,serif\" font-size=\"12.00\">10</text>\n",
       "<polygon fill=\"none\" stroke=\"black\" points=\"339.5,-205.5 339.5,-224.5 378.5,-224.5 378.5,-205.5 339.5,-205.5\"/>\n",
       "<text text-anchor=\"start\" x=\"342.5\" y=\"-211.9\" font-family=\"Times,serif\" font-size=\"12.00\">value</text>\n",
       "<polygon fill=\"none\" stroke=\"black\" points=\"378.5,-205.5 378.5,-224.5 434.5,-224.5 434.5,-205.5 378.5,-205.5\"/>\n",
       "<text text-anchor=\"start\" x=\"402.5\" y=\"-211.9\" font-family=\"Times,serif\" font-size=\"12.00\">7</text>\n",
       "</g>\n",
       "<!-- 139881049784528&#45;&gt;139881047742256 -->\n",
       "<g id=\"edge2\" class=\"edge\">\n",
       "<title>139881049784528&#45;&gt;139881047742256</title>\n",
       "<path fill=\"none\" stroke=\"black\" d=\"M346.4,-280.97C351.31,-275.4 356.84,-269.13 362.19,-263.06\"/>\n",
       "</g>\n",
       "<!-- 139881049784384&#45;&gt;139881047742256 -->\n",
       "<!-- 139881049788032 -->\n",
       "<g id=\"node4\" class=\"node\">\n",
       "<title>139881049788032</title>\n",
       "<polygon fill=\"none\" stroke=\"black\" points=\"172.5,-169 172.5,-188 204.5,-188 204.5,-169 172.5,-169\"/>\n",
       "<text text-anchor=\"start\" x=\"175.5\" y=\"-175.4\" font-family=\"Times,serif\" font-size=\"12.00\">type</text>\n",
       "<polygon fill=\"none\" stroke=\"black\" points=\"204.5,-169 204.5,-188 264.5,-188 264.5,-169 204.5,-169\"/>\n",
       "<text text-anchor=\"start\" x=\"207.5\" y=\"-175.4\" font-family=\"Times,serif\" font-size=\"12.00\">Frazione</text>\n",
       "<polygon fill=\"none\" stroke=\"black\" points=\"172.5,-150 172.5,-169 204.5,-169 204.5,-150 172.5,-150\"/>\n",
       "<text text-anchor=\"start\" x=\"182.5\" y=\"-156.4\" font-family=\"Times,serif\" font-size=\"12.00\">id</text>\n",
       "<polygon fill=\"none\" stroke=\"black\" points=\"204.5,-150 204.5,-169 264.5,-169 264.5,-150 204.5,-150\"/>\n",
       "<text text-anchor=\"start\" x=\"230.5\" y=\"-156.4\" font-family=\"Times,serif\" font-size=\"12.00\">3</text>\n",
       "</g>\n",
       "<!-- 139881049784384&#45;&gt;139881049788032 -->\n",
       "<g id=\"edge4\" class=\"edge\">\n",
       "<title>139881049784384&#45;&gt;139881049788032</title>\n",
       "<path fill=\"none\" stroke=\"black\" d=\"M258.6,-215.47C251.1,-206.97 242.16,-196.83 234.63,-188.29\"/>\n",
       "</g>\n",
       "<!-- 139881047605056 -->\n",
       "<g id=\"node5\" class=\"node\">\n",
       "<title>139881047605056</title>\n",
       "<polygon fill=\"none\" stroke=\"black\" points=\"282.5,-169 282.5,-188 314.5,-188 314.5,-169 282.5,-169\"/>\n",
       "<text text-anchor=\"start\" x=\"285.5\" y=\"-175.4\" font-family=\"Times,serif\" font-size=\"12.00\">type</text>\n",
       "<polygon fill=\"none\" stroke=\"black\" points=\"314.5,-169 314.5,-188 380.5,-188 380.5,-169 314.5,-169\"/>\n",
       "<text text-anchor=\"start\" x=\"317.5\" y=\"-175.4\" font-family=\"Times,serif\" font-size=\"12.00\">Addizione</text>\n",
       "<polygon fill=\"none\" stroke=\"black\" points=\"282.5,-150 282.5,-169 314.5,-169 314.5,-150 282.5,-150\"/>\n",
       "<text text-anchor=\"start\" x=\"292.5\" y=\"-156.4\" font-family=\"Times,serif\" font-size=\"12.00\">id</text>\n",
       "<polygon fill=\"none\" stroke=\"black\" points=\"314.5,-150 314.5,-169 380.5,-169 380.5,-150 314.5,-150\"/>\n",
       "<text text-anchor=\"start\" x=\"343.5\" y=\"-156.4\" font-family=\"Times,serif\" font-size=\"12.00\">7</text>\n",
       "</g>\n",
       "<!-- 139881049784384&#45;&gt;139881047605056 -->\n",
       "<g id=\"edge5\" class=\"edge\">\n",
       "<title>139881049784384&#45;&gt;139881047605056</title>\n",
       "<path fill=\"none\" stroke=\"black\" d=\"M290.68,-215.47C298.32,-206.97 307.41,-196.83 315.08,-188.29\"/>\n",
       "</g>\n",
       "<!-- 139881049788032&#45;&gt;139881047605056 -->\n",
       "<!-- 139881049786448 -->\n",
       "<g id=\"node6\" class=\"node\">\n",
       "<title>139881049786448</title>\n",
       "<polygon fill=\"none\" stroke=\"black\" points=\"54.5,-103.5 54.5,-122.5 86.5,-122.5 86.5,-103.5 54.5,-103.5\"/>\n",
       "<text text-anchor=\"start\" x=\"57.5\" y=\"-109.9\" font-family=\"Times,serif\" font-size=\"12.00\">type</text>\n",
       "<polygon fill=\"none\" stroke=\"black\" points=\"86.5,-103.5 86.5,-122.5 152.5,-122.5 152.5,-103.5 86.5,-103.5\"/>\n",
       "<text text-anchor=\"start\" x=\"89.5\" y=\"-109.9\" font-family=\"Times,serif\" font-size=\"12.00\">Addizione</text>\n",
       "<polygon fill=\"none\" stroke=\"black\" points=\"54.5,-84.5 54.5,-103.5 86.5,-103.5 86.5,-84.5 54.5,-84.5\"/>\n",
       "<text text-anchor=\"start\" x=\"64.5\" y=\"-90.9\" font-family=\"Times,serif\" font-size=\"12.00\">id</text>\n",
       "<polygon fill=\"none\" stroke=\"black\" points=\"86.5,-84.5 86.5,-103.5 152.5,-103.5 152.5,-84.5 86.5,-84.5\"/>\n",
       "<text text-anchor=\"start\" x=\"115.5\" y=\"-90.9\" font-family=\"Times,serif\" font-size=\"12.00\">1</text>\n",
       "</g>\n",
       "<!-- 139881049788032&#45;&gt;139881049786448 -->\n",
       "<g id=\"edge7\" class=\"edge\">\n",
       "<title>139881049788032&#45;&gt;139881049786448</title>\n",
       "<path fill=\"none\" stroke=\"black\" d=\"M185.85,-149.97C170.31,-141.39 151.78,-131.16 136.23,-122.57\"/>\n",
       "</g>\n",
       "<!-- 139881050096016 -->\n",
       "<g id=\"node7\" class=\"node\">\n",
       "<title>139881050096016</title>\n",
       "<polygon fill=\"none\" stroke=\"black\" points=\"171.5,-112.5 171.5,-131.5 210.5,-131.5 210.5,-112.5 171.5,-112.5\"/>\n",
       "<text text-anchor=\"start\" x=\"178\" y=\"-118.9\" font-family=\"Times,serif\" font-size=\"12.00\">type</text>\n",
       "<polygon fill=\"none\" stroke=\"black\" points=\"210.5,-112.5 210.5,-131.5 266.5,-131.5 266.5,-112.5 210.5,-112.5\"/>\n",
       "<text text-anchor=\"start\" x=\"213.5\" y=\"-118.9\" font-family=\"Times,serif\" font-size=\"12.00\">Numero</text>\n",
       "<polygon fill=\"none\" stroke=\"black\" points=\"171.5,-93.5 171.5,-112.5 210.5,-112.5 210.5,-93.5 171.5,-93.5\"/>\n",
       "<text text-anchor=\"start\" x=\"185\" y=\"-99.9\" font-family=\"Times,serif\" font-size=\"12.00\">id</text>\n",
       "<polygon fill=\"none\" stroke=\"black\" points=\"210.5,-93.5 210.5,-112.5 266.5,-112.5 266.5,-93.5 210.5,-93.5\"/>\n",
       "<text text-anchor=\"start\" x=\"234.5\" y=\"-99.9\" font-family=\"Times,serif\" font-size=\"12.00\">4</text>\n",
       "<polygon fill=\"none\" stroke=\"black\" points=\"171.5,-74.5 171.5,-93.5 210.5,-93.5 210.5,-74.5 171.5,-74.5\"/>\n",
       "<text text-anchor=\"start\" x=\"174.5\" y=\"-80.9\" font-family=\"Times,serif\" font-size=\"12.00\">value</text>\n",
       "<polygon fill=\"none\" stroke=\"black\" points=\"210.5,-74.5 210.5,-93.5 266.5,-93.5 266.5,-74.5 210.5,-74.5\"/>\n",
       "<text text-anchor=\"start\" x=\"234.5\" y=\"-80.9\" font-family=\"Times,serif\" font-size=\"12.00\">4</text>\n",
       "</g>\n",
       "<!-- 139881049788032&#45;&gt;139881050096016 -->\n",
       "<g id=\"edge8\" class=\"edge\">\n",
       "<title>139881049788032&#45;&gt;139881050096016</title>\n",
       "<path fill=\"none\" stroke=\"black\" d=\"M218.5,-149.97C218.5,-144.4 218.5,-138.13 218.5,-132.06\"/>\n",
       "</g>\n",
       "<!-- 139881047602560 -->\n",
       "<g id=\"node10\" class=\"node\">\n",
       "<title>139881047602560</title>\n",
       "<polygon fill=\"none\" stroke=\"black\" points=\"284.5,-112.5 284.5,-131.5 323.5,-131.5 323.5,-112.5 284.5,-112.5\"/>\n",
       "<text text-anchor=\"start\" x=\"291\" y=\"-118.9\" font-family=\"Times,serif\" font-size=\"12.00\">type</text>\n",
       "<polygon fill=\"none\" stroke=\"black\" points=\"323.5,-112.5 323.5,-131.5 379.5,-131.5 379.5,-112.5 323.5,-112.5\"/>\n",
       "<text text-anchor=\"start\" x=\"326.5\" y=\"-118.9\" font-family=\"Times,serif\" font-size=\"12.00\">Numero</text>\n",
       "<polygon fill=\"none\" stroke=\"black\" points=\"284.5,-93.5 284.5,-112.5 323.5,-112.5 323.5,-93.5 284.5,-93.5\"/>\n",
       "<text text-anchor=\"start\" x=\"298\" y=\"-99.9\" font-family=\"Times,serif\" font-size=\"12.00\">id</text>\n",
       "<polygon fill=\"none\" stroke=\"black\" points=\"323.5,-93.5 323.5,-112.5 379.5,-112.5 379.5,-93.5 323.5,-93.5\"/>\n",
       "<text text-anchor=\"start\" x=\"347.5\" y=\"-99.9\" font-family=\"Times,serif\" font-size=\"12.00\">6</text>\n",
       "<polygon fill=\"none\" stroke=\"black\" points=\"284.5,-74.5 284.5,-93.5 323.5,-93.5 323.5,-74.5 284.5,-74.5\"/>\n",
       "<text text-anchor=\"start\" x=\"287.5\" y=\"-80.9\" font-family=\"Times,serif\" font-size=\"12.00\">value</text>\n",
       "<polygon fill=\"none\" stroke=\"black\" points=\"323.5,-74.5 323.5,-93.5 379.5,-93.5 379.5,-74.5 323.5,-74.5\"/>\n",
       "<text text-anchor=\"start\" x=\"347.5\" y=\"-80.9\" font-family=\"Times,serif\" font-size=\"12.00\">5</text>\n",
       "</g>\n",
       "<!-- 139881047605056&#45;&gt;139881047602560 -->\n",
       "<g id=\"edge13\" class=\"edge\">\n",
       "<title>139881047605056&#45;&gt;139881047602560</title>\n",
       "<path fill=\"none\" stroke=\"black\" d=\"M331.5,-149.97C331.5,-144.4 331.5,-138.13 331.5,-132.06\"/>\n",
       "</g>\n",
       "<!-- 139881047602128 -->\n",
       "<g id=\"node11\" class=\"node\">\n",
       "<title>139881047602128</title>\n",
       "<polygon fill=\"none\" stroke=\"black\" points=\"397.5,-112.5 397.5,-131.5 436.5,-131.5 436.5,-112.5 397.5,-112.5\"/>\n",
       "<text text-anchor=\"start\" x=\"404\" y=\"-118.9\" font-family=\"Times,serif\" font-size=\"12.00\">type</text>\n",
       "<polygon fill=\"none\" stroke=\"black\" points=\"436.5,-112.5 436.5,-131.5 492.5,-131.5 492.5,-112.5 436.5,-112.5\"/>\n",
       "<text text-anchor=\"start\" x=\"439.5\" y=\"-118.9\" font-family=\"Times,serif\" font-size=\"12.00\">Numero</text>\n",
       "<polygon fill=\"none\" stroke=\"black\" points=\"397.5,-93.5 397.5,-112.5 436.5,-112.5 436.5,-93.5 397.5,-93.5\"/>\n",
       "<text text-anchor=\"start\" x=\"411\" y=\"-99.9\" font-family=\"Times,serif\" font-size=\"12.00\">id</text>\n",
       "<polygon fill=\"none\" stroke=\"black\" points=\"436.5,-93.5 436.5,-112.5 492.5,-112.5 492.5,-93.5 436.5,-93.5\"/>\n",
       "<text text-anchor=\"start\" x=\"460.5\" y=\"-99.9\" font-family=\"Times,serif\" font-size=\"12.00\">8</text>\n",
       "<polygon fill=\"none\" stroke=\"black\" points=\"397.5,-74.5 397.5,-93.5 436.5,-93.5 436.5,-74.5 397.5,-74.5\"/>\n",
       "<text text-anchor=\"start\" x=\"400.5\" y=\"-80.9\" font-family=\"Times,serif\" font-size=\"12.00\">value</text>\n",
       "<polygon fill=\"none\" stroke=\"black\" points=\"436.5,-74.5 436.5,-93.5 492.5,-93.5 492.5,-74.5 436.5,-74.5\"/>\n",
       "<text text-anchor=\"start\" x=\"460.5\" y=\"-80.9\" font-family=\"Times,serif\" font-size=\"12.00\">6</text>\n",
       "</g>\n",
       "<!-- 139881047605056&#45;&gt;139881047602128 -->\n",
       "<g id=\"edge14\" class=\"edge\">\n",
       "<title>139881047605056&#45;&gt;139881047602128</title>\n",
       "<path fill=\"none\" stroke=\"black\" d=\"M363.58,-149.97C373.89,-144.18 385.54,-137.63 396.73,-131.35\"/>\n",
       "</g>\n",
       "<!-- 139881049786448&#45;&gt;139881050096016 -->\n",
       "<!-- 139881049786544 -->\n",
       "<g id=\"node8\" class=\"node\">\n",
       "<title>139881049786544</title>\n",
       "<polygon fill=\"none\" stroke=\"black\" points=\"0.5,-37.5 0.5,-56.5 39.5,-56.5 39.5,-37.5 0.5,-37.5\"/>\n",
       "<text text-anchor=\"start\" x=\"7\" y=\"-43.9\" font-family=\"Times,serif\" font-size=\"12.00\">type</text>\n",
       "<polygon fill=\"none\" stroke=\"black\" points=\"39.5,-37.5 39.5,-56.5 95.5,-56.5 95.5,-37.5 39.5,-37.5\"/>\n",
       "<text text-anchor=\"start\" x=\"42.5\" y=\"-43.9\" font-family=\"Times,serif\" font-size=\"12.00\">Numero</text>\n",
       "<polygon fill=\"none\" stroke=\"black\" points=\"0.5,-18.5 0.5,-37.5 39.5,-37.5 39.5,-18.5 0.5,-18.5\"/>\n",
       "<text text-anchor=\"start\" x=\"14\" y=\"-24.9\" font-family=\"Times,serif\" font-size=\"12.00\">id</text>\n",
       "<polygon fill=\"none\" stroke=\"black\" points=\"39.5,-18.5 39.5,-37.5 95.5,-37.5 95.5,-18.5 39.5,-18.5\"/>\n",
       "<text text-anchor=\"start\" x=\"63.5\" y=\"-24.9\" font-family=\"Times,serif\" font-size=\"12.00\">0</text>\n",
       "<polygon fill=\"none\" stroke=\"black\" points=\"0.5,0.5 0.5,-18.5 39.5,-18.5 39.5,0.5 0.5,0.5\"/>\n",
       "<text text-anchor=\"start\" x=\"3.5\" y=\"-5.9\" font-family=\"Times,serif\" font-size=\"12.00\">value</text>\n",
       "<polygon fill=\"none\" stroke=\"black\" points=\"39.5,0.5 39.5,-18.5 95.5,-18.5 95.5,0.5 39.5,0.5\"/>\n",
       "<text text-anchor=\"start\" x=\"63.5\" y=\"-5.9\" font-family=\"Times,serif\" font-size=\"12.00\">2</text>\n",
       "</g>\n",
       "<!-- 139881049786448&#45;&gt;139881049786544 -->\n",
       "<g id=\"edge10\" class=\"edge\">\n",
       "<title>139881049786448&#45;&gt;139881049786544</title>\n",
       "<path fill=\"none\" stroke=\"black\" d=\"M89.66,-84.46C83.31,-76.18 75.64,-66.19 68.6,-57\"/>\n",
       "</g>\n",
       "<!-- 139881049388032 -->\n",
       "<g id=\"node9\" class=\"node\">\n",
       "<title>139881049388032</title>\n",
       "<polygon fill=\"none\" stroke=\"black\" points=\"113.5,-37.5 113.5,-56.5 152.5,-56.5 152.5,-37.5 113.5,-37.5\"/>\n",
       "<text text-anchor=\"start\" x=\"120\" y=\"-43.9\" font-family=\"Times,serif\" font-size=\"12.00\">type</text>\n",
       "<polygon fill=\"none\" stroke=\"black\" points=\"152.5,-37.5 152.5,-56.5 208.5,-56.5 208.5,-37.5 152.5,-37.5\"/>\n",
       "<text text-anchor=\"start\" x=\"155.5\" y=\"-43.9\" font-family=\"Times,serif\" font-size=\"12.00\">Numero</text>\n",
       "<polygon fill=\"none\" stroke=\"black\" points=\"113.5,-18.5 113.5,-37.5 152.5,-37.5 152.5,-18.5 113.5,-18.5\"/>\n",
       "<text text-anchor=\"start\" x=\"127\" y=\"-24.9\" font-family=\"Times,serif\" font-size=\"12.00\">id</text>\n",
       "<polygon fill=\"none\" stroke=\"black\" points=\"152.5,-18.5 152.5,-37.5 208.5,-37.5 208.5,-18.5 152.5,-18.5\"/>\n",
       "<text text-anchor=\"start\" x=\"176.5\" y=\"-24.9\" font-family=\"Times,serif\" font-size=\"12.00\">2</text>\n",
       "<polygon fill=\"none\" stroke=\"black\" points=\"113.5,0.5 113.5,-18.5 152.5,-18.5 152.5,0.5 113.5,0.5\"/>\n",
       "<text text-anchor=\"start\" x=\"116.5\" y=\"-5.9\" font-family=\"Times,serif\" font-size=\"12.00\">value</text>\n",
       "<polygon fill=\"none\" stroke=\"black\" points=\"152.5,0.5 152.5,-18.5 208.5,-18.5 208.5,0.5 152.5,0.5\"/>\n",
       "<text text-anchor=\"start\" x=\"176.5\" y=\"-5.9\" font-family=\"Times,serif\" font-size=\"12.00\">3</text>\n",
       "</g>\n",
       "<!-- 139881049786448&#45;&gt;139881049388032 -->\n",
       "<g id=\"edge11\" class=\"edge\">\n",
       "<title>139881049786448&#45;&gt;139881049388032</title>\n",
       "<path fill=\"none\" stroke=\"black\" d=\"M117.59,-84.46C124.05,-76.18 131.85,-66.19 139.02,-57\"/>\n",
       "</g>\n",
       "<!-- 139881049786544&#45;&gt;139881049388032 -->\n",
       "<!-- 139881047602560&#45;&gt;139881047602128 -->\n",
       "</g>\n",
       "</svg>\n"
      ],
      "text/plain": [
       "({'type': 'Frazione', 'id': 9}: ({'type': 'Frazione', 'id': 5}: ({'type': 'Frazione', 'id': 3}: ({'type': 'Addizione', 'id': 1}: ({'type': 'Numero', 'id': 0, 'value': 2}), ({'type': 'Numero', 'id': 2, 'value': 3})), ({'type': 'Numero', 'id': 4, 'value': 4})), ({'type': 'Addizione', 'id': 7}: ({'type': 'Numero', 'id': 6, 'value': 5}), ({'type': 'Numero', 'id': 8, 'value': 6}))), ({'type': 'Numero', 'id': 10, 'value': 7}))"
      ]
     },
     "execution_count": 16,
     "metadata": {},
     "output_type": "execute_result"
    }
   ],
   "source": [
    "nodo2tree(n)"
   ]
  },
  {
   "cell_type": "code",
   "execution_count": null,
   "id": "ebb88c12",
   "metadata": {},
   "outputs": [],
   "source": []
  }
 ],
 "metadata": {
  "kernelspec": {
   "display_name": "Python 3",
   "language": "python",
   "name": "python3"
  },
  "language_info": {
   "codemirror_mode": {
    "name": "ipython",
    "version": 3
   },
   "file_extension": ".py",
   "mimetype": "text/x-python",
   "name": "python",
   "nbconvert_exporter": "python",
   "pygments_lexer": "ipython3",
   "version": "3.9.5"
  }
 },
 "nbformat": 4,
 "nbformat_minor": 5
}
