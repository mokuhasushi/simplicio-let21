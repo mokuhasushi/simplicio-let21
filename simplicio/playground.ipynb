{
 "cells": [
  {
   "cell_type": "code",
   "execution_count": 6,
   "id": "7c7b960a",
   "metadata": {},
   "outputs": [],
   "source": [
    "%load_ext autoreload"
   ]
  },
  {
   "cell_type": "code",
   "execution_count": 7,
   "id": "61962af0",
   "metadata": {},
   "outputs": [],
   "source": [
    "%autoreload 2"
   ]
  },
  {
   "cell_type": "code",
   "execution_count": 14,
   "id": "6ea4a10b",
   "metadata": {},
   "outputs": [],
   "source": [
    "from utilities import nodo2tree\n",
    "import shuntingyard as sy\n",
    "import importlib\n",
    "from IPython.display import Math as show_latex"
   ]
  },
  {
   "cell_type": "code",
   "execution_count": 15,
   "id": "3eb97f9c",
   "metadata": {},
   "outputs": [],
   "source": [
    "from semplificatore import Semplificatore as smp"
   ]
  },
  {
   "cell_type": "code",
   "execution_count": 39,
   "id": "3cc6c794",
   "metadata": {},
   "outputs": [],
   "source": [
    "test_expr = \"1 + {2 * [(3 + 4 : 2) + 5] * 6} - [7 + (1 + 8) : 3] * [9 : (2 + 1) + 2]#\"\n",
    "test_pow = \"2^(3+4^5:2^7)#\"\n",
    "test_frac_1 = \"(2+4)/(3+4)#\"\n",
    "test_riassuntivo = \"3 + 13 * -(1+3) / (2^(1+4) - 6)#\"\n",
    "test_parentesi_semplice = \"3/(4+2) + 2 * {3:(4+5) + 2^(6*1/2)}-(2*[5*(3+4)+5]-1)/6#\"\n",
    "test_parentesi_libere = \"3/(4+2) + 2 * (3:(4+5) + 2^(6*1/2))-(2*(5*(3+4)+5)-1)/6#\"\n",
    "test_parentesi_libere2 = \"3/(4+2) + 2 * (3:(4+5) : 2^(6*1/2))-(2*(5*(3+4)+5)-1)/6#\"\n",
    "test_rapido = \"3 + 3 + 8 + 6 * 2#\"\n",
    "test_segni_unari_multipli = \"---3 + -56 * -(-(-(5)))#\"\n",
    "test_lungo = \"-19 + 4 * 45 / {12^[3+60/6:5] - 7/4 + 3 * (13 - 5 * -2^3)} * 22 / 143 - [13^2/45*3+3/(7+3^2)] : 3 - 1 + {12^(3+4)/12 + [5 - 3*4 + -(4^(9/3))]}#\"\n",
    "test_frac_exp = \"(4/9)^(1/2)\"\n",
    "casi_potenze = [\"-2^(-2)\", \"(1/2)^3\", \"3^(2*1/2)\", \"2^[8/4]\"]"
   ]
  },
  {
   "cell_type": "code",
   "execution_count": 42,
   "id": "2470ef71",
   "metadata": {},
   "outputs": [],
   "source": [
    "n = sy.parse_expr(casi_potenze[0], 'Q')\n",
    "simpler = smp(n)\n",
    "# nodo2tree(n)"
   ]
  },
  {
   "cell_type": "code",
   "execution_count": 43,
   "id": "3cc7faed",
   "metadata": {},
   "outputs": [
    {
     "data": {
      "text/latex": [
       "$\\displaystyle \\begin{align}&- 2 ^ {- 2}\\\\&- 2 ^ {\\color{red} {\\boxed{- 2}}}\\\\&- \\color{red} {\\boxed{2 ^ {\\color{green} {\\boxed{-2}}}}}\\\\&- \\color{red} {\\boxed{\\frac{1} {4}}}\\\\&\\color{red} {\\boxed{- \\color{green} {\\boxed{\\frac{1} {4}}}}}\\\\&\\color{green} {\\boxed{\\frac{-1} {4}}}\\end{align}$"
      ],
      "text/plain": [
       "<IPython.core.display.Math object>"
      ]
     },
     "execution_count": 43,
     "metadata": {},
     "output_type": "execute_result"
    }
   ],
   "source": [
    "texts = simpler.solve()\n",
    "text = '\\\\\\\\&'.join(texts)\n",
    "text = \"\\\\begin{align}\" + text + \"\\end{align}\"\n",
    "show_latex(text)"
   ]
  },
  {
   "cell_type": "code",
   "execution_count": 8,
   "id": "2fed8427",
   "metadata": {},
   "outputs": [],
   "source": [
    "def string2latex(s):\n",
    "    n = sy.parse_expr(s, 'Q')\n",
    "    simpler = smp(n)\n",
    "    texts = simpler.solve()\n",
    "    text = '\\\\\\\\&'.join(texts)\n",
    "    text = \"\\\\begin{align}\" + text + \"\\end{align}\"\n",
    "    return text"
   ]
  },
  {
   "cell_type": "code",
   "execution_count": 9,
   "id": "d411f67c",
   "metadata": {},
   "outputs": [],
   "source": [
    "casi_semplici = [\"(2+4)/(3+4)#\", \"2/3/4#\", \"5/(6/7)#\", \"(2*3+4)/5#\", \"2/(3+4/5)#\", \"(((2+3)/4)/(5+6))/7#\"]\n",
    "potenze = [\"-2^(-2)\", \"(1/2)^3\"]"
   ]
  },
  {
   "cell_type": "code",
   "execution_count": 10,
   "id": "0993b902",
   "metadata": {},
   "outputs": [
    {
     "name": "stdout",
     "output_type": "stream",
     "text": [
      "-2^(-2) ok\n",
      "(1/2)^3 ok\n"
     ]
    }
   ],
   "source": [
    "lista_di_latex = []\n",
    "for t in potenze:\n",
    "    lista_di_latex.append(string2latex(t))\n",
    "    print(t, \"ok\")"
   ]
  },
  {
   "cell_type": "code",
   "execution_count": 11,
   "id": "d0d74660",
   "metadata": {},
   "outputs": [
    {
     "data": {
      "text/latex": [
       "$\\displaystyle \\begin{align}&\\frac{1} {2} ^ {3}\\\\&\\color{red} {\\boxed{\\frac{1} {2}}} ^ {3}\\\\&\\color{red} {\\boxed{\\color{green} {\\boxed{\\frac{1} {2}}} ^ {3}}}\\\\&\\color{green} {\\boxed{\\frac{1} {8}}}\\end{align}$"
      ],
      "text/plain": [
       "<IPython.core.display.Math object>"
      ]
     },
     "execution_count": 11,
     "metadata": {},
     "output_type": "execute_result"
    }
   ],
   "source": [
    "show_latex(lista_di_latex[1])"
   ]
  },
  {
   "cell_type": "code",
   "execution_count": 8,
   "id": "ebb88c12",
   "metadata": {},
   "outputs": [],
   "source": [
    "import simplicio"
   ]
  },
  {
   "cell_type": "code",
   "execution_count": 72,
   "id": "adf0e487",
   "metadata": {},
   "outputs": [],
   "source": [
    "casi_N_ok = [\"15 * 3 + 2 : 2\", \"15 - 4 - (3*3)\", \"1 * 4 - 8 + 5 - 2 + 3\", \"2^3\", \"4 / (2 * 2)\"]\n",
    "casi_N_non_ok = [\"-2\", \"4 - 8\", \"2^(-1)\", \"2^(1-2)\", \"3/4\", \"3 : 4\"]"
   ]
  },
  {
   "cell_type": "code",
   "execution_count": 74,
   "id": "0e5d4e19",
   "metadata": {},
   "outputs": [
    {
     "name": "stdout",
     "output_type": "stream",
     "text": [
      "15 * 3 + 2 : 2 ok\n",
      "15 - 4 - (3*3) ok\n",
      "1 * 4 - 8 + 5 - 2 + 3 ok\n",
      "2^3 ok\n",
      "4 / (2 * 2) ok\n"
     ]
    }
   ],
   "source": [
    "txts = []\n",
    "for c in casi_N_ok:\n",
    "    txts.append(simplicio.string2latex(c, 'N'))\n",
    "    print(c, \"ok\")"
   ]
  },
  {
   "cell_type": "code",
   "execution_count": 75,
   "id": "585b1b7e",
   "metadata": {},
   "outputs": [
    {
     "ename": "DomainException",
     "evalue": "Numeri frazionari non ammessi in N!",
     "output_type": "error",
     "traceback": [
      "\u001b[0;31m-------------------------------------------------------------------------\u001b[0m",
      "\u001b[0;31mDomainException\u001b[0m                         Traceback (most recent call last)",
      "\u001b[0;32m<ipython-input-75-4f996c3bc997>\u001b[0m in \u001b[0;36m<module>\u001b[0;34m\u001b[0m\n\u001b[0;32m----> 1\u001b[0;31m \u001b[0mshow_latex\u001b[0m\u001b[0;34m(\u001b[0m\u001b[0msimplicio\u001b[0m\u001b[0;34m.\u001b[0m\u001b[0mstring2latex\u001b[0m\u001b[0;34m(\u001b[0m\u001b[0mcasi_N_non_ok\u001b[0m\u001b[0;34m[\u001b[0m\u001b[0;36m4\u001b[0m\u001b[0;34m]\u001b[0m\u001b[0;34m,\u001b[0m \u001b[0;34m'N'\u001b[0m\u001b[0;34m)\u001b[0m\u001b[0;34m)\u001b[0m\u001b[0;34m\u001b[0m\u001b[0;34m\u001b[0m\u001b[0m\n\u001b[0m",
      "\u001b[0;32m~/uni/linguaggietraduttori/progetto/ufficiale/simplicio/simplicio.py\u001b[0m in \u001b[0;36mstring2latex\u001b[0;34m(s, domain)\u001b[0m\n\u001b[1;32m      5\u001b[0m     \u001b[0mn\u001b[0m \u001b[0;34m=\u001b[0m \u001b[0msy\u001b[0m\u001b[0;34m.\u001b[0m\u001b[0mparse_expr\u001b[0m\u001b[0;34m(\u001b[0m\u001b[0ms\u001b[0m\u001b[0;34m,\u001b[0m \u001b[0mdomain\u001b[0m\u001b[0;34m)\u001b[0m\u001b[0;34m\u001b[0m\u001b[0;34m\u001b[0m\u001b[0m\n\u001b[1;32m      6\u001b[0m     \u001b[0msimpler\u001b[0m \u001b[0;34m=\u001b[0m \u001b[0msmp\u001b[0m\u001b[0;34m.\u001b[0m\u001b[0mSemplificatore\u001b[0m\u001b[0;34m(\u001b[0m\u001b[0mn\u001b[0m\u001b[0;34m)\u001b[0m\u001b[0;34m\u001b[0m\u001b[0;34m\u001b[0m\u001b[0m\n\u001b[0;32m----> 7\u001b[0;31m     \u001b[0mtexts\u001b[0m \u001b[0;34m=\u001b[0m \u001b[0msimpler\u001b[0m\u001b[0;34m.\u001b[0m\u001b[0msolve\u001b[0m\u001b[0;34m(\u001b[0m\u001b[0;34m)\u001b[0m\u001b[0;34m\u001b[0m\u001b[0;34m\u001b[0m\u001b[0m\n\u001b[0m\u001b[1;32m      8\u001b[0m     \u001b[0mtext\u001b[0m \u001b[0;34m=\u001b[0m \u001b[0;34m'\\n\\\\\\\\&'\u001b[0m\u001b[0;34m.\u001b[0m\u001b[0mjoin\u001b[0m\u001b[0;34m(\u001b[0m\u001b[0mtexts\u001b[0m\u001b[0;34m)\u001b[0m\u001b[0;34m\u001b[0m\u001b[0;34m\u001b[0m\u001b[0m\n\u001b[1;32m      9\u001b[0m     \u001b[0mtext\u001b[0m \u001b[0;34m=\u001b[0m \u001b[0;34m\"\\\\begin{align}\"\u001b[0m \u001b[0;34m+\u001b[0m \u001b[0mtext\u001b[0m \u001b[0;34m+\u001b[0m \u001b[0;34m\"\\n\\end{align}\"\u001b[0m\u001b[0;34m\u001b[0m\u001b[0;34m\u001b[0m\u001b[0m\n",
      "\u001b[0;32m~/uni/linguaggietraduttori/progetto/ufficiale/simplicio/semplificatore.py\u001b[0m in \u001b[0;36msolve\u001b[0;34m(self)\u001b[0m\n\u001b[1;32m     82\u001b[0m             \u001b[0msolving\u001b[0m\u001b[0;34m.\u001b[0m\u001b[0mbox_leaf\u001b[0m\u001b[0;34m(\u001b[0m\u001b[0;34m)\u001b[0m\u001b[0;34m\u001b[0m\u001b[0;34m\u001b[0m\u001b[0m\n\u001b[1;32m     83\u001b[0m             \u001b[0mtexts\u001b[0m\u001b[0;34m.\u001b[0m\u001b[0mappend\u001b[0m\u001b[0;34m(\u001b[0m\u001b[0mself\u001b[0m\u001b[0;34m.\u001b[0m\u001b[0mroot\u001b[0m\u001b[0;34m.\u001b[0m\u001b[0mget_latex\u001b[0m\u001b[0;34m(\u001b[0m\u001b[0;34m)\u001b[0m\u001b[0;34m)\u001b[0m\u001b[0;34m\u001b[0m\u001b[0;34m\u001b[0m\u001b[0m\n\u001b[0;32m---> 84\u001b[0;31m             \u001b[0msolving\u001b[0m \u001b[0;34m=\u001b[0m \u001b[0msolving\u001b[0m\u001b[0;34m.\u001b[0m\u001b[0msolve_step\u001b[0m\u001b[0;34m(\u001b[0m\u001b[0;34m)\u001b[0m\u001b[0;34m\u001b[0m\u001b[0;34m\u001b[0m\u001b[0m\n\u001b[0m\u001b[1;32m     85\u001b[0m             \u001b[0;32mif\u001b[0m \u001b[0msolving\u001b[0m\u001b[0;34m.\u001b[0m\u001b[0mleaf\u001b[0m\u001b[0;34m:\u001b[0m\u001b[0;34m\u001b[0m\u001b[0;34m\u001b[0m\u001b[0m\n\u001b[1;32m     86\u001b[0m                 \u001b[0mself\u001b[0m\u001b[0;34m.\u001b[0m\u001b[0mroot\u001b[0m \u001b[0;34m=\u001b[0m \u001b[0msolving\u001b[0m\u001b[0;34m\u001b[0m\u001b[0;34m\u001b[0m\u001b[0m\n",
      "\u001b[0;32m~/uni/linguaggietraduttori/progetto/ufficiale/simplicio/nodi.py\u001b[0m in \u001b[0;36msolve_step\u001b[0;34m(self)\u001b[0m\n\u001b[1;32m     73\u001b[0m             \u001b[0mret\u001b[0m \u001b[0;34m=\u001b[0m \u001b[0mNodoNumero\u001b[0m\u001b[0;34m(\u001b[0m\u001b[0mself\u001b[0m\u001b[0;34m.\u001b[0m\u001b[0moperate_R\u001b[0m\u001b[0;34m(\u001b[0m\u001b[0;34m)\u001b[0m\u001b[0;34m,\u001b[0m \u001b[0mself\u001b[0m\u001b[0;34m.\u001b[0m\u001b[0mid\u001b[0m\u001b[0;34m)\u001b[0m\u001b[0;34m\u001b[0m\u001b[0;34m\u001b[0m\u001b[0m\n\u001b[1;32m     74\u001b[0m         \u001b[0;32melif\u001b[0m \u001b[0mself\u001b[0m\u001b[0;34m.\u001b[0m\u001b[0mdomain\u001b[0m \u001b[0;34m==\u001b[0m \u001b[0;34m'N'\u001b[0m\u001b[0;34m:\u001b[0m\u001b[0;34m\u001b[0m\u001b[0;34m\u001b[0m\u001b[0m\n\u001b[0;32m---> 75\u001b[0;31m             \u001b[0mret\u001b[0m \u001b[0;34m=\u001b[0m \u001b[0mself\u001b[0m\u001b[0;34m.\u001b[0m\u001b[0moperate_N\u001b[0m\u001b[0;34m(\u001b[0m\u001b[0;34m)\u001b[0m\u001b[0;34m\u001b[0m\u001b[0;34m\u001b[0m\u001b[0m\n\u001b[0m\u001b[1;32m     76\u001b[0m             \u001b[0;31m# Questo controllo viene eseguito qui per via della risoluzione a catena\u001b[0m\u001b[0;34m\u001b[0m\u001b[0;34m\u001b[0m\u001b[0;34m\u001b[0m\u001b[0m\n\u001b[1;32m     77\u001b[0m             \u001b[0;32mif\u001b[0m \u001b[0mret\u001b[0m\u001b[0;34m.\u001b[0m\u001b[0mvalue\u001b[0m \u001b[0;34m<\u001b[0m \u001b[0;36m0\u001b[0m\u001b[0;34m:\u001b[0m\u001b[0;34m\u001b[0m\u001b[0;34m\u001b[0m\u001b[0m\n",
      "\u001b[0;32m~/uni/linguaggietraduttori/progetto/ufficiale/simplicio/nodi.py\u001b[0m in \u001b[0;36moperate_N\u001b[0;34m(self)\u001b[0m\n\u001b[1;32m    333\u001b[0m     \u001b[0;32mdef\u001b[0m \u001b[0moperate_N\u001b[0m\u001b[0;34m(\u001b[0m\u001b[0mself\u001b[0m\u001b[0;34m)\u001b[0m\u001b[0;34m:\u001b[0m\u001b[0;34m\u001b[0m\u001b[0;34m\u001b[0m\u001b[0m\n\u001b[1;32m    334\u001b[0m         \u001b[0;32mif\u001b[0m \u001b[0;32mnot\u001b[0m \u001b[0mNodo\u001b[0m\u001b[0;34m.\u001b[0m\u001b[0mis_integer_division\u001b[0m\u001b[0;34m(\u001b[0m\u001b[0mself\u001b[0m\u001b[0;34m.\u001b[0m\u001b[0mchildren\u001b[0m\u001b[0;34m[\u001b[0m\u001b[0;36m0\u001b[0m\u001b[0;34m]\u001b[0m\u001b[0;34m.\u001b[0m\u001b[0mvalue\u001b[0m\u001b[0;34m,\u001b[0m \u001b[0mself\u001b[0m\u001b[0;34m.\u001b[0m\u001b[0mchildren\u001b[0m\u001b[0;34m[\u001b[0m\u001b[0;36m1\u001b[0m\u001b[0;34m]\u001b[0m\u001b[0;34m.\u001b[0m\u001b[0mvalue\u001b[0m\u001b[0;34m)\u001b[0m\u001b[0;34m:\u001b[0m\u001b[0;34m\u001b[0m\u001b[0;34m\u001b[0m\u001b[0m\n\u001b[0;32m--> 335\u001b[0;31m             \u001b[0;32mraise\u001b[0m \u001b[0mexceptions\u001b[0m\u001b[0;34m.\u001b[0m\u001b[0mDomainException\u001b[0m\u001b[0;34m(\u001b[0m\u001b[0;34m\"Numeri frazionari non ammessi in N!\"\u001b[0m\u001b[0;34m)\u001b[0m\u001b[0;34m\u001b[0m\u001b[0;34m\u001b[0m\u001b[0m\n\u001b[0m\u001b[1;32m    336\u001b[0m         \u001b[0mretval\u001b[0m \u001b[0;34m=\u001b[0m \u001b[0mself\u001b[0m\u001b[0;34m.\u001b[0m\u001b[0mchildren\u001b[0m\u001b[0;34m[\u001b[0m\u001b[0;36m0\u001b[0m\u001b[0;34m]\u001b[0m\u001b[0;34m.\u001b[0m\u001b[0mvalue\u001b[0m \u001b[0;34m//\u001b[0m \u001b[0mself\u001b[0m\u001b[0;34m.\u001b[0m\u001b[0mchildren\u001b[0m\u001b[0;34m[\u001b[0m\u001b[0;36m1\u001b[0m\u001b[0;34m]\u001b[0m\u001b[0;34m.\u001b[0m\u001b[0mvalue\u001b[0m\u001b[0;34m\u001b[0m\u001b[0;34m\u001b[0m\u001b[0m\n\u001b[1;32m    337\u001b[0m         \u001b[0;32mreturn\u001b[0m \u001b[0mNodoNumero\u001b[0m\u001b[0;34m(\u001b[0m\u001b[0mretval\u001b[0m\u001b[0;34m,\u001b[0m \u001b[0mself\u001b[0m\u001b[0;34m.\u001b[0m\u001b[0mid\u001b[0m\u001b[0;34m)\u001b[0m\u001b[0;34m\u001b[0m\u001b[0;34m\u001b[0m\u001b[0m\n",
      "\u001b[0;31mDomainException\u001b[0m: Numeri frazionari non ammessi in N!"
     ]
    }
   ],
   "source": [
    "show_latex(simplicio.string2latex(casi_N_non_ok[4], 'N'))"
   ]
  },
  {
   "cell_type": "code",
   "execution_count": 67,
   "id": "7043a35b",
   "metadata": {},
   "outputs": [
    {
     "ename": "IndexError",
     "evalue": "list index out of range",
     "output_type": "error",
     "traceback": [
      "\u001b[0;31m-------------------------------------------------------------------------\u001b[0m",
      "\u001b[0;31mIndexError\u001b[0m                              Traceback (most recent call last)",
      "\u001b[0;32m<ipython-input-67-1aafb218a39d>\u001b[0m in \u001b[0;36m<module>\u001b[0;34m\u001b[0m\n\u001b[0;32m----> 1\u001b[0;31m \u001b[0mshow_latex\u001b[0m\u001b[0;34m(\u001b[0m\u001b[0mtxts\u001b[0m\u001b[0;34m[\u001b[0m\u001b[0;36m5\u001b[0m\u001b[0;34m]\u001b[0m\u001b[0;34m)\u001b[0m\u001b[0;34m\u001b[0m\u001b[0;34m\u001b[0m\u001b[0m\n\u001b[0m",
      "\u001b[0;31mIndexError\u001b[0m: list index out of range"
     ]
    }
   ],
   "source": [
    "show_latex(txts[5])"
   ]
  },
  {
   "cell_type": "code",
   "execution_count": 40,
   "id": "8483ce9e",
   "metadata": {
    "scrolled": true
   },
   "outputs": [
    {
     "ename": "TypeError",
     "evalue": "cannot unpack non-iterable NodoAddizione object",
     "output_type": "error",
     "traceback": [
      "\u001b[0;31m-------------------------------------------------------------------------\u001b[0m",
      "\u001b[0;31mTypeError\u001b[0m                               Traceback (most recent call last)",
      "\u001b[0;32m<ipython-input-40-7c1d22bdbb4e>\u001b[0m in \u001b[0;36m<module>\u001b[0;34m\u001b[0m\n\u001b[0;32m----> 1\u001b[0;31m \u001b[0mn\u001b[0m\u001b[0;34m,\u001b[0m \u001b[0md\u001b[0m \u001b[0;34m=\u001b[0m \u001b[0msy\u001b[0m\u001b[0;34m.\u001b[0m\u001b[0mparse_expr\u001b[0m\u001b[0;34m(\u001b[0m\u001b[0mcasi_N_ok\u001b[0m\u001b[0;34m[\u001b[0m\u001b[0;36m2\u001b[0m\u001b[0;34m]\u001b[0m\u001b[0;34m,\u001b[0m \u001b[0;34m'N'\u001b[0m\u001b[0;34m)\u001b[0m\u001b[0;34m\u001b[0m\u001b[0;34m\u001b[0m\u001b[0m\n\u001b[0m\u001b[1;32m      2\u001b[0m \u001b[0msimpler\u001b[0m \u001b[0;34m=\u001b[0m \u001b[0msmp\u001b[0m\u001b[0;34m(\u001b[0m\u001b[0mn\u001b[0m\u001b[0;34m)\u001b[0m\u001b[0;34m\u001b[0m\u001b[0;34m\u001b[0m\u001b[0m\n\u001b[1;32m      3\u001b[0m \u001b[0mnodo2tree\u001b[0m\u001b[0;34m(\u001b[0m\u001b[0mn\u001b[0m\u001b[0;34m)\u001b[0m\u001b[0;34m\u001b[0m\u001b[0;34m\u001b[0m\u001b[0m\n",
      "\u001b[0;31mTypeError\u001b[0m: cannot unpack non-iterable NodoAddizione object"
     ]
    }
   ],
   "source": [
    "n, d = sy.parse_expr(casi_N_ok[2], 'N')\n",
    "simpler = smp(n)\n",
    "nodo2tree(n)"
   ]
  },
  {
   "cell_type": "code",
   "execution_count": 27,
   "id": "47aab532",
   "metadata": {},
   "outputs": [
    {
     "data": {
      "text/plain": [
       "[({'type': 'Moltiplicazione', 'id': -1}: ({'type': 'Numero', 'id': -1, 'value': 1}), ({'type': 'Numero', 'id': -1, 'value': 4})),\n",
       " ({'type': 'Addizione', 'id': -1}: ({'type': 'Numero', 'id': -1, 'value': 2}), ({'type': 'Numero', 'id': -1, 'value': 3})),\n",
       " ({'type': 'Sottrazione', 'id': -1}: ({'type': 'Numero', 'id': -1, 'value': 5}), ({'type': 'Addizione', 'id': -1}: ({'type': 'Numero', 'id': -1, 'value': 2}), ({'type': 'Numero', 'id': -1, 'value': 3}))),\n",
       " ({'type': 'Addizione', 'id': -1}: ({'type': 'Numero', 'id': -1, 'value': 8}), ({'type': 'Sottrazione', 'id': -1}: ({'type': 'Numero', 'id': -1, 'value': 5}), ({'type': 'Addizione', 'id': -1}: ({'type': 'Numero', 'id': -1, 'value': 2}), ({'type': 'Numero', 'id': -1, 'value': 3})))),\n",
       " ({'type': 'Sottrazione', 'id': -1}: ({'type': 'Moltiplicazione', 'id': -1}: ({'type': 'Numero', 'id': -1, 'value': 1}), ({'type': 'Numero', 'id': -1, 'value': 4})), ({'type': 'Addizione', 'id': -1}: ({'type': 'Numero', 'id': -1, 'value': 8}), ({'type': 'Sottrazione', 'id': -1}: ({'type': 'Numero', 'id': -1, 'value': 5}), ({'type': 'Addizione', 'id': -1}: ({'type': 'Numero', 'id': -1, 'value': 2}), ({'type': 'Numero', 'id': -1, 'value': 3})))))]"
      ]
     },
     "execution_count": 27,
     "metadata": {},
     "output_type": "execute_result"
    }
   ],
   "source": [
    "d"
   ]
  },
  {
   "cell_type": "code",
   "execution_count": 36,
   "id": "8f213c01",
   "metadata": {},
   "outputs": [
    {
     "data": {
      "image/svg+xml": [
       "<?xml version=\"1.0\" encoding=\"UTF-8\" standalone=\"no\"?>\n",
       "<!DOCTYPE svg PUBLIC \"-//W3C//DTD SVG 1.1//EN\"\n",
       " \"http://www.w3.org/Graphics/SVG/1.1/DTD/svg11.dtd\">\n",
       "<!-- Generated by graphviz version 2.47.1 (0)\n",
       " -->\n",
       "<!-- Pages: 1 -->\n",
       "<svg width=\"274pt\" height=\"196pt\"\n",
       " viewBox=\"0.00 0.00 274.00 196.00\" xmlns=\"http://www.w3.org/2000/svg\" xmlns:xlink=\"http://www.w3.org/1999/xlink\">\n",
       "<g id=\"graph0\" class=\"graph\" transform=\"scale(1 1) rotate(0) translate(4 192)\">\n",
       "<polygon fill=\"white\" stroke=\"transparent\" points=\"-4,4 -4,-192 270,-192 270,4 -4,4\"/>\n",
       "<!-- 140522152023136 -->\n",
       "<g id=\"node1\" class=\"node\">\n",
       "<title>140522152023136</title>\n",
       "<polygon fill=\"none\" stroke=\"black\" points=\"50.5,-169 50.5,-188 82.5,-188 82.5,-169 50.5,-169\"/>\n",
       "<text text-anchor=\"start\" x=\"53.5\" y=\"-175.4\" font-family=\"Times,serif\" font-size=\"12.00\">type</text>\n",
       "<polygon fill=\"none\" stroke=\"black\" points=\"82.5,-169 82.5,-188 158.5,-188 158.5,-169 82.5,-169\"/>\n",
       "<text text-anchor=\"start\" x=\"85.5\" y=\"-175.4\" font-family=\"Times,serif\" font-size=\"12.00\">Sottrazione</text>\n",
       "<polygon fill=\"none\" stroke=\"black\" points=\"50.5,-150 50.5,-169 82.5,-169 82.5,-150 50.5,-150\"/>\n",
       "<text text-anchor=\"start\" x=\"60.5\" y=\"-156.4\" font-family=\"Times,serif\" font-size=\"12.00\">id</text>\n",
       "<polygon fill=\"none\" stroke=\"black\" points=\"82.5,-150 82.5,-169 158.5,-169 158.5,-150 82.5,-150\"/>\n",
       "<text text-anchor=\"start\" x=\"114.5\" y=\"-156.4\" font-family=\"Times,serif\" font-size=\"12.00\">&#45;1</text>\n",
       "</g>\n",
       "<!-- 140522152023040 -->\n",
       "<g id=\"node2\" class=\"node\">\n",
       "<title>140522152023040</title>\n",
       "<polygon fill=\"none\" stroke=\"black\" points=\"0.5,-112.5 0.5,-131.5 39.5,-131.5 39.5,-112.5 0.5,-112.5\"/>\n",
       "<text text-anchor=\"start\" x=\"7\" y=\"-118.9\" font-family=\"Times,serif\" font-size=\"12.00\">type</text>\n",
       "<polygon fill=\"none\" stroke=\"black\" points=\"39.5,-112.5 39.5,-131.5 95.5,-131.5 95.5,-112.5 39.5,-112.5\"/>\n",
       "<text text-anchor=\"start\" x=\"42.5\" y=\"-118.9\" font-family=\"Times,serif\" font-size=\"12.00\">Numero</text>\n",
       "<polygon fill=\"none\" stroke=\"black\" points=\"0.5,-93.5 0.5,-112.5 39.5,-112.5 39.5,-93.5 0.5,-93.5\"/>\n",
       "<text text-anchor=\"start\" x=\"14\" y=\"-99.9\" font-family=\"Times,serif\" font-size=\"12.00\">id</text>\n",
       "<polygon fill=\"none\" stroke=\"black\" points=\"39.5,-93.5 39.5,-112.5 95.5,-112.5 95.5,-93.5 39.5,-93.5\"/>\n",
       "<text text-anchor=\"start\" x=\"61.5\" y=\"-99.9\" font-family=\"Times,serif\" font-size=\"12.00\">&#45;1</text>\n",
       "<polygon fill=\"none\" stroke=\"black\" points=\"0.5,-74.5 0.5,-93.5 39.5,-93.5 39.5,-74.5 0.5,-74.5\"/>\n",
       "<text text-anchor=\"start\" x=\"3.5\" y=\"-80.9\" font-family=\"Times,serif\" font-size=\"12.00\">value</text>\n",
       "<polygon fill=\"none\" stroke=\"black\" points=\"39.5,-74.5 39.5,-93.5 95.5,-93.5 95.5,-74.5 39.5,-74.5\"/>\n",
       "<text text-anchor=\"start\" x=\"63.5\" y=\"-80.9\" font-family=\"Times,serif\" font-size=\"12.00\">5</text>\n",
       "</g>\n",
       "<!-- 140522152023136&#45;&gt;140522152023040 -->\n",
       "<g id=\"edge1\" class=\"edge\">\n",
       "<title>140522152023136&#45;&gt;140522152023040</title>\n",
       "<path fill=\"none\" stroke=\"black\" d=\"M88.32,-149.97C83.32,-144.4 77.69,-138.13 72.24,-132.06\"/>\n",
       "</g>\n",
       "<!-- 140522152022704 -->\n",
       "<g id=\"node3\" class=\"node\">\n",
       "<title>140522152022704</title>\n",
       "<polygon fill=\"none\" stroke=\"black\" points=\"113.5,-103.5 113.5,-122.5 145.5,-122.5 145.5,-103.5 113.5,-103.5\"/>\n",
       "<text text-anchor=\"start\" x=\"116.5\" y=\"-109.9\" font-family=\"Times,serif\" font-size=\"12.00\">type</text>\n",
       "<polygon fill=\"none\" stroke=\"black\" points=\"145.5,-103.5 145.5,-122.5 211.5,-122.5 211.5,-103.5 145.5,-103.5\"/>\n",
       "<text text-anchor=\"start\" x=\"148.5\" y=\"-109.9\" font-family=\"Times,serif\" font-size=\"12.00\">Addizione</text>\n",
       "<polygon fill=\"none\" stroke=\"black\" points=\"113.5,-84.5 113.5,-103.5 145.5,-103.5 145.5,-84.5 113.5,-84.5\"/>\n",
       "<text text-anchor=\"start\" x=\"123.5\" y=\"-90.9\" font-family=\"Times,serif\" font-size=\"12.00\">id</text>\n",
       "<polygon fill=\"none\" stroke=\"black\" points=\"145.5,-84.5 145.5,-103.5 211.5,-103.5 211.5,-84.5 145.5,-84.5\"/>\n",
       "<text text-anchor=\"start\" x=\"172.5\" y=\"-90.9\" font-family=\"Times,serif\" font-size=\"12.00\">&#45;1</text>\n",
       "</g>\n",
       "<!-- 140522152023136&#45;&gt;140522152022704 -->\n",
       "<g id=\"edge2\" class=\"edge\">\n",
       "<title>140522152023136&#45;&gt;140522152022704</title>\n",
       "<path fill=\"none\" stroke=\"black\" d=\"M120.97,-149.97C128.74,-141.47 137.99,-131.33 145.79,-122.79\"/>\n",
       "</g>\n",
       "<!-- 140522152023040&#45;&gt;140522152022704 -->\n",
       "<!-- 140522152022656 -->\n",
       "<g id=\"node4\" class=\"node\">\n",
       "<title>140522152022656</title>\n",
       "<polygon fill=\"none\" stroke=\"black\" points=\"58.5,-37.5 58.5,-56.5 97.5,-56.5 97.5,-37.5 58.5,-37.5\"/>\n",
       "<text text-anchor=\"start\" x=\"65\" y=\"-43.9\" font-family=\"Times,serif\" font-size=\"12.00\">type</text>\n",
       "<polygon fill=\"none\" stroke=\"black\" points=\"97.5,-37.5 97.5,-56.5 153.5,-56.5 153.5,-37.5 97.5,-37.5\"/>\n",
       "<text text-anchor=\"start\" x=\"100.5\" y=\"-43.9\" font-family=\"Times,serif\" font-size=\"12.00\">Numero</text>\n",
       "<polygon fill=\"none\" stroke=\"black\" points=\"58.5,-18.5 58.5,-37.5 97.5,-37.5 97.5,-18.5 58.5,-18.5\"/>\n",
       "<text text-anchor=\"start\" x=\"72\" y=\"-24.9\" font-family=\"Times,serif\" font-size=\"12.00\">id</text>\n",
       "<polygon fill=\"none\" stroke=\"black\" points=\"97.5,-18.5 97.5,-37.5 153.5,-37.5 153.5,-18.5 97.5,-18.5\"/>\n",
       "<text text-anchor=\"start\" x=\"119.5\" y=\"-24.9\" font-family=\"Times,serif\" font-size=\"12.00\">&#45;1</text>\n",
       "<polygon fill=\"none\" stroke=\"black\" points=\"58.5,0.5 58.5,-18.5 97.5,-18.5 97.5,0.5 58.5,0.5\"/>\n",
       "<text text-anchor=\"start\" x=\"61.5\" y=\"-5.9\" font-family=\"Times,serif\" font-size=\"12.00\">value</text>\n",
       "<polygon fill=\"none\" stroke=\"black\" points=\"97.5,0.5 97.5,-18.5 153.5,-18.5 153.5,0.5 97.5,0.5\"/>\n",
       "<text text-anchor=\"start\" x=\"121.5\" y=\"-5.9\" font-family=\"Times,serif\" font-size=\"12.00\">2</text>\n",
       "</g>\n",
       "<!-- 140522152022704&#45;&gt;140522152022656 -->\n",
       "<g id=\"edge4\" class=\"edge\">\n",
       "<title>140522152022704&#45;&gt;140522152022656</title>\n",
       "<path fill=\"none\" stroke=\"black\" d=\"M148.41,-84.46C141.95,-76.18 134.15,-66.19 126.98,-57\"/>\n",
       "</g>\n",
       "<!-- 140522152022464 -->\n",
       "<g id=\"node5\" class=\"node\">\n",
       "<title>140522152022464</title>\n",
       "<polygon fill=\"none\" stroke=\"black\" points=\"171.5,-37.5 171.5,-56.5 210.5,-56.5 210.5,-37.5 171.5,-37.5\"/>\n",
       "<text text-anchor=\"start\" x=\"178\" y=\"-43.9\" font-family=\"Times,serif\" font-size=\"12.00\">type</text>\n",
       "<polygon fill=\"none\" stroke=\"black\" points=\"210.5,-37.5 210.5,-56.5 266.5,-56.5 266.5,-37.5 210.5,-37.5\"/>\n",
       "<text text-anchor=\"start\" x=\"213.5\" y=\"-43.9\" font-family=\"Times,serif\" font-size=\"12.00\">Numero</text>\n",
       "<polygon fill=\"none\" stroke=\"black\" points=\"171.5,-18.5 171.5,-37.5 210.5,-37.5 210.5,-18.5 171.5,-18.5\"/>\n",
       "<text text-anchor=\"start\" x=\"185\" y=\"-24.9\" font-family=\"Times,serif\" font-size=\"12.00\">id</text>\n",
       "<polygon fill=\"none\" stroke=\"black\" points=\"210.5,-18.5 210.5,-37.5 266.5,-37.5 266.5,-18.5 210.5,-18.5\"/>\n",
       "<text text-anchor=\"start\" x=\"232.5\" y=\"-24.9\" font-family=\"Times,serif\" font-size=\"12.00\">&#45;1</text>\n",
       "<polygon fill=\"none\" stroke=\"black\" points=\"171.5,0.5 171.5,-18.5 210.5,-18.5 210.5,0.5 171.5,0.5\"/>\n",
       "<text text-anchor=\"start\" x=\"174.5\" y=\"-5.9\" font-family=\"Times,serif\" font-size=\"12.00\">value</text>\n",
       "<polygon fill=\"none\" stroke=\"black\" points=\"210.5,0.5 210.5,-18.5 266.5,-18.5 266.5,0.5 210.5,0.5\"/>\n",
       "<text text-anchor=\"start\" x=\"234.5\" y=\"-5.9\" font-family=\"Times,serif\" font-size=\"12.00\">3</text>\n",
       "</g>\n",
       "<!-- 140522152022704&#45;&gt;140522152022464 -->\n",
       "<g id=\"edge5\" class=\"edge\">\n",
       "<title>140522152022704&#45;&gt;140522152022464</title>\n",
       "<path fill=\"none\" stroke=\"black\" d=\"M176.34,-84.46C182.69,-76.18 190.36,-66.19 197.4,-57\"/>\n",
       "</g>\n",
       "<!-- 140522152022656&#45;&gt;140522152022464 -->\n",
       "</g>\n",
       "</svg>\n"
      ],
      "text/plain": [
       "({'type': 'Sottrazione', 'id': -1}: ({'type': 'Numero', 'id': -1, 'value': 5}), ({'type': 'Addizione', 'id': -1}: ({'type': 'Numero', 'id': -1, 'value': 2}), ({'type': 'Numero', 'id': -1, 'value': 3})))"
      ]
     },
     "execution_count": 36,
     "metadata": {},
     "output_type": "execute_result"
    }
   ],
   "source": [
    "d[2]"
   ]
  },
  {
   "cell_type": "code",
   "execution_count": null,
   "id": "0b6a140b",
   "metadata": {},
   "outputs": [],
   "source": []
  }
 ],
 "metadata": {
  "kernelspec": {
   "display_name": "Python 3",
   "language": "python",
   "name": "python3"
  },
  "language_info": {
   "codemirror_mode": {
    "name": "ipython",
    "version": 3
   },
   "file_extension": ".py",
   "mimetype": "text/x-python",
   "name": "python",
   "nbconvert_exporter": "python",
   "pygments_lexer": "ipython3",
   "version": "3.9.5"
  }
 },
 "nbformat": 4,
 "nbformat_minor": 5
}
