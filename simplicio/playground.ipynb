{
 "cells": [
  {
   "cell_type": "code",
   "execution_count": 1,
   "id": "7c7b960a",
   "metadata": {},
   "outputs": [],
   "source": [
    "%load_ext autoreload"
   ]
  },
  {
   "cell_type": "code",
   "execution_count": 2,
   "id": "61962af0",
   "metadata": {},
   "outputs": [],
   "source": [
    "%autoreload 2"
   ]
  },
  {
   "cell_type": "code",
   "execution_count": 3,
   "id": "6ea4a10b",
   "metadata": {},
   "outputs": [],
   "source": [
    "from utilities import nodo2tree\n",
    "import shuntingyard as sy\n",
    "import importlib\n",
    "from IPython.display import Math as show_latex"
   ]
  },
  {
   "cell_type": "code",
   "execution_count": 4,
   "id": "3eb97f9c",
   "metadata": {},
   "outputs": [],
   "source": [
    "from semplificatore import Semplificatore as smp"
   ]
  },
  {
   "cell_type": "code",
   "execution_count": 5,
   "id": "3cc6c794",
   "metadata": {},
   "outputs": [],
   "source": [
    "test_expr = \"1 + {2 * [(3 + 4 : 2) + 5] * 6} - [7 + (1 + 8) : 3] * [9 : (2 + 1) + 2]#\""
   ]
  },
  {
   "cell_type": "code",
   "execution_count": 103,
   "id": "2470ef71",
   "metadata": {},
   "outputs": [],
   "source": [
    "n = sy.parse_expr(test_expr)\n",
    "simpler = smp(n)\n",
    "# nodo2tree(n)"
   ]
  },
  {
   "cell_type": "code",
   "execution_count": 104,
   "id": "0abd30d6",
   "metadata": {},
   "outputs": [
    {
     "data": {
      "text/latex": [
       "$\\displaystyle \\begin{align}&1 + \\left\\{ 2 \\times \\left[ \\left( 3 + 4 : 2 \\right) + 5 \\right] \\times 6 \\right\\} - \\left[ 7 + \\left( 1 + 8 \\right) : 3 \\right] \\times \\left[ 9 : \\left( 2 + 1 \\right) + 2 \\right]\\\\&1 + \\left\\{ 2 \\times \\left[ \\color{blue} {\\left( 3 + \\color{red} {\\boxed{4 : 2}} \\right)} + 5 \\right] \\times 6 \\right\\} - \\left[ 7 + \\left( 1 + 8 \\right) : 3 \\right] \\times \\left[ 9 : \\left( 2 + 1 \\right) + 2 \\right]\\\\&1 + \\left\\{ 2 \\times \\left[ \\color{blue} {\\left( \\color{red} {\\boxed{3 + 2}} \\right)} + 5 \\right] \\times 6 \\right\\} - \\left[ 7 + \\left( 1 + 8 \\right) : 3 \\right] \\times \\left[ 9 : \\left( 2 + 1 \\right) + 2 \\right]\\\\&1 + \\left\\{ 2 \\times \\left[ \\color{green} {\\boxed{5}} + 5 \\right] \\times 6 \\right\\} - \\left[ 7 + \\color{blue} {\\left( \\color{red} {\\boxed{1 + 8}} \\right)} : 3 \\right] \\times \\left[ 9 : \\left( 2 + 1 \\right) + 2 \\right]\\\\&1 + \\left\\{ 2 \\times \\left[ 5 + 5 \\right] \\times 6 \\right\\} - \\left[ 7 + \\color{green} {\\boxed{9}} : 3 \\right] \\times \\left[ 9 : \\color{blue} {\\left( \\color{red} {\\boxed{2 + 1}} \\right)} + 2 \\right]\\\\&1 + \\left\\{ 2 \\times \\color{blue} {\\left[ \\color{red} {\\boxed{5 + 5}} \\right]} \\times 6 \\right\\} - \\left[ 7 + 9 : 3 \\right] \\times \\left[ 9 : \\color{green} {\\boxed{3}} + 2 \\right]\\\\&1 + \\left\\{ 2 \\times \\color{green} {\\boxed{10}} \\times 6 \\right\\} - \\color{blue} {\\left[ 7 + \\color{red} {\\boxed{9 : 3}} \\right]} \\times \\left[ 9 : \\color{green} {\\boxed{3}} + 2 \\right]\\\\&1 + \\left\\{ 2 \\times 10 \\times 6 \\right\\} - \\color{blue} {\\left[ \\color{red} {\\boxed{7 + 3}} \\right]} \\times \\left[ 9 : \\color{green} {\\boxed{3}} + 2 \\right]\\\\&1 + \\left\\{ 2 \\times 10 \\times 6 \\right\\} - \\color{green} {\\boxed{10}} \\times \\color{blue} {\\left[ \\color{red} {\\boxed{9 : \\color{green} {\\boxed{3}}}} + 2 \\right]}\\\\&1 + \\left\\{ 2 \\times 10 \\times 6 \\right\\} - 10 \\times \\color{blue} {\\left[ \\color{red} {\\boxed{3 + 2}} \\right]}\\\\&1 + \\color{blue} {\\left\\{ 2 \\times \\color{red} {\\boxed{10 \\times 6}} \\right\\}} - 10 \\times \\color{green} {\\boxed{5}}\\\\&1 + \\color{blue} {\\left\\{ \\color{red} {\\boxed{2 \\times 60}} \\right\\}} - 10 \\times \\color{green} {\\boxed{5}}\\end{align}$"
      ],
      "text/plain": [
       "<IPython.core.display.Math object>"
      ]
     },
     "execution_count": 104,
     "metadata": {},
     "output_type": "execute_result"
    }
   ],
   "source": [
    "texts = simpler.solve()\n",
    "text = '\\\\\\\\&'.join(texts)\n",
    "text = \"\\\\begin{align}\" + text + \"\\end{align}\"\n",
    "show_latex(text)"
   ]
  },
  {
   "cell_type": "code",
   "execution_count": null,
   "id": "4ab8d054",
   "metadata": {},
   "outputs": [],
   "source": [
    "print(simpler.root.get_latex())\n",
    "print(  )\n",
    "print(simpler.nodes_type2node_id)\n",
    "print(  )\n",
    "print(texts)\n",
    "print(  )\n",
    "show_latex(simpler.root.get_latex())"
   ]
  },
  {
   "cell_type": "code",
   "execution_count": null,
   "id": "36057d3a",
   "metadata": {},
   "outputs": [],
   "source": []
  }
 ],
 "metadata": {
  "kernelspec": {
   "display_name": "Python 3",
   "language": "python",
   "name": "python3"
  },
  "language_info": {
   "codemirror_mode": {
    "name": "ipython",
    "version": 3
   },
   "file_extension": ".py",
   "mimetype": "text/x-python",
   "name": "python",
   "nbconvert_exporter": "python",
   "pygments_lexer": "ipython3",
   "version": "3.9.5"
  }
 },
 "nbformat": 4,
 "nbformat_minor": 5
}
