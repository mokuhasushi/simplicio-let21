{
 "cells": [
  {
   "cell_type": "code",
   "execution_count": 1,
   "id": "7c7b960a",
   "metadata": {},
   "outputs": [],
   "source": [
    "%load_ext autoreload"
   ]
  },
  {
   "cell_type": "code",
   "execution_count": 2,
   "id": "61962af0",
   "metadata": {},
   "outputs": [],
   "source": [
    "%autoreload 2"
   ]
  },
  {
   "cell_type": "code",
   "execution_count": 3,
   "id": "6ea4a10b",
   "metadata": {},
   "outputs": [],
   "source": [
    "from utilities import nodo2tree\n",
    "import shuntingyard as sy\n",
    "import importlib\n",
    "from IPython.display import Math as show_latex"
   ]
  },
  {
   "cell_type": "code",
   "execution_count": 9,
   "id": "3eb97f9c",
   "metadata": {},
   "outputs": [],
   "source": [
    "from semplificatore import Semplificatore as smp"
   ]
  },
  {
   "cell_type": "code",
   "execution_count": 4,
   "id": "3cc6c794",
   "metadata": {},
   "outputs": [],
   "source": [
    "test_expr = \"1 + {2 * [(3 + 4 : 2) + 5] * 6} - [7 + (1 + 8) : 3] * [9 : (2 + 1) + 2]#\""
   ]
  },
  {
   "cell_type": "code",
   "execution_count": 117,
   "id": "2470ef71",
   "metadata": {},
   "outputs": [],
   "source": [
    "n = sy.parse_expr(test_expr)\n",
    "simpler = smp(n)"
   ]
  },
  {
   "cell_type": "code",
   "execution_count": 118,
   "id": "0cfff5dd",
   "metadata": {},
   "outputs": [
    {
     "data": {
      "text/plain": [
       "{'Nodo': [],\n",
       " 'ParentesiTonde': [9, 22, 32],\n",
       " 'ParentesiQuadre': [12, 25, 35],\n",
       " 'ParentesiGraffe': [15],\n",
       " 'Addizione': [1, 10, 5, 18, 20, 33, 30],\n",
       " 'Sottrazione': [16],\n",
       " 'Moltiplicazione': [3, 13, 26],\n",
       " 'Divisione': [7, 23, 28],\n",
       " 'MenoUnario': [],\n",
       " 'Frazione': [],\n",
       " 'Potenza': [],\n",
       " 'Numero': [0, 2, 4, 6, 8, 11, 14, 17, 19, 21, 24, 27, 29, 31, 34]}"
      ]
     },
     "execution_count": 118,
     "metadata": {},
     "output_type": "execute_result"
    }
   ],
   "source": []
  },
  {
   "cell_type": "code",
   "execution_count": 123,
   "id": "2701714d",
   "metadata": {},
   "outputs": [
    {
     "data": {
      "text/plain": [
       "'1 + \\\\left\\\\{ 2 \\\\times \\\\left[ \\\\left( 3 + 4 : 2 \\\\right) + 5 \\\\right] \\\\times 6 \\\\right\\\\} - \\\\left[ 7 + \\\\left( 1 + 8 \\\\right) : 3 \\\\right] \\\\times \\\\left[ 9 : \\\\left( 2 + 1 \\\\right) + 2 \\\\right]'"
      ]
     },
     "execution_count": 123,
     "metadata": {},
     "output_type": "execute_result"
    }
   ],
   "source": [
    "texts = simpler.solve()"
   ]
  },
  {
   "cell_type": "code",
   "execution_count": 131,
   "id": "2270e524",
   "metadata": {},
   "outputs": [
    {
     "name": "stdout",
     "output_type": "stream",
     "text": [
      "1 + \\left\\{ 2 \\times \\left[ \\left( 3 + 4 : 2 \\right) + 5 \\right] \\times 6 \\right\\} - \\left[ 7 + \\left( 1 + 8 \\right) : 3 \\right] \\times \\left[ 9 : \\left( 2 + 1 \\right) + 2 \\right]\n",
      "\n",
      "{'Nodo': [], 'ParentesiTonde': [9, 22, 32], 'ParentesiQuadre': [12, 25, 35], 'ParentesiGraffe': [15], 'Addizione': [1, 10, 5, 18, 20, 33, 30], 'Sottrazione': [16], 'Moltiplicazione': [3, 13, 26], 'Divisione': [7, 23, 28], 'MenoUnario': [], 'Frazione': [], 'Potenza': [], 'Numero': [0, 2, 4, 6, 8, 11, 14, 17, 19, 21, 24, 27, 29, 31, 34]}\n",
      "\n",
      "['&1 + \\\\left\\\\{ 2 \\\\times \\\\left[ \\\\left( 3 + 4 : 2 \\\\right) + 5 \\\\right] \\\\times 6 \\\\right\\\\} - \\\\left[ 7 + \\\\left( 1 + 8 \\\\right) : 3 \\\\right] \\\\times \\\\left[ 9 : \\\\left( 2 + 1 \\\\right) + 2 \\\\right]', '1 + \\\\left\\\\{ 2 \\\\times \\\\left[ \\\\color{blue} {\\\\left( 3 + 4 : 2 \\\\right)} + 5 \\\\right] \\\\times 6 \\\\right\\\\} - \\\\left[ 7 + \\\\left( 1 + 8 \\\\right) : 3 \\\\right] \\\\times \\\\left[ 9 : \\\\left( 2 + 1 \\\\right) + 2 \\\\right]', '1 + \\\\left\\\\{ 2 \\\\times \\\\left[ \\\\left( 3 + 4 : 2 \\\\right) + 5 \\\\right] \\\\times 6 \\\\right\\\\} - \\\\left[ 7 + \\\\color{blue} {\\\\left( 1 + 8 \\\\right)} : 3 \\\\right] \\\\times \\\\left[ 9 : \\\\left( 2 + 1 \\\\right) + 2 \\\\right]', '1 + \\\\left\\\\{ 2 \\\\times \\\\left[ \\\\left( 3 + 4 : 2 \\\\right) + 5 \\\\right] \\\\times 6 \\\\right\\\\} - \\\\left[ 7 + \\\\left( 1 + 8 \\\\right) : 3 \\\\right] \\\\times \\\\left[ 9 : \\\\color{blue} {\\\\left( 2 + 1 \\\\right)} + 2 \\\\right]', '1 + \\\\left\\\\{ 2 \\\\times \\\\color{blue} {\\\\left[ \\\\left( 3 + 4 : 2 \\\\right) + 5 \\\\right]} \\\\times 6 \\\\right\\\\} - \\\\left[ 7 + \\\\left( 1 + 8 \\\\right) : 3 \\\\right] \\\\times \\\\left[ 9 : \\\\left( 2 + 1 \\\\right) + 2 \\\\right]', '1 + \\\\left\\\\{ 2 \\\\times \\\\left[ \\\\left( 3 + 4 : 2 \\\\right) + 5 \\\\right] \\\\times 6 \\\\right\\\\} - \\\\color{blue} {\\\\left[ 7 + \\\\left( 1 + 8 \\\\right) : 3 \\\\right]} \\\\times \\\\left[ 9 : \\\\left( 2 + 1 \\\\right) + 2 \\\\right]', '1 + \\\\left\\\\{ 2 \\\\times \\\\left[ \\\\left( 3 + 4 : 2 \\\\right) + 5 \\\\right] \\\\times 6 \\\\right\\\\} - \\\\left[ 7 + \\\\left( 1 + 8 \\\\right) : 3 \\\\right] \\\\times \\\\color{blue} {\\\\left[ 9 : \\\\left( 2 + 1 \\\\right) + 2 \\\\right]}', '1 + \\\\color{blue} {\\\\left\\\\{ 2 \\\\times \\\\left[ \\\\left( 3 + 4 : 2 \\\\right) + 5 \\\\right] \\\\times 6 \\\\right\\\\}} - \\\\left[ 7 + \\\\left( 1 + 8 \\\\right) : 3 \\\\right] \\\\times \\\\left[ 9 : \\\\left( 2 + 1 \\\\right) + 2 \\\\right]']\n",
      "\n"
     ]
    },
    {
     "data": {
      "text/latex": [
       "$\\displaystyle 1 + \\left\\{ 2 \\times \\left[ \\left( 3 + 4 : 2 \\right) + 5 \\right] \\times 6 \\right\\} - \\left[ 7 + \\left( 1 + 8 \\right) : 3 \\right] \\times \\left[ 9 : \\left( 2 + 1 \\right) + 2 \\right]$"
      ],
      "text/plain": [
       "<IPython.core.display.Math object>"
      ]
     },
     "execution_count": 131,
     "metadata": {},
     "output_type": "execute_result"
    }
   ],
   "source": [
    "print(simpler.root.get_latex())\n",
    "print(  )\n",
    "print(simpler.nodes_type2node_id)\n",
    "print(  )\n",
    "print(texts)\n",
    "print(  )\n",
    "show_latex(simpler.root.get_latex())\n"
   ]
  },
  {
   "cell_type": "code",
   "execution_count": 125,
   "id": "23a5dd53",
   "metadata": {},
   "outputs": [],
   "source": [
    "text = '\\\\\\\\&'.join(texts)\n",
    "text = \"\\\\begin{align}\" + text + \"\\end{align}\""
   ]
  },
  {
   "cell_type": "code",
   "execution_count": 126,
   "id": "cf2394a0",
   "metadata": {},
   "outputs": [
    {
     "data": {
      "text/latex": [
       "$\\displaystyle \\begin{align}&1 + \\left\\{ 2 \\times \\left[ \\left( 3 + 4 : 2 \\right) + 5 \\right] \\times 6 \\right\\} - \\left[ 7 + \\left( 1 + 8 \\right) : 3 \\right] \\times \\left[ 9 : \\left( 2 + 1 \\right) + 2 \\right]\\\\&1 + \\left\\{ 2 \\times \\left[ \\color{blue} {\\left( 3 + 4 : 2 \\right)} + 5 \\right] \\times 6 \\right\\} - \\left[ 7 + \\left( 1 + 8 \\right) : 3 \\right] \\times \\left[ 9 : \\left( 2 + 1 \\right) + 2 \\right]\\\\&1 + \\left\\{ 2 \\times \\left[ \\left( 3 + 4 : 2 \\right) + 5 \\right] \\times 6 \\right\\} - \\left[ 7 + \\color{blue} {\\left( 1 + 8 \\right)} : 3 \\right] \\times \\left[ 9 : \\left( 2 + 1 \\right) + 2 \\right]\\\\&1 + \\left\\{ 2 \\times \\left[ \\left( 3 + 4 : 2 \\right) + 5 \\right] \\times 6 \\right\\} - \\left[ 7 + \\left( 1 + 8 \\right) : 3 \\right] \\times \\left[ 9 : \\color{blue} {\\left( 2 + 1 \\right)} + 2 \\right]\\\\&1 + \\left\\{ 2 \\times \\color{blue} {\\left[ \\left( 3 + 4 : 2 \\right) + 5 \\right]} \\times 6 \\right\\} - \\left[ 7 + \\left( 1 + 8 \\right) : 3 \\right] \\times \\left[ 9 : \\left( 2 + 1 \\right) + 2 \\right]\\\\&1 + \\left\\{ 2 \\times \\left[ \\left( 3 + 4 : 2 \\right) + 5 \\right] \\times 6 \\right\\} - \\color{blue} {\\left[ 7 + \\left( 1 + 8 \\right) : 3 \\right]} \\times \\left[ 9 : \\left( 2 + 1 \\right) + 2 \\right]\\\\&1 + \\left\\{ 2 \\times \\left[ \\left( 3 + 4 : 2 \\right) + 5 \\right] \\times 6 \\right\\} - \\left[ 7 + \\left( 1 + 8 \\right) : 3 \\right] \\times \\color{blue} {\\left[ 9 : \\left( 2 + 1 \\right) + 2 \\right]}\\\\&1 + \\color{blue} {\\left\\{ 2 \\times \\left[ \\left( 3 + 4 : 2 \\right) + 5 \\right] \\times 6 \\right\\}} - \\left[ 7 + \\left( 1 + 8 \\right) : 3 \\right] \\times \\left[ 9 : \\left( 2 + 1 \\right) + 2 \\right]\\end{align}$"
      ],
      "text/plain": [
       "<IPython.core.display.Math object>"
      ]
     },
     "execution_count": 126,
     "metadata": {},
     "output_type": "execute_result"
    }
   ],
   "source": [
    "show_latex(text)"
   ]
  },
  {
   "cell_type": "code",
   "execution_count": null,
   "id": "abd61d63",
   "metadata": {},
   "outputs": [],
   "source": []
  }
 ],
 "metadata": {
  "kernelspec": {
   "display_name": "Python 3",
   "language": "python",
   "name": "python3"
  },
  "language_info": {
   "codemirror_mode": {
    "name": "ipython",
    "version": 3
   },
   "file_extension": ".py",
   "mimetype": "text/x-python",
   "name": "python",
   "nbconvert_exporter": "python",
   "pygments_lexer": "ipython3",
   "version": "3.9.5"
  }
 },
 "nbformat": 4,
 "nbformat_minor": 5
}
