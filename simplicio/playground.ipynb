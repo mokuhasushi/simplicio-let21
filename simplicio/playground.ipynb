{
 "cells": [
  {
   "cell_type": "code",
   "execution_count": 1,
   "id": "7c7b960a",
   "metadata": {},
   "outputs": [],
   "source": [
    "%load_ext autoreload"
   ]
  },
  {
   "cell_type": "code",
   "execution_count": 2,
   "id": "61962af0",
   "metadata": {},
   "outputs": [],
   "source": [
    "%autoreload 2"
   ]
  },
  {
   "cell_type": "code",
   "execution_count": 3,
   "id": "6ea4a10b",
   "metadata": {},
   "outputs": [],
   "source": [
    "from utilities import nodo2tree\n",
    "import shuntingyard as sy\n",
    "import importlib\n",
    "from IPython.display import Math as show_latex"
   ]
  },
  {
   "cell_type": "code",
   "execution_count": 7,
   "id": "3eb97f9c",
   "metadata": {},
   "outputs": [],
   "source": [
    "from semplificatore import Semplificatore as smp"
   ]
  },
  {
   "cell_type": "code",
   "execution_count": 88,
   "id": "3cc6c794",
   "metadata": {},
   "outputs": [],
   "source": [
    "test_expr = \"1 + {2 * [(3 + 4 : 2) + 5] * 6} - [7 + (1 + 8) : 3] * [9 : (2 + 1) + 2]#\"\n",
    "test_pow = \"2^(3+4^5:2^7)#\"\n",
    "test_frac_1 = \"(2+4)/(3+4)#\"\n",
    "test_riassuntivo = \"3 + 13 * ~(1+3) / (2^(1+4) - 6)#\"\n",
    "test_parentesi_semplice = \"3/(4+2) + 2 * {3:(4+5) + 2^(6*1/2)}-(2*[5*(3+4)+5]-1)/6#\"\n",
    "test_parentesi_libere = \"3/(4+2) + 2 * (3:(4+5) + 2^(6*1/2))-(2*(5*(3+4)+5)-1)/6#\"\n",
    "test_parentesi_libere2 = \"3/(4+2) + 2 * (3:(4+5) : 2^(6*1/2))-(2*(5*(3+4)+5)-1)/6#\"\n",
    "test_rapido = \"3 + 3 + 8 + 6 * 2#\"\n",
    "test_segni_unari_multipli = \"---3 + -56 * -(-(-(5)))#\"\n",
    "test_lungo = \"-19 + 4 * 45 / {12^[3+60/6:5] - 7/4 + 3 * (13 - 5 * -2^3)} * 22 / 143 - [13^2/45*3+3/(7+3^2)] : 3 - 1 + {12^(3+4)/12 + [5 - 3*4 + -(4^(9/3))]}#\""
   ]
  },
  {
   "cell_type": "code",
   "execution_count": 91,
   "id": "2470ef71",
   "metadata": {},
   "outputs": [],
   "source": [
    "n = sy.parse_expr(test_lungo, 'Q')\n",
    "simpler = smp(n)\n",
    "# nodo2tree(n)"
   ]
  },
  {
   "cell_type": "code",
   "execution_count": 90,
   "id": "3cc7faed",
   "metadata": {},
   "outputs": [
    {
     "name": "stdout",
     "output_type": "stream",
     "text": [
      "{'type': 'Potenza', 'id': 28, 'colore': 'red'}, [{'type': 'Numero', 'id': 27, 'value': 2}, [], {'type': 'Numero', 'id': 29, 'value': 3}, []]\n",
      "{'type': 'Potenza', 'id': 73, 'colore': 'red'}, [{'type': 'Numero', 'id': 72, 'value': 4}, [], {'type': 'Numero', 'id': 75, 'value': 3}, []]\n",
      "{'type': 'Potenza', 'id': 38, 'colore': 'red'}, [{'type': 'Numero', 'id': 37, 'value': 13}, [], {'type': 'Numero', 'id': 39, 'value': 2}, []]\n",
      "{'type': 'Potenza', 'id': 50, 'colore': 'red'}, [{'type': 'Numero', 'id': 49, 'value': 3}, [], {'type': 'Numero', 'id': 51, 'value': 2}, []]\n",
      "{'type': 'Potenza', 'id': 59, 'colore': 'red'}, [{'type': 'Numero', 'id': 58, 'value': 12}, [], {'type': 'Numero', 'id': 61, 'value': 7}, []]\n",
      "{'type': 'Potenza', 'id': 8, 'colore': 'red'}, [{'type': 'Numero', 'id': 7, 'value': 12}, [], {'type': 'Numero', 'id': 10, 'value': 5}, []]\n"
     ]
    },
    {
     "data": {
      "text/latex": [
       "$\\displaystyle \\begin{align}&- 19 + 4 \\times \\frac{45} {12 ^ {3 + \\frac{60} {6} : 5} - \\frac{7} {4} + 3 \\times \\left( 13 - 5 \\times - 2 ^ {3} \\right)} \\times \\frac{22} {143} - \\left[ \\frac{13 ^ {2}} {45} \\times 3 + \\frac{3} {7 + 3 ^ {2}} \\right] : 3 - 1 + \\left\\{ \\frac{12 ^ {3 + 4}} {12} + \\left[ 5 - 3 \\times 4 + - \\left( 4 ^ {\\frac{9} {3}} \\right) \\right] \\right\\}\\\\&- 19 + 4 \\times \\frac{45} {12 ^ {3 + \\frac{60} {6} : 5} - \\frac{7} {4} + 3 \\times \\color{blue} {\\left( 13 - 5 \\times - \\color{red} {\\boxed{2 ^ {3}}} \\right)}} \\times \\frac{22} {143} - \\left[ \\frac{13 ^ {2}} {45} \\times 3 + \\frac{3} {7 + 3 ^ {2}} \\right] : 3 - 1 + \\left\\{ \\frac{12 ^ {3 + 4}} {12} + \\left[ 5 - 3 \\times 4 + - \\left( 4 ^ {\\frac{9} {3}} \\right) \\right] \\right\\}\\\\&- 19 + 4 \\times \\frac{45} {12 ^ {3 + \\frac{60} {6} : 5} - \\frac{7} {4} + 3 \\times \\color{blue} {\\left( 13 - 5 \\times \\color{red} {\\boxed{- \\color{green} {\\boxed{8}}}} \\right)}} \\times \\frac{22} {143} - \\left[ \\frac{13 ^ {2}} {45} \\times 3 + \\frac{3} {7 + 3 ^ {2}} \\right] : 3 - 1 + \\left\\{ \\frac{12 ^ {3 + 4}} {12} + \\left[ 5 - 3 \\times 4 + - \\left( 4 ^ {\\frac{9} {3}} \\right) \\right] \\right\\}\\\\&- 19 + 4 \\times \\frac{45} {12 ^ {3 + \\frac{60} {6} : 5} - \\frac{7} {4} + 3 \\times \\color{blue} {\\left( 13 - \\color{red} {\\boxed{5 \\times \\color{green} {\\boxed{-8}}}} \\right)}} \\times \\frac{22} {143} - \\left[ \\frac{13 ^ {2}} {45} \\times 3 + \\frac{3} {7 + 3 ^ {2}} \\right] : 3 - 1 + \\left\\{ \\frac{12 ^ {3 + 4}} {12} + \\left[ 5 - 3 \\times 4 + - \\left( 4 ^ {\\frac{9} {3}} \\right) \\right] \\right\\}\\\\&- 19 + 4 \\times \\frac{45} {12 ^ {3 + \\frac{60} {6} : 5} - \\frac{7} {4} + 3 \\times \\color{blue} {\\left( \\color{red} {\\boxed{13 - \\color{green} {\\boxed{-40}}}} \\right)}} \\times \\frac{22} {143} - \\left[ \\frac{13 ^ {2}} {45} \\times 3 + \\frac{3} {7 + 3 ^ {2}} \\right] : 3 - 1 + \\left\\{ \\frac{12 ^ {3 + 4}} {12} + \\left[ 5 - 3 \\times 4 + - \\left( 4 ^ {\\frac{9} {3}} \\right) \\right] \\right\\}\\\\&- 19 + 4 \\times \\frac{45} {12 ^ {3 + \\frac{60} {6} : 5} - \\frac{7} {4} + 3 \\times \\color{green} {\\boxed{53}}} \\times \\frac{22} {143} - \\left[ \\frac{13 ^ {2}} {45} \\times 3 + \\frac{3} {7 + 3 ^ {2}} \\right] : 3 - 1 + \\left\\{ \\frac{12 ^ {3 + 4}} {12} + \\left[ 5 - 3 \\times 4 + - \\color{blue} {\\left( 4 ^ {\\color{red} {\\boxed{\\frac{9} {3}}}} \\right)} \\right] \\right\\}\\\\&- 19 + 4 \\times \\frac{45} {12 ^ {3 + \\frac{60} {6} : 5} - \\frac{7} {4} + 3 \\times 53} \\times \\frac{22} {143} - \\left[ \\frac{13 ^ {2}} {45} \\times 3 + \\frac{3} {7 + 3 ^ {2}} \\right] : 3 - 1 + \\left\\{ \\frac{12 ^ {3 + 4}} {12} + \\left[ 5 - 3 \\times 4 + - \\color{blue} {\\left( \\color{red} {\\boxed{4 ^ {\\color{green} {\\boxed{3}}}}} \\right)} \\right] \\right\\}\\\\&- 19 + 4 \\times \\frac{45} {12 ^ {3 + \\frac{60} {6} : 5} - \\frac{7} {4} + 3 \\times 53} \\times \\frac{22} {143} - \\color{blue} {\\left[ \\frac{\\color{red} {\\boxed{13 ^ {2}}}} {45} \\times 3 + \\frac{3} {7 + 3 ^ {2}} \\right]} : 3 - 1 + \\left\\{ \\frac{12 ^ {3 + 4}} {12} + \\left[ 5 - 3 \\times 4 + - \\color{green} {\\boxed{64}} \\right] \\right\\}\\\\&- 19 + 4 \\times \\frac{45} {12 ^ {3 + \\frac{60} {6} : 5} - \\frac{7} {4} + 3 \\times 53} \\times \\frac{22} {143} - \\color{blue} {\\left[ \\color{red} {\\boxed{\\frac{\\color{green} {\\boxed{169}}} {45}}} \\times 3 + \\frac{3} {7 + 3 ^ {2}} \\right]} : 3 - 1 + \\left\\{ \\frac{12 ^ {3 + 4}} {12} + \\left[ 5 - 3 \\times 4 + - 64 \\right] \\right\\}\\\\&- 19 + 4 \\times \\frac{45} {12 ^ {3 + \\frac{60} {6} : 5} - \\frac{7} {4} + 3 \\times 53} \\times \\frac{22} {143} - \\color{blue} {\\left[ \\color{red} {\\boxed{\\color{green} {\\boxed{\\frac{169} {45}}} \\times 3}} + \\frac{3} {7 + 3 ^ {2}} \\right]} : 3 - 1 + \\left\\{ \\frac{12 ^ {3 + 4}} {12} + \\left[ 5 - 3 \\times 4 + - 64 \\right] \\right\\}\\\\&- 19 + 4 \\times \\frac{45} {12 ^ {3 + \\frac{60} {6} : 5} - \\frac{7} {4} + 3 \\times 53} \\times \\frac{22} {143} - \\color{blue} {\\left[ \\color{green} {\\boxed{\\frac{169} {15}}} + \\frac{3} {7 + \\color{red} {\\boxed{3 ^ {2}}}} \\right]} : 3 - 1 + \\left\\{ \\frac{12 ^ {3 + 4}} {12} + \\left[ 5 - 3 \\times 4 + - 64 \\right] \\right\\}\\\\&- 19 + 4 \\times \\frac{45} {12 ^ {3 + \\frac{60} {6} : 5} - \\frac{7} {4} + 3 \\times 53} \\times \\frac{22} {143} - \\color{blue} {\\left[ \\frac{169} {15} + \\frac{3} {\\color{red} {\\boxed{7 + \\color{green} {\\boxed{9}}}}} \\right]} : 3 - 1 + \\left\\{ \\frac{12 ^ {3 + 4}} {12} + \\left[ 5 - 3 \\times 4 + - 64 \\right] \\right\\}\\\\&- 19 + 4 \\times \\frac{45} {12 ^ {3 + \\frac{60} {6} : 5} - \\frac{7} {4} + 3 \\times 53} \\times \\frac{22} {143} - \\color{blue} {\\left[ \\frac{169} {15} + \\color{red} {\\boxed{\\frac{3} {\\color{green} {\\boxed{16}}}}} \\right]} : 3 - 1 + \\left\\{ \\frac{12 ^ {3 + 4}} {12} + \\left[ 5 - 3 \\times 4 + - 64 \\right] \\right\\}\\\\&- 19 + 4 \\times \\frac{45} {12 ^ {3 + \\frac{60} {6} : 5} - \\frac{7} {4} + 3 \\times 53} \\times \\frac{22} {143} - \\color{blue} {\\left[ \\color{red} {\\boxed{\\frac{169} {15} + \\color{green} {\\boxed{\\frac{3} {16}}}}} \\right]} : 3 - 1 + \\left\\{ \\frac{12 ^ {3 + 4}} {12} + \\left[ 5 - 3 \\times 4 + - 64 \\right] \\right\\}\\\\&- 19 + 4 \\times \\frac{45} {12 ^ {3 + \\frac{60} {6} : 5} - \\frac{7} {4} + 3 \\times 53} \\times \\frac{22} {143} - \\color{green} {\\boxed{\\frac{2749} {240}}} : 3 - 1 + \\left\\{ \\frac{12 ^ {3 + 4}} {12} + \\color{blue} {\\left[ 5 - \\color{red} {\\boxed{3 \\times 4}} + - 64 \\right]} \\right\\}\\\\&- 19 + 4 \\times \\frac{45} {12 ^ {3 + \\frac{60} {6} : 5} - \\frac{7} {4} + 3 \\times 53} \\times \\frac{22} {143} - \\frac{2749} {240} : 3 - 1 + \\left\\{ \\frac{12 ^ {3 + 4}} {12} + \\color{blue} {\\left[ 5 - \\color{green} {\\boxed{12}} + \\color{red} {\\boxed{- 64}} \\right]} \\right\\}\\\\&- 19 + 4 \\times \\frac{45} {12 ^ {3 + \\frac{60} {6} : 5} - \\frac{7} {4} + 3 \\times 53} \\times \\frac{22} {143} - \\frac{2749} {240} : 3 - 1 + \\left\\{ \\frac{12 ^ {3 + 4}} {12} + \\color{blue} {\\left[ 5 - \\color{red} {\\boxed{12 + \\color{green} {\\boxed{-64}}}} \\right]} \\right\\}\\\\&- 19 + 4 \\times \\frac{45} {12 ^ {3 + \\frac{60} {6} : 5} - \\frac{7} {4} + 3 \\times 53} \\times \\frac{22} {143} - \\frac{2749} {240} : 3 - 1 + \\left\\{ \\frac{12 ^ {3 + 4}} {12} + \\color{blue} {\\left[ \\color{red} {\\boxed{5 - \\color{green} {\\boxed{-52}}}} \\right]} \\right\\}\\\\&- 19 + 4 \\times \\frac{45} {12 ^ {3 + \\frac{60} {6} : 5} - \\frac{7} {4} + 3 \\times 53} \\times \\frac{22} {143} - \\frac{2749} {240} : 3 - 1 + \\color{blue} {\\left\\{ \\frac{12 ^ {\\color{red} {\\boxed{3 + 4}}}} {12} + \\color{green} {\\boxed{57}} \\right\\}}\\\\&- 19 + 4 \\times \\frac{45} {12 ^ {3 + \\frac{60} {6} : 5} - \\frac{7} {4} + 3 \\times 53} \\times \\frac{22} {143} - \\frac{2749} {240} : 3 - 1 + \\color{blue} {\\left\\{ \\frac{\\color{red} {\\boxed{12 ^ {\\color{green} {\\boxed{7}}}}}} {12} + 57 \\right\\}}\\\\&- 19 + 4 \\times \\frac{45} {12 ^ {3 + \\frac{60} {6} : 5} - \\frac{7} {4} + 3 \\times 53} \\times \\frac{22} {143} - \\frac{2749} {240} : 3 - 1 + \\color{blue} {\\left\\{ \\color{red} {\\boxed{\\frac{\\color{green} {\\boxed{35831808}}} {12}}} + 57 \\right\\}}\\\\&- 19 + 4 \\times \\frac{45} {12 ^ {3 + \\frac{60} {6} : 5} - \\frac{7} {4} + 3 \\times 53} \\times \\frac{22} {143} - \\frac{2749} {240} : 3 - 1 + \\color{blue} {\\left\\{ \\color{red} {\\boxed{\\color{green} {\\boxed{2985984}} + 57}} \\right\\}}\\\\&\\color{red} {\\boxed{- 19}} + 4 \\times \\frac{45} {12 ^ {3 + \\frac{60} {6} : 5} - \\frac{7} {4} + 3 \\times 53} \\times \\frac{22} {143} - \\frac{2749} {240} : 3 - 1 + \\color{green} {\\boxed{2986041}}\\\\&\\color{green} {\\boxed{-19}} + 4 \\times \\frac{45} {12 ^ {3 + \\color{red} {\\boxed{\\frac{60} {6}}} : 5} - \\frac{7} {4} + 3 \\times 53} \\times \\frac{22} {143} - \\frac{2749} {240} : 3 - 1 + 2986041\\\\&-19 + 4 \\times \\frac{45} {12 ^ {3 + \\color{red} {\\boxed{\\color{green} {\\boxed{10}} : 5}}} - \\frac{7} {4} + 3 \\times 53} \\times \\frac{22} {143} - \\frac{2749} {240} : 3 - 1 + 2986041\\\\&-19 + 4 \\times \\frac{45} {12 ^ {\\color{red} {\\boxed{3 + \\color{green} {\\boxed{2}}}}} - \\frac{7} {4} + 3 \\times 53} \\times \\frac{22} {143} - \\frac{2749} {240} : 3 - 1 + 2986041\\\\&-19 + 4 \\times \\frac{45} {\\color{red} {\\boxed{12 ^ {\\color{green} {\\boxed{5}}}}} - \\frac{7} {4} + 3 \\times 53} \\times \\frac{22} {143} - \\frac{2749} {240} : 3 - 1 + 2986041\\\\&-19 + 4 \\times \\frac{45} {\\color{green} {\\boxed{248832}} - \\color{red} {\\boxed{\\frac{7} {4}}} + 3 \\times 53} \\times \\frac{22} {143} - \\frac{2749} {240} : 3 - 1 + 2986041\\\\&-19 + 4 \\times \\frac{45} {248832 - \\color{green} {\\boxed{\\frac{7} {4}}} + \\color{red} {\\boxed{3 \\times 53}}} \\times \\frac{22} {143} - \\frac{2749} {240} : 3 - 1 + 2986041\\\\&-19 + 4 \\times \\frac{45} {248832 - \\color{red} {\\boxed{\\frac{7} {4} + \\color{green} {\\boxed{159}}}}} \\times \\frac{22} {143} - \\frac{2749} {240} : 3 - 1 + 2986041\\\\&-19 + 4 \\times \\frac{45} {\\color{red} {\\boxed{248832 - \\color{green} {\\boxed{\\frac{643} {4}}}}}} \\times \\frac{22} {143} - \\frac{2749} {240} : 3 - 1 + 2986041\\\\&-19 + 4 \\times \\color{red} {\\boxed{\\frac{45} {\\color{green} {\\boxed{\\frac{994685} {4}}}}}} \\times \\frac{22} {143} - \\frac{2749} {240} : 3 - 1 + 2986041\\\\&-19 + 4 \\times \\color{green} {\\boxed{\\frac{36} {198937}}} \\times \\color{red} {\\boxed{\\frac{22} {143}}} - \\frac{2749} {240} : 3 - 1 + 2986041\\\\&-19 + \\color{red} {\\boxed{4 \\times \\frac{36} {198937} \\times \\color{green} {\\boxed{\\frac{2} {13}}}}} - \\frac{2749} {240} : 3 - 1 + 2986041\\\\&-19 + \\color{green} {\\boxed{\\frac{288} {2586181}}} - \\color{red} {\\boxed{\\frac{2749} {240} : 3}} - 1 + 2986041\\\\&-19 + \\frac{288} {2586181} - \\color{green} {\\boxed{\\frac{2749} {720}}} - \\color{red} {\\boxed{1 + 2986041}}\\\\&-19 + \\color{red} {\\boxed{\\frac{288} {2586181} - \\frac{2749} {720} - \\color{green} {\\boxed{2986042}}}}\\\\&\\color{red} {\\boxed{-19 + \\color{green} {\\boxed{\\frac{5560153352429231} {1862050320}}}}}\\\\&\\color{green} {\\boxed{\\frac{5560117973473151} {1862050320}}}\\end{align}$"
      ],
      "text/plain": [
       "<IPython.core.display.Math object>"
      ]
     },
     "execution_count": 90,
     "metadata": {},
     "output_type": "execute_result"
    }
   ],
   "source": [
    "texts = simpler.solve()\n",
    "text = '\\\\\\\\&'.join(texts)\n",
    "text = \"\\\\begin{align}\" + text + \"\\end{align}\"\n",
    "show_latex(text)"
   ]
  },
  {
   "cell_type": "code",
   "execution_count": 45,
   "id": "4cda9c51",
   "metadata": {},
   "outputs": [
    {
     "name": "stdout",
     "output_type": "stream",
     "text": [
      "4\n",
      "\n",
      "{'Nodo': [], 'ParentesiTonde': [13, 22, 31, 34], 'ParentesiQuadre': [], 'ParentesiGraffe': [], 'Addizione': [3, 11, 14, 29, 32, 5], 'Sottrazione': [35, 23], 'Moltiplicazione': [18, 7, 27, 25], 'Divisione': [9], 'MenoUnario': [], 'Frazione': [1, 20, 37], 'Potenza': [16], 'Numero': [0, 2, 4, 6, 8, 10, 12, 15, 17, 19, 21, 24, 26, 28, 30, 33, 36, 38]}\n",
      "\n",
      "['&\\\\frac{3} {4 + 2} + 2 \\\\times \\\\left( 3 : \\\\left( 4 + 5 \\\\right) + 2 ^ {6 \\\\times \\\\frac{1} {2}} \\\\right) - \\\\frac{2 \\\\times \\\\left( 5 \\\\times \\\\left( 3 + 4 \\\\right) + 5 \\\\right) - 1} {6}', '\\\\frac{3} {4 + 2} + 2 \\\\times \\\\left( 3 : \\\\color{blue} {\\\\left( \\\\color{red} {\\\\boxed{4 + 5}} \\\\right)} + 2 ^ {6 \\\\times \\\\frac{1} {2}} \\\\right) - \\\\frac{2 \\\\times \\\\left( 5 \\\\times \\\\left( 3 + 4 \\\\right) + 5 \\\\right) - 1} {6}', '\\\\frac{3} {4 + 2} + 2 \\\\times \\\\color{blue} {\\\\left( \\\\color{red} {\\\\boxed{3 : \\\\color{green} {\\\\boxed{9}}}} + 2 ^ {6 \\\\times \\\\frac{1} {2}} \\\\right)} - \\\\frac{2 \\\\times \\\\left( 5 \\\\times \\\\left( 3 + 4 \\\\right) + 5 \\\\right) - 1} {6}', '\\\\frac{3} {4 + 2} + 2 \\\\times \\\\color{blue} {\\\\left( \\\\color{green} {\\\\boxed{\\\\frac{1} {3}}} + 2 ^ {6 \\\\times \\\\color{red} {\\\\boxed{\\\\frac{1} {2}}}} \\\\right)} - \\\\frac{2 \\\\times \\\\left( 5 \\\\times \\\\left( 3 + 4 \\\\right) + 5 \\\\right) - 1} {6}', '\\\\frac{3} {4 + 2} + 2 \\\\times \\\\color{blue} {\\\\left( \\\\frac{1} {3} + 2 ^ {\\\\color{red} {\\\\boxed{6 \\\\times \\\\color{green} {\\\\boxed{\\\\frac{1} {2}}}}}} \\\\right)} - \\\\frac{2 \\\\times \\\\left( 5 \\\\times \\\\left( 3 + 4 \\\\right) + 5 \\\\right) - 1} {6}', '\\\\frac{3} {4 + 2} + 2 \\\\times \\\\color{blue} {\\\\left( \\\\frac{1} {3} + \\\\color{red} {\\\\boxed{2 ^ {\\\\color{green} {\\\\boxed{3}}}}} \\\\right)} - \\\\frac{2 \\\\times \\\\left( 5 \\\\times \\\\left( 3 + 4 \\\\right) + 5 \\\\right) - 1} {6}', '\\\\frac{3} {4 + 2} + 2 \\\\times \\\\color{blue} {\\\\left( \\\\color{red} {\\\\boxed{\\\\frac{1} {3} + \\\\color{green} {\\\\boxed{8}}}} \\\\right)} - \\\\frac{2 \\\\times \\\\left( 5 \\\\times \\\\left( 3 + 4 \\\\right) + 5 \\\\right) - 1} {6}', '\\\\frac{3} {4 + 2} + 2 \\\\times \\\\color{green} {\\\\boxed{\\\\frac{25} {3}}} - \\\\frac{2 \\\\times \\\\left( 5 \\\\times \\\\color{blue} {\\\\left( \\\\color{red} {\\\\boxed{3 + 4}} \\\\right)} + 5 \\\\right) - 1} {6}', '\\\\frac{3} {4 + 2} + 2 \\\\times \\\\frac{25} {3} - \\\\frac{2 \\\\times \\\\color{blue} {\\\\left( \\\\color{red} {\\\\boxed{5 \\\\times \\\\color{green} {\\\\boxed{7}}}} + 5 \\\\right)} - 1} {6}', '\\\\frac{3} {4 + 2} + 2 \\\\times \\\\frac{25} {3} - \\\\frac{2 \\\\times \\\\color{blue} {\\\\left( \\\\color{red} {\\\\boxed{\\\\color{green} {\\\\boxed{35}} + 5}} \\\\right)} - 1} {6}', '\\\\frac{3} {\\\\color{red} {\\\\boxed{4 + 2}}} + 2 \\\\times \\\\frac{25} {3} - \\\\frac{2 \\\\times \\\\color{green} {\\\\boxed{40}} - 1} {6}', '\\\\color{red} {\\\\boxed{\\\\frac{3} {\\\\color{green} {\\\\boxed{6}}}}} + 2 \\\\times \\\\frac{25} {3} - \\\\frac{2 \\\\times 40 - 1} {6}', '\\\\color{green} {\\\\boxed{\\\\frac{1} {2}}} + \\\\color{red} {\\\\boxed{2 \\\\times \\\\frac{25} {3}}} - \\\\frac{2 \\\\times 40 - 1} {6}', '\\\\frac{1} {2} + \\\\color{green} {\\\\boxed{\\\\frac{50} {3}}} - \\\\frac{\\\\color{red} {\\\\boxed{2 \\\\times 40}} - 1} {6}', '\\\\frac{1} {2} + \\\\frac{50} {3} - \\\\frac{\\\\color{red} {\\\\boxed{\\\\color{green} {\\\\boxed{80}} - 1}}} {6}', '\\\\frac{1} {2} + \\\\frac{50} {3} - \\\\color{red} {\\\\boxed{\\\\frac{\\\\color{green} {\\\\boxed{79}}} {6}}}', '\\\\frac{1} {2} + \\\\color{red} {\\\\boxed{\\\\frac{50} {3} - \\\\color{green} {\\\\boxed{\\\\frac{79} {6}}}}}', '\\\\color{red} {\\\\boxed{\\\\frac{1} {2} + \\\\color{green} {\\\\boxed{\\\\frac{7} {2}}}}}', '\\\\color{green} {\\\\boxed{4}}']\n",
      "\n"
     ]
    },
    {
     "data": {
      "text/latex": [
       "$\\displaystyle 4$"
      ],
      "text/plain": [
       "<IPython.core.display.Math object>"
      ]
     },
     "execution_count": 45,
     "metadata": {},
     "output_type": "execute_result"
    }
   ],
   "source": [
    "print(simpler.root.get_latex())\n",
    "print(  )\n",
    "print(simpler.nodes_type2node_id)\n",
    "print(  )\n",
    "print(texts)\n",
    "print(  )\n",
    "show_latex(simpler.root.get_latex())"
   ]
  },
  {
   "cell_type": "code",
   "execution_count": 46,
   "id": "2fed8427",
   "metadata": {},
   "outputs": [],
   "source": [
    "def string2latex(s):\n",
    "    n = sy.parse_expr(s, 'Q')\n",
    "    simpler = smp(n)\n",
    "    texts = simpler.solve()\n",
    "    text = '\\\\\\\\&'.join(texts)\n",
    "    text = \"\\\\begin{align}\" + text + \"\\end{align}\"\n",
    "    return text"
   ]
  },
  {
   "cell_type": "code",
   "execution_count": 98,
   "id": "d411f67c",
   "metadata": {},
   "outputs": [],
   "source": [
    "casi_semplici = [\"(2+4)/(3+4)#\", \"2/3/4#\", \"5/(6/7)#\", \"(2*3+4)/5#\", \"2/(3+4/5)#\", \"(((2+3)/4)/(5+6))/7#\"]\n",
    "potenze = [\"-2^(-2)\", \"(1/2)^3\"]"
   ]
  },
  {
   "cell_type": "code",
   "execution_count": 100,
   "id": "0993b902",
   "metadata": {},
   "outputs": [
    {
     "name": "stdout",
     "output_type": "stream",
     "text": [
      "-2^(-2) ok\n",
      "(1/2)^3 ok\n"
     ]
    }
   ],
   "source": [
    "lista_di_latex = []\n",
    "for t in potenze:\n",
    "    lista_di_latex.append(string2latex(t))\n",
    "    print(t, \"ok\")"
   ]
  },
  {
   "cell_type": "code",
   "execution_count": 102,
   "id": "d0d74660",
   "metadata": {},
   "outputs": [
    {
     "data": {
      "text/latex": [
       "$\\displaystyle \\begin{align}&\\frac{1} {2} ^ {3}\\\\&\\color{red} {\\boxed{\\frac{1} {2}}} ^ {3}\\\\&\\color{red} {\\boxed{\\color{green} {\\boxed{\\frac{1} {2}}} ^ {3}}}\\\\&\\color{green} {\\boxed{\\frac{1} {8}}}\\end{align}$"
      ],
      "text/plain": [
       "<IPython.core.display.Math object>"
      ]
     },
     "execution_count": 102,
     "metadata": {},
     "output_type": "execute_result"
    }
   ],
   "source": [
    "show_latex(lista_di_latex[1])"
   ]
  },
  {
   "cell_type": "code",
   "execution_count": 49,
   "id": "312a6267",
   "metadata": {},
   "outputs": [
    {
     "data": {
      "text/plain": [
       "['\\\\begin{align}&\\\\frac{2 + 4} {3 + 4}\\\\\\\\&\\\\frac{\\\\color{red} {\\\\boxed{2 + 4}}} {3 + 4}\\\\\\\\&\\\\frac{\\\\color{green} {\\\\boxed{6}}} {\\\\color{red} {\\\\boxed{3 + 4}}}\\\\\\\\&\\\\color{red} {\\\\boxed{\\\\frac{6} {\\\\color{green} {\\\\boxed{7}}}}}\\\\\\\\&\\\\color{green} {\\\\boxed{\\\\frac{6} {7}}}\\\\end{align}',\n",
       " '\\\\begin{align}&\\\\frac{2} {\\\\frac{3} {4}}\\\\\\\\&\\\\color{red} {\\\\boxed{\\\\frac{2} {\\\\frac{3} {4}}}}\\\\\\\\&\\\\color{green} {\\\\boxed{\\\\frac{8} {3}}}\\\\end{align}',\n",
       " '\\\\begin{align}&\\\\frac{5} {\\\\frac{6} {7}}\\\\\\\\&\\\\color{red} {\\\\boxed{\\\\frac{5} {\\\\frac{6} {7}}}}\\\\\\\\&\\\\color{green} {\\\\boxed{\\\\frac{35} {6}}}\\\\end{align}',\n",
       " '\\\\begin{align}&\\\\frac{2 \\\\times 3 + 4} {5}\\\\\\\\&\\\\frac{\\\\color{red} {\\\\boxed{2 \\\\times 3}} + 4} {5}\\\\\\\\&\\\\frac{\\\\color{red} {\\\\boxed{\\\\color{green} {\\\\boxed{6}} + 4}}} {5}\\\\\\\\&\\\\color{red} {\\\\boxed{\\\\frac{\\\\color{green} {\\\\boxed{10}}} {5}}}\\\\\\\\&\\\\color{green} {\\\\boxed{2}}\\\\end{align}',\n",
       " '\\\\begin{align}&\\\\frac{2} {3 + \\\\frac{4} {5}}\\\\\\\\&\\\\frac{2} {3 + \\\\color{red} {\\\\boxed{\\\\frac{4} {5}}}}\\\\\\\\&\\\\frac{2} {\\\\color{red} {\\\\boxed{3 + \\\\color{green} {\\\\boxed{\\\\frac{4} {5}}}}}}\\\\\\\\&\\\\color{red} {\\\\boxed{\\\\frac{2} {\\\\color{green} {\\\\boxed{\\\\frac{19} {5}}}}}}\\\\\\\\&\\\\color{green} {\\\\boxed{\\\\frac{10} {19}}}\\\\end{align}',\n",
       " '\\\\begin{align}&\\\\frac{\\\\frac{\\\\frac{2 + 3} {4}} {5 + 6}} {7}\\\\\\\\&\\\\frac{\\\\frac{\\\\frac{\\\\color{red} {\\\\boxed{2 + 3}}} {4}} {5 + 6}} {7}\\\\\\\\&\\\\frac{\\\\frac{\\\\color{red} {\\\\boxed{\\\\frac{\\\\color{green} {\\\\boxed{5}}} {4}}}} {5 + 6}} {7}\\\\\\\\&\\\\frac{\\\\frac{\\\\color{green} {\\\\boxed{\\\\frac{5} {4}}}} {\\\\color{red} {\\\\boxed{5 + 6}}}} {7}\\\\\\\\&\\\\color{red} {\\\\boxed{\\\\frac{\\\\frac{\\\\frac{5} {4}} {\\\\color{green} {\\\\boxed{11}}}} {7}}}\\\\\\\\&\\\\color{green} {\\\\boxed{\\\\frac{5} {308}}}\\\\end{align}']"
      ]
     },
     "execution_count": 49,
     "metadata": {},
     "output_type": "execute_result"
    }
   ],
   "source": [
    "lista_di_latex"
   ]
  },
  {
   "cell_type": "code",
   "execution_count": 51,
   "id": "d0a8220d",
   "metadata": {},
   "outputs": [],
   "source": [
    "n = sy.parse_expr(casi_semplici[5], 'Q')\n",
    "simpler = smp(n)\n"
   ]
  },
  {
   "cell_type": "code",
   "execution_count": 52,
   "id": "308a0b48",
   "metadata": {},
   "outputs": [
    {
     "data": {
      "image/svg+xml": [
       "<?xml version=\"1.0\" encoding=\"UTF-8\" standalone=\"no\"?>\n",
       "<!DOCTYPE svg PUBLIC \"-//W3C//DTD SVG 1.1//EN\"\n",
       " \"http://www.w3.org/Graphics/SVG/1.1/DTD/svg11.dtd\">\n",
       "<!-- Generated by graphviz version 2.47.1 (0)\n",
       " -->\n",
       "<!-- Pages: 1 -->\n",
       "<svg width=\"500pt\" height=\"327pt\"\n",
       " viewBox=\"0.00 0.00 500.00 327.00\" xmlns=\"http://www.w3.org/2000/svg\" xmlns:xlink=\"http://www.w3.org/1999/xlink\">\n",
       "<g id=\"graph0\" class=\"graph\" transform=\"scale(1 1) rotate(0) translate(4 323)\">\n",
       "<polygon fill=\"white\" stroke=\"transparent\" points=\"-4,4 -4,-323 496,-323 496,4 -4,4\"/>\n",
       "<!-- 140019145710320 -->\n",
       "<g id=\"node1\" class=\"node\">\n",
       "<title>140019145710320</title>\n",
       "<polygon fill=\"none\" stroke=\"black\" points=\"284.5,-300 284.5,-319 316.5,-319 316.5,-300 284.5,-300\"/>\n",
       "<text text-anchor=\"start\" x=\"287.5\" y=\"-306.4\" font-family=\"Times,serif\" font-size=\"12.00\">type</text>\n",
       "<polygon fill=\"none\" stroke=\"black\" points=\"316.5,-300 316.5,-319 376.5,-319 376.5,-300 316.5,-300\"/>\n",
       "<text text-anchor=\"start\" x=\"319.5\" y=\"-306.4\" font-family=\"Times,serif\" font-size=\"12.00\">Frazione</text>\n",
       "<polygon fill=\"none\" stroke=\"black\" points=\"284.5,-281 284.5,-300 316.5,-300 316.5,-281 284.5,-281\"/>\n",
       "<text text-anchor=\"start\" x=\"294.5\" y=\"-287.4\" font-family=\"Times,serif\" font-size=\"12.00\">id</text>\n",
       "<polygon fill=\"none\" stroke=\"black\" points=\"316.5,-281 316.5,-300 376.5,-300 376.5,-281 316.5,-281\"/>\n",
       "<text text-anchor=\"start\" x=\"342.5\" y=\"-287.4\" font-family=\"Times,serif\" font-size=\"12.00\">9</text>\n",
       "</g>\n",
       "<!-- 140019145709696 -->\n",
       "<g id=\"node2\" class=\"node\">\n",
       "<title>140019145709696</title>\n",
       "<polygon fill=\"none\" stroke=\"black\" points=\"228.5,-234.5 228.5,-253.5 260.5,-253.5 260.5,-234.5 228.5,-234.5\"/>\n",
       "<text text-anchor=\"start\" x=\"231.5\" y=\"-240.9\" font-family=\"Times,serif\" font-size=\"12.00\">type</text>\n",
       "<polygon fill=\"none\" stroke=\"black\" points=\"260.5,-234.5 260.5,-253.5 320.5,-253.5 320.5,-234.5 260.5,-234.5\"/>\n",
       "<text text-anchor=\"start\" x=\"263.5\" y=\"-240.9\" font-family=\"Times,serif\" font-size=\"12.00\">Frazione</text>\n",
       "<polygon fill=\"none\" stroke=\"black\" points=\"228.5,-215.5 228.5,-234.5 260.5,-234.5 260.5,-215.5 228.5,-215.5\"/>\n",
       "<text text-anchor=\"start\" x=\"238.5\" y=\"-221.9\" font-family=\"Times,serif\" font-size=\"12.00\">id</text>\n",
       "<polygon fill=\"none\" stroke=\"black\" points=\"260.5,-215.5 260.5,-234.5 320.5,-234.5 320.5,-215.5 260.5,-215.5\"/>\n",
       "<text text-anchor=\"start\" x=\"286.5\" y=\"-221.9\" font-family=\"Times,serif\" font-size=\"12.00\">5</text>\n",
       "</g>\n",
       "<!-- 140019145710320&#45;&gt;140019145709696 -->\n",
       "<g id=\"edge1\" class=\"edge\">\n",
       "<title>140019145710320&#45;&gt;140019145709696</title>\n",
       "<path fill=\"none\" stroke=\"black\" d=\"M314.6,-280.97C307.1,-272.47 298.16,-262.33 290.63,-253.79\"/>\n",
       "</g>\n",
       "<!-- 140019147917440 -->\n",
       "<g id=\"node3\" class=\"node\">\n",
       "<title>140019147917440</title>\n",
       "<polygon fill=\"none\" stroke=\"black\" points=\"339.5,-243.5 339.5,-262.5 378.5,-262.5 378.5,-243.5 339.5,-243.5\"/>\n",
       "<text text-anchor=\"start\" x=\"346\" y=\"-249.9\" font-family=\"Times,serif\" font-size=\"12.00\">type</text>\n",
       "<polygon fill=\"none\" stroke=\"black\" points=\"378.5,-243.5 378.5,-262.5 434.5,-262.5 434.5,-243.5 378.5,-243.5\"/>\n",
       "<text text-anchor=\"start\" x=\"381.5\" y=\"-249.9\" font-family=\"Times,serif\" font-size=\"12.00\">Numero</text>\n",
       "<polygon fill=\"none\" stroke=\"black\" points=\"339.5,-224.5 339.5,-243.5 378.5,-243.5 378.5,-224.5 339.5,-224.5\"/>\n",
       "<text text-anchor=\"start\" x=\"353\" y=\"-230.9\" font-family=\"Times,serif\" font-size=\"12.00\">id</text>\n",
       "<polygon fill=\"none\" stroke=\"black\" points=\"378.5,-224.5 378.5,-243.5 434.5,-243.5 434.5,-224.5 378.5,-224.5\"/>\n",
       "<text text-anchor=\"start\" x=\"398.5\" y=\"-230.9\" font-family=\"Times,serif\" font-size=\"12.00\">10</text>\n",
       "<polygon fill=\"none\" stroke=\"black\" points=\"339.5,-205.5 339.5,-224.5 378.5,-224.5 378.5,-205.5 339.5,-205.5\"/>\n",
       "<text text-anchor=\"start\" x=\"342.5\" y=\"-211.9\" font-family=\"Times,serif\" font-size=\"12.00\">value</text>\n",
       "<polygon fill=\"none\" stroke=\"black\" points=\"378.5,-205.5 378.5,-224.5 434.5,-224.5 434.5,-205.5 378.5,-205.5\"/>\n",
       "<text text-anchor=\"start\" x=\"402.5\" y=\"-211.9\" font-family=\"Times,serif\" font-size=\"12.00\">7</text>\n",
       "</g>\n",
       "<!-- 140019145710320&#45;&gt;140019147917440 -->\n",
       "<g id=\"edge2\" class=\"edge\">\n",
       "<title>140019145710320&#45;&gt;140019147917440</title>\n",
       "<path fill=\"none\" stroke=\"black\" d=\"M346.4,-280.97C351.31,-275.4 356.84,-269.13 362.19,-263.06\"/>\n",
       "</g>\n",
       "<!-- 140019145709696&#45;&gt;140019147917440 -->\n",
       "<!-- 140019145711376 -->\n",
       "<g id=\"node4\" class=\"node\">\n",
       "<title>140019145711376</title>\n",
       "<polygon fill=\"none\" stroke=\"black\" points=\"172.5,-169 172.5,-188 204.5,-188 204.5,-169 172.5,-169\"/>\n",
       "<text text-anchor=\"start\" x=\"175.5\" y=\"-175.4\" font-family=\"Times,serif\" font-size=\"12.00\">type</text>\n",
       "<polygon fill=\"none\" stroke=\"black\" points=\"204.5,-169 204.5,-188 264.5,-188 264.5,-169 204.5,-169\"/>\n",
       "<text text-anchor=\"start\" x=\"207.5\" y=\"-175.4\" font-family=\"Times,serif\" font-size=\"12.00\">Frazione</text>\n",
       "<polygon fill=\"none\" stroke=\"black\" points=\"172.5,-150 172.5,-169 204.5,-169 204.5,-150 172.5,-150\"/>\n",
       "<text text-anchor=\"start\" x=\"182.5\" y=\"-156.4\" font-family=\"Times,serif\" font-size=\"12.00\">id</text>\n",
       "<polygon fill=\"none\" stroke=\"black\" points=\"204.5,-150 204.5,-169 264.5,-169 264.5,-150 204.5,-150\"/>\n",
       "<text text-anchor=\"start\" x=\"230.5\" y=\"-156.4\" font-family=\"Times,serif\" font-size=\"12.00\">3</text>\n",
       "</g>\n",
       "<!-- 140019145709696&#45;&gt;140019145711376 -->\n",
       "<g id=\"edge4\" class=\"edge\">\n",
       "<title>140019145709696&#45;&gt;140019145711376</title>\n",
       "<path fill=\"none\" stroke=\"black\" d=\"M258.6,-215.47C251.1,-206.97 242.16,-196.83 234.63,-188.29\"/>\n",
       "</g>\n",
       "<!-- 140019147917536 -->\n",
       "<g id=\"node5\" class=\"node\">\n",
       "<title>140019147917536</title>\n",
       "<polygon fill=\"none\" stroke=\"black\" points=\"282.5,-169 282.5,-188 314.5,-188 314.5,-169 282.5,-169\"/>\n",
       "<text text-anchor=\"start\" x=\"285.5\" y=\"-175.4\" font-family=\"Times,serif\" font-size=\"12.00\">type</text>\n",
       "<polygon fill=\"none\" stroke=\"black\" points=\"314.5,-169 314.5,-188 380.5,-188 380.5,-169 314.5,-169\"/>\n",
       "<text text-anchor=\"start\" x=\"317.5\" y=\"-175.4\" font-family=\"Times,serif\" font-size=\"12.00\">Addizione</text>\n",
       "<polygon fill=\"none\" stroke=\"black\" points=\"282.5,-150 282.5,-169 314.5,-169 314.5,-150 282.5,-150\"/>\n",
       "<text text-anchor=\"start\" x=\"292.5\" y=\"-156.4\" font-family=\"Times,serif\" font-size=\"12.00\">id</text>\n",
       "<polygon fill=\"none\" stroke=\"black\" points=\"314.5,-150 314.5,-169 380.5,-169 380.5,-150 314.5,-150\"/>\n",
       "<text text-anchor=\"start\" x=\"343.5\" y=\"-156.4\" font-family=\"Times,serif\" font-size=\"12.00\">7</text>\n",
       "</g>\n",
       "<!-- 140019145709696&#45;&gt;140019147917536 -->\n",
       "<g id=\"edge5\" class=\"edge\">\n",
       "<title>140019145709696&#45;&gt;140019147917536</title>\n",
       "<path fill=\"none\" stroke=\"black\" d=\"M290.68,-215.47C298.32,-206.97 307.41,-196.83 315.08,-188.29\"/>\n",
       "</g>\n",
       "<!-- 140019145711376&#45;&gt;140019147917536 -->\n",
       "<!-- 140019145710800 -->\n",
       "<g id=\"node6\" class=\"node\">\n",
       "<title>140019145710800</title>\n",
       "<polygon fill=\"none\" stroke=\"black\" points=\"54.5,-103.5 54.5,-122.5 86.5,-122.5 86.5,-103.5 54.5,-103.5\"/>\n",
       "<text text-anchor=\"start\" x=\"57.5\" y=\"-109.9\" font-family=\"Times,serif\" font-size=\"12.00\">type</text>\n",
       "<polygon fill=\"none\" stroke=\"black\" points=\"86.5,-103.5 86.5,-122.5 152.5,-122.5 152.5,-103.5 86.5,-103.5\"/>\n",
       "<text text-anchor=\"start\" x=\"89.5\" y=\"-109.9\" font-family=\"Times,serif\" font-size=\"12.00\">Addizione</text>\n",
       "<polygon fill=\"none\" stroke=\"black\" points=\"54.5,-84.5 54.5,-103.5 86.5,-103.5 86.5,-84.5 54.5,-84.5\"/>\n",
       "<text text-anchor=\"start\" x=\"64.5\" y=\"-90.9\" font-family=\"Times,serif\" font-size=\"12.00\">id</text>\n",
       "<polygon fill=\"none\" stroke=\"black\" points=\"86.5,-84.5 86.5,-103.5 152.5,-103.5 152.5,-84.5 86.5,-84.5\"/>\n",
       "<text text-anchor=\"start\" x=\"115.5\" y=\"-90.9\" font-family=\"Times,serif\" font-size=\"12.00\">1</text>\n",
       "</g>\n",
       "<!-- 140019145711376&#45;&gt;140019145710800 -->\n",
       "<g id=\"edge7\" class=\"edge\">\n",
       "<title>140019145711376&#45;&gt;140019145710800</title>\n",
       "<path fill=\"none\" stroke=\"black\" d=\"M185.85,-149.97C170.31,-141.39 151.78,-131.16 136.23,-122.57\"/>\n",
       "</g>\n",
       "<!-- 140019147916000 -->\n",
       "<g id=\"node7\" class=\"node\">\n",
       "<title>140019147916000</title>\n",
       "<polygon fill=\"none\" stroke=\"black\" points=\"171.5,-112.5 171.5,-131.5 210.5,-131.5 210.5,-112.5 171.5,-112.5\"/>\n",
       "<text text-anchor=\"start\" x=\"178\" y=\"-118.9\" font-family=\"Times,serif\" font-size=\"12.00\">type</text>\n",
       "<polygon fill=\"none\" stroke=\"black\" points=\"210.5,-112.5 210.5,-131.5 266.5,-131.5 266.5,-112.5 210.5,-112.5\"/>\n",
       "<text text-anchor=\"start\" x=\"213.5\" y=\"-118.9\" font-family=\"Times,serif\" font-size=\"12.00\">Numero</text>\n",
       "<polygon fill=\"none\" stroke=\"black\" points=\"171.5,-93.5 171.5,-112.5 210.5,-112.5 210.5,-93.5 171.5,-93.5\"/>\n",
       "<text text-anchor=\"start\" x=\"185\" y=\"-99.9\" font-family=\"Times,serif\" font-size=\"12.00\">id</text>\n",
       "<polygon fill=\"none\" stroke=\"black\" points=\"210.5,-93.5 210.5,-112.5 266.5,-112.5 266.5,-93.5 210.5,-93.5\"/>\n",
       "<text text-anchor=\"start\" x=\"234.5\" y=\"-99.9\" font-family=\"Times,serif\" font-size=\"12.00\">4</text>\n",
       "<polygon fill=\"none\" stroke=\"black\" points=\"171.5,-74.5 171.5,-93.5 210.5,-93.5 210.5,-74.5 171.5,-74.5\"/>\n",
       "<text text-anchor=\"start\" x=\"174.5\" y=\"-80.9\" font-family=\"Times,serif\" font-size=\"12.00\">value</text>\n",
       "<polygon fill=\"none\" stroke=\"black\" points=\"210.5,-74.5 210.5,-93.5 266.5,-93.5 266.5,-74.5 210.5,-74.5\"/>\n",
       "<text text-anchor=\"start\" x=\"234.5\" y=\"-80.9\" font-family=\"Times,serif\" font-size=\"12.00\">4</text>\n",
       "</g>\n",
       "<!-- 140019145711376&#45;&gt;140019147916000 -->\n",
       "<g id=\"edge8\" class=\"edge\">\n",
       "<title>140019145711376&#45;&gt;140019147916000</title>\n",
       "<path fill=\"none\" stroke=\"black\" d=\"M218.5,-149.97C218.5,-144.4 218.5,-138.13 218.5,-132.06\"/>\n",
       "</g>\n",
       "<!-- 140019147916480 -->\n",
       "<g id=\"node10\" class=\"node\">\n",
       "<title>140019147916480</title>\n",
       "<polygon fill=\"none\" stroke=\"black\" points=\"284.5,-112.5 284.5,-131.5 323.5,-131.5 323.5,-112.5 284.5,-112.5\"/>\n",
       "<text text-anchor=\"start\" x=\"291\" y=\"-118.9\" font-family=\"Times,serif\" font-size=\"12.00\">type</text>\n",
       "<polygon fill=\"none\" stroke=\"black\" points=\"323.5,-112.5 323.5,-131.5 379.5,-131.5 379.5,-112.5 323.5,-112.5\"/>\n",
       "<text text-anchor=\"start\" x=\"326.5\" y=\"-118.9\" font-family=\"Times,serif\" font-size=\"12.00\">Numero</text>\n",
       "<polygon fill=\"none\" stroke=\"black\" points=\"284.5,-93.5 284.5,-112.5 323.5,-112.5 323.5,-93.5 284.5,-93.5\"/>\n",
       "<text text-anchor=\"start\" x=\"298\" y=\"-99.9\" font-family=\"Times,serif\" font-size=\"12.00\">id</text>\n",
       "<polygon fill=\"none\" stroke=\"black\" points=\"323.5,-93.5 323.5,-112.5 379.5,-112.5 379.5,-93.5 323.5,-93.5\"/>\n",
       "<text text-anchor=\"start\" x=\"347.5\" y=\"-99.9\" font-family=\"Times,serif\" font-size=\"12.00\">6</text>\n",
       "<polygon fill=\"none\" stroke=\"black\" points=\"284.5,-74.5 284.5,-93.5 323.5,-93.5 323.5,-74.5 284.5,-74.5\"/>\n",
       "<text text-anchor=\"start\" x=\"287.5\" y=\"-80.9\" font-family=\"Times,serif\" font-size=\"12.00\">value</text>\n",
       "<polygon fill=\"none\" stroke=\"black\" points=\"323.5,-74.5 323.5,-93.5 379.5,-93.5 379.5,-74.5 323.5,-74.5\"/>\n",
       "<text text-anchor=\"start\" x=\"347.5\" y=\"-80.9\" font-family=\"Times,serif\" font-size=\"12.00\">5</text>\n",
       "</g>\n",
       "<!-- 140019147917536&#45;&gt;140019147916480 -->\n",
       "<g id=\"edge13\" class=\"edge\">\n",
       "<title>140019147917536&#45;&gt;140019147916480</title>\n",
       "<path fill=\"none\" stroke=\"black\" d=\"M331.5,-149.97C331.5,-144.4 331.5,-138.13 331.5,-132.06\"/>\n",
       "</g>\n",
       "<!-- 140019147919120 -->\n",
       "<g id=\"node11\" class=\"node\">\n",
       "<title>140019147919120</title>\n",
       "<polygon fill=\"none\" stroke=\"black\" points=\"397.5,-112.5 397.5,-131.5 436.5,-131.5 436.5,-112.5 397.5,-112.5\"/>\n",
       "<text text-anchor=\"start\" x=\"404\" y=\"-118.9\" font-family=\"Times,serif\" font-size=\"12.00\">type</text>\n",
       "<polygon fill=\"none\" stroke=\"black\" points=\"436.5,-112.5 436.5,-131.5 492.5,-131.5 492.5,-112.5 436.5,-112.5\"/>\n",
       "<text text-anchor=\"start\" x=\"439.5\" y=\"-118.9\" font-family=\"Times,serif\" font-size=\"12.00\">Numero</text>\n",
       "<polygon fill=\"none\" stroke=\"black\" points=\"397.5,-93.5 397.5,-112.5 436.5,-112.5 436.5,-93.5 397.5,-93.5\"/>\n",
       "<text text-anchor=\"start\" x=\"411\" y=\"-99.9\" font-family=\"Times,serif\" font-size=\"12.00\">id</text>\n",
       "<polygon fill=\"none\" stroke=\"black\" points=\"436.5,-93.5 436.5,-112.5 492.5,-112.5 492.5,-93.5 436.5,-93.5\"/>\n",
       "<text text-anchor=\"start\" x=\"460.5\" y=\"-99.9\" font-family=\"Times,serif\" font-size=\"12.00\">8</text>\n",
       "<polygon fill=\"none\" stroke=\"black\" points=\"397.5,-74.5 397.5,-93.5 436.5,-93.5 436.5,-74.5 397.5,-74.5\"/>\n",
       "<text text-anchor=\"start\" x=\"400.5\" y=\"-80.9\" font-family=\"Times,serif\" font-size=\"12.00\">value</text>\n",
       "<polygon fill=\"none\" stroke=\"black\" points=\"436.5,-74.5 436.5,-93.5 492.5,-93.5 492.5,-74.5 436.5,-74.5\"/>\n",
       "<text text-anchor=\"start\" x=\"460.5\" y=\"-80.9\" font-family=\"Times,serif\" font-size=\"12.00\">6</text>\n",
       "</g>\n",
       "<!-- 140019147917536&#45;&gt;140019147919120 -->\n",
       "<g id=\"edge14\" class=\"edge\">\n",
       "<title>140019147917536&#45;&gt;140019147919120</title>\n",
       "<path fill=\"none\" stroke=\"black\" d=\"M363.58,-149.97C373.89,-144.18 385.54,-137.63 396.73,-131.35\"/>\n",
       "</g>\n",
       "<!-- 140019145710800&#45;&gt;140019147916000 -->\n",
       "<!-- 140019145711040 -->\n",
       "<g id=\"node8\" class=\"node\">\n",
       "<title>140019145711040</title>\n",
       "<polygon fill=\"none\" stroke=\"black\" points=\"0.5,-37.5 0.5,-56.5 39.5,-56.5 39.5,-37.5 0.5,-37.5\"/>\n",
       "<text text-anchor=\"start\" x=\"7\" y=\"-43.9\" font-family=\"Times,serif\" font-size=\"12.00\">type</text>\n",
       "<polygon fill=\"none\" stroke=\"black\" points=\"39.5,-37.5 39.5,-56.5 95.5,-56.5 95.5,-37.5 39.5,-37.5\"/>\n",
       "<text text-anchor=\"start\" x=\"42.5\" y=\"-43.9\" font-family=\"Times,serif\" font-size=\"12.00\">Numero</text>\n",
       "<polygon fill=\"none\" stroke=\"black\" points=\"0.5,-18.5 0.5,-37.5 39.5,-37.5 39.5,-18.5 0.5,-18.5\"/>\n",
       "<text text-anchor=\"start\" x=\"14\" y=\"-24.9\" font-family=\"Times,serif\" font-size=\"12.00\">id</text>\n",
       "<polygon fill=\"none\" stroke=\"black\" points=\"39.5,-18.5 39.5,-37.5 95.5,-37.5 95.5,-18.5 39.5,-18.5\"/>\n",
       "<text text-anchor=\"start\" x=\"63.5\" y=\"-24.9\" font-family=\"Times,serif\" font-size=\"12.00\">0</text>\n",
       "<polygon fill=\"none\" stroke=\"black\" points=\"0.5,0.5 0.5,-18.5 39.5,-18.5 39.5,0.5 0.5,0.5\"/>\n",
       "<text text-anchor=\"start\" x=\"3.5\" y=\"-5.9\" font-family=\"Times,serif\" font-size=\"12.00\">value</text>\n",
       "<polygon fill=\"none\" stroke=\"black\" points=\"39.5,0.5 39.5,-18.5 95.5,-18.5 95.5,0.5 39.5,0.5\"/>\n",
       "<text text-anchor=\"start\" x=\"63.5\" y=\"-5.9\" font-family=\"Times,serif\" font-size=\"12.00\">2</text>\n",
       "</g>\n",
       "<!-- 140019145710800&#45;&gt;140019145711040 -->\n",
       "<g id=\"edge10\" class=\"edge\">\n",
       "<title>140019145710800&#45;&gt;140019145711040</title>\n",
       "<path fill=\"none\" stroke=\"black\" d=\"M89.66,-84.46C83.31,-76.18 75.64,-66.19 68.6,-57\"/>\n",
       "</g>\n",
       "<!-- 140019145710608 -->\n",
       "<g id=\"node9\" class=\"node\">\n",
       "<title>140019145710608</title>\n",
       "<polygon fill=\"none\" stroke=\"black\" points=\"113.5,-37.5 113.5,-56.5 152.5,-56.5 152.5,-37.5 113.5,-37.5\"/>\n",
       "<text text-anchor=\"start\" x=\"120\" y=\"-43.9\" font-family=\"Times,serif\" font-size=\"12.00\">type</text>\n",
       "<polygon fill=\"none\" stroke=\"black\" points=\"152.5,-37.5 152.5,-56.5 208.5,-56.5 208.5,-37.5 152.5,-37.5\"/>\n",
       "<text text-anchor=\"start\" x=\"155.5\" y=\"-43.9\" font-family=\"Times,serif\" font-size=\"12.00\">Numero</text>\n",
       "<polygon fill=\"none\" stroke=\"black\" points=\"113.5,-18.5 113.5,-37.5 152.5,-37.5 152.5,-18.5 113.5,-18.5\"/>\n",
       "<text text-anchor=\"start\" x=\"127\" y=\"-24.9\" font-family=\"Times,serif\" font-size=\"12.00\">id</text>\n",
       "<polygon fill=\"none\" stroke=\"black\" points=\"152.5,-18.5 152.5,-37.5 208.5,-37.5 208.5,-18.5 152.5,-18.5\"/>\n",
       "<text text-anchor=\"start\" x=\"176.5\" y=\"-24.9\" font-family=\"Times,serif\" font-size=\"12.00\">2</text>\n",
       "<polygon fill=\"none\" stroke=\"black\" points=\"113.5,0.5 113.5,-18.5 152.5,-18.5 152.5,0.5 113.5,0.5\"/>\n",
       "<text text-anchor=\"start\" x=\"116.5\" y=\"-5.9\" font-family=\"Times,serif\" font-size=\"12.00\">value</text>\n",
       "<polygon fill=\"none\" stroke=\"black\" points=\"152.5,0.5 152.5,-18.5 208.5,-18.5 208.5,0.5 152.5,0.5\"/>\n",
       "<text text-anchor=\"start\" x=\"176.5\" y=\"-5.9\" font-family=\"Times,serif\" font-size=\"12.00\">3</text>\n",
       "</g>\n",
       "<!-- 140019145710800&#45;&gt;140019145710608 -->\n",
       "<g id=\"edge11\" class=\"edge\">\n",
       "<title>140019145710800&#45;&gt;140019145710608</title>\n",
       "<path fill=\"none\" stroke=\"black\" d=\"M117.59,-84.46C124.05,-76.18 131.85,-66.19 139.02,-57\"/>\n",
       "</g>\n",
       "<!-- 140019145711040&#45;&gt;140019145710608 -->\n",
       "<!-- 140019147916480&#45;&gt;140019147919120 -->\n",
       "</g>\n",
       "</svg>\n"
      ],
      "text/plain": [
       "({'type': 'Frazione', 'id': 9}: ({'type': 'Frazione', 'id': 5}: ({'type': 'Frazione', 'id': 3}: ({'type': 'Addizione', 'id': 1}: ({'type': 'Numero', 'id': 0, 'value': 2}), ({'type': 'Numero', 'id': 2, 'value': 3})), ({'type': 'Numero', 'id': 4, 'value': 4})), ({'type': 'Addizione', 'id': 7}: ({'type': 'Numero', 'id': 6, 'value': 5}), ({'type': 'Numero', 'id': 8, 'value': 6}))), ({'type': 'Numero', 'id': 10, 'value': 7}))"
      ]
     },
     "execution_count": 52,
     "metadata": {},
     "output_type": "execute_result"
    }
   ],
   "source": [
    "nodo2tree(n)"
   ]
  },
  {
   "cell_type": "code",
   "execution_count": null,
   "id": "ebb88c12",
   "metadata": {},
   "outputs": [],
   "source": []
  }
 ],
 "metadata": {
  "kernelspec": {
   "display_name": "Python 3",
   "language": "python",
   "name": "python3"
  },
  "language_info": {
   "codemirror_mode": {
    "name": "ipython",
    "version": 3
   },
   "file_extension": ".py",
   "mimetype": "text/x-python",
   "name": "python",
   "nbconvert_exporter": "python",
   "pygments_lexer": "ipython3",
   "version": "3.9.5"
  }
 },
 "nbformat": 4,
 "nbformat_minor": 5
}
