{
 "cells": [
  {
   "cell_type": "code",
   "execution_count": 6,
   "id": "7c7b960a",
   "metadata": {},
   "outputs": [],
   "source": [
    "%load_ext autoreload"
   ]
  },
  {
   "cell_type": "code",
   "execution_count": 7,
   "id": "61962af0",
   "metadata": {},
   "outputs": [],
   "source": [
    "%autoreload 2"
   ]
  },
  {
   "cell_type": "code",
   "execution_count": 14,
   "id": "6ea4a10b",
   "metadata": {},
   "outputs": [],
   "source": [
    "from utilities import nodo2tree\n",
    "import shuntingyard as sy\n",
    "import importlib\n",
    "from IPython.display import Math as show_latex"
   ]
  },
  {
   "cell_type": "code",
   "execution_count": 15,
   "id": "3eb97f9c",
   "metadata": {},
   "outputs": [],
   "source": [
    "from semplificatore import Semplificatore as smp"
   ]
  },
  {
   "cell_type": "code",
   "execution_count": 39,
   "id": "3cc6c794",
   "metadata": {},
   "outputs": [],
   "source": [
    "test_expr = \"1 + {2 * [(3 + 4 : 2) + 5] * 6} - [7 + (1 + 8) : 3] * [9 : (2 + 1) + 2]#\"\n",
    "test_pow = \"2^(3+4^5:2^7)#\"\n",
    "test_frac_1 = \"(2+4)/(3+4)#\"\n",
    "test_riassuntivo = \"3 + 13 * -(1+3) / (2^(1+4) - 6)#\"\n",
    "test_parentesi_semplice = \"3/(4+2) + 2 * {3:(4+5) + 2^(6*1/2)}-(2*[5*(3+4)+5]-1)/6#\"\n",
    "test_parentesi_libere = \"3/(4+2) + 2 * (3:(4+5) + 2^(6*1/2))-(2*(5*(3+4)+5)-1)/6#\"\n",
    "test_parentesi_libere2 = \"3/(4+2) + 2 * (3:(4+5) : 2^(6*1/2))-(2*(5*(3+4)+5)-1)/6#\"\n",
    "test_rapido = \"3 + 3 + 8 + 6 * 2#\"\n",
    "test_segni_unari_multipli = \"---3 + -56 * -(-(-(5)))#\"\n",
    "test_lungo = \"-19 + 4 * 45 / {12^[3+60/6:5] - 7/4 + 3 * (13 - 5 * -2^3)} * 22 / 143 - [13^2/45*3+3/(7+3^2)] : 3 - 1 + {12^(3+4)/12 + [5 - 3*4 + -(4^(9/3))]}#\"\n",
    "test_frac_exp = \"(4/9)^(1/2)\"\n",
    "casi_potenze = [\"-2^(-2)\", \"(1/2)^3\", \"3^(2*1/2)\", \"2^[8/4]\"]"
   ]
  },
  {
   "cell_type": "code",
   "execution_count": 42,
   "id": "2470ef71",
   "metadata": {},
   "outputs": [],
   "source": [
    "n = sy.parse_expr(casi_potenze[0], 'Q')\n",
    "simpler = smp(n)\n",
    "# nodo2tree(n)"
   ]
  },
  {
   "cell_type": "code",
   "execution_count": 43,
   "id": "3cc7faed",
   "metadata": {},
   "outputs": [
    {
     "data": {
      "text/latex": [
       "$\\displaystyle \\begin{align}&- 2 ^ {- 2}\\\\&- 2 ^ {\\color{red} {\\boxed{- 2}}}\\\\&- \\color{red} {\\boxed{2 ^ {\\color{green} {\\boxed{-2}}}}}\\\\&- \\color{red} {\\boxed{\\frac{1} {4}}}\\\\&\\color{red} {\\boxed{- \\color{green} {\\boxed{\\frac{1} {4}}}}}\\\\&\\color{green} {\\boxed{\\frac{-1} {4}}}\\end{align}$"
      ],
      "text/plain": [
       "<IPython.core.display.Math object>"
      ]
     },
     "execution_count": 43,
     "metadata": {},
     "output_type": "execute_result"
    }
   ],
   "source": [
    "texts = simpler.solve()\n",
    "text = '\\\\\\\\&'.join(texts)\n",
    "text = \"\\\\begin{align}\" + text + \"\\end{align}\"\n",
    "show_latex(text)"
   ]
  },
  {
   "cell_type": "code",
   "execution_count": 8,
   "id": "2fed8427",
   "metadata": {},
   "outputs": [],
   "source": [
    "def string2latex(s):\n",
    "    n = sy.parse_expr(s, 'Q')\n",
    "    simpler = smp(n)\n",
    "    texts = simpler.solve()\n",
    "    text = '\\\\\\\\&'.join(texts)\n",
    "    text = \"\\\\begin{align}\" + text + \"\\end{align}\"\n",
    "    return text"
   ]
  },
  {
   "cell_type": "code",
   "execution_count": 9,
   "id": "d411f67c",
   "metadata": {},
   "outputs": [],
   "source": [
    "casi_semplici = [\"(2+4)/(3+4)#\", \"2/3/4#\", \"5/(6/7)#\", \"(2*3+4)/5#\", \"2/(3+4/5)#\", \"(((2+3)/4)/(5+6))/7#\"]\n",
    "potenze = [\"-2^(-2)\", \"(1/2)^3\"]"
   ]
  },
  {
   "cell_type": "code",
   "execution_count": 10,
   "id": "0993b902",
   "metadata": {},
   "outputs": [
    {
     "name": "stdout",
     "output_type": "stream",
     "text": [
      "-2^(-2) ok\n",
      "(1/2)^3 ok\n"
     ]
    }
   ],
   "source": [
    "lista_di_latex = []\n",
    "for t in potenze:\n",
    "    lista_di_latex.append(string2latex(t))\n",
    "    print(t, \"ok\")"
   ]
  },
  {
   "cell_type": "code",
   "execution_count": 11,
   "id": "d0d74660",
   "metadata": {},
   "outputs": [
    {
     "data": {
      "text/latex": [
       "$\\displaystyle \\begin{align}&\\frac{1} {2} ^ {3}\\\\&\\color{red} {\\boxed{\\frac{1} {2}}} ^ {3}\\\\&\\color{red} {\\boxed{\\color{green} {\\boxed{\\frac{1} {2}}} ^ {3}}}\\\\&\\color{green} {\\boxed{\\frac{1} {8}}}\\end{align}$"
      ],
      "text/plain": [
       "<IPython.core.display.Math object>"
      ]
     },
     "execution_count": 11,
     "metadata": {},
     "output_type": "execute_result"
    }
   ],
   "source": [
    "show_latex(lista_di_latex[1])"
   ]
  },
  {
   "cell_type": "code",
   "execution_count": 8,
   "id": "ebb88c12",
   "metadata": {},
   "outputs": [],
   "source": [
    "import simplicio"
   ]
  },
  {
   "cell_type": "code",
   "execution_count": 17,
   "id": "65dd16c5",
   "metadata": {},
   "outputs": [],
   "source": [
    "casi_N_ok = [\"15 * 3 + 2 : 2\", \"15 - 4 - (3*3)\", \"4 - 8 + 5 - 2 + 3\"]"
   ]
  },
  {
   "cell_type": "code",
   "execution_count": 13,
   "id": "b1bbc682",
   "metadata": {},
   "outputs": [
    {
     "name": "stdout",
     "output_type": "stream",
     "text": [
      "15 * 3 + 2 : 2 ok\n",
      "15 - 4 - (3*3) ok\n",
      "{'type': 'Sottrazione', 'id': 1, 'colore': 'red'}, [{'type': 'Numero', 'id': 0, 'value': 4}, [], {'type': 'Numero', 'id': 3, 'value': 13}, []]\n"
     ]
    },
    {
     "ename": "DomainException",
     "evalue": "Valori negativi non ammessi in N!",
     "output_type": "error",
     "traceback": [
      "\u001b[0;31m-------------------------------------------------------------------------\u001b[0m",
      "\u001b[0;31mDomainException\u001b[0m                         Traceback (most recent call last)",
      "\u001b[0;32m<ipython-input-13-f18bd2261769>\u001b[0m in \u001b[0;36m<module>\u001b[0;34m\u001b[0m\n\u001b[1;32m      1\u001b[0m \u001b[0mtxts\u001b[0m \u001b[0;34m=\u001b[0m \u001b[0;34m[\u001b[0m\u001b[0;34m]\u001b[0m\u001b[0;34m\u001b[0m\u001b[0;34m\u001b[0m\u001b[0m\n\u001b[1;32m      2\u001b[0m \u001b[0;32mfor\u001b[0m \u001b[0mc\u001b[0m \u001b[0;32min\u001b[0m \u001b[0mcasi_N_ok\u001b[0m\u001b[0;34m:\u001b[0m\u001b[0;34m\u001b[0m\u001b[0;34m\u001b[0m\u001b[0m\n\u001b[0;32m----> 3\u001b[0;31m     \u001b[0mtxts\u001b[0m\u001b[0;34m.\u001b[0m\u001b[0mappend\u001b[0m\u001b[0;34m(\u001b[0m\u001b[0msimplicio\u001b[0m\u001b[0;34m.\u001b[0m\u001b[0mstring2latex\u001b[0m\u001b[0;34m(\u001b[0m\u001b[0mc\u001b[0m\u001b[0;34m,\u001b[0m \u001b[0;34m'N'\u001b[0m\u001b[0;34m)\u001b[0m\u001b[0;34m)\u001b[0m\u001b[0;34m\u001b[0m\u001b[0;34m\u001b[0m\u001b[0m\n\u001b[0m\u001b[1;32m      4\u001b[0m     \u001b[0mprint\u001b[0m\u001b[0;34m(\u001b[0m\u001b[0mc\u001b[0m\u001b[0;34m,\u001b[0m \u001b[0;34m\"ok\"\u001b[0m\u001b[0;34m)\u001b[0m\u001b[0;34m\u001b[0m\u001b[0;34m\u001b[0m\u001b[0m\n",
      "\u001b[0;32m~/uni/linguaggietraduttori/progetto/ufficiale/simplicio/simplicio.py\u001b[0m in \u001b[0;36mstring2latex\u001b[0;34m(s, domain)\u001b[0m\n\u001b[1;32m      5\u001b[0m     \u001b[0mn\u001b[0m \u001b[0;34m=\u001b[0m \u001b[0msy\u001b[0m\u001b[0;34m.\u001b[0m\u001b[0mparse_expr\u001b[0m\u001b[0;34m(\u001b[0m\u001b[0ms\u001b[0m\u001b[0;34m,\u001b[0m \u001b[0mdomain\u001b[0m\u001b[0;34m)\u001b[0m\u001b[0;34m\u001b[0m\u001b[0;34m\u001b[0m\u001b[0m\n\u001b[1;32m      6\u001b[0m     \u001b[0msimpler\u001b[0m \u001b[0;34m=\u001b[0m \u001b[0msmp\u001b[0m\u001b[0;34m.\u001b[0m\u001b[0mSemplificatore\u001b[0m\u001b[0;34m(\u001b[0m\u001b[0mn\u001b[0m\u001b[0;34m)\u001b[0m\u001b[0;34m\u001b[0m\u001b[0;34m\u001b[0m\u001b[0m\n\u001b[0;32m----> 7\u001b[0;31m     \u001b[0mtexts\u001b[0m \u001b[0;34m=\u001b[0m \u001b[0msimpler\u001b[0m\u001b[0;34m.\u001b[0m\u001b[0msolve\u001b[0m\u001b[0;34m(\u001b[0m\u001b[0;34m)\u001b[0m\u001b[0;34m\u001b[0m\u001b[0;34m\u001b[0m\u001b[0m\n\u001b[0m\u001b[1;32m      8\u001b[0m     \u001b[0mtext\u001b[0m \u001b[0;34m=\u001b[0m \u001b[0;34m'\\n\\\\\\\\&'\u001b[0m\u001b[0;34m.\u001b[0m\u001b[0mjoin\u001b[0m\u001b[0;34m(\u001b[0m\u001b[0mtexts\u001b[0m\u001b[0;34m)\u001b[0m\u001b[0;34m\u001b[0m\u001b[0;34m\u001b[0m\u001b[0m\n\u001b[1;32m      9\u001b[0m     \u001b[0mtext\u001b[0m \u001b[0;34m=\u001b[0m \u001b[0;34m\"\\\\begin{align}\"\u001b[0m \u001b[0;34m+\u001b[0m \u001b[0mtext\u001b[0m \u001b[0;34m+\u001b[0m \u001b[0;34m\"\\n\\end{align}\"\u001b[0m\u001b[0;34m\u001b[0m\u001b[0;34m\u001b[0m\u001b[0m\n",
      "\u001b[0;32m~/uni/linguaggietraduttori/progetto/ufficiale/simplicio/semplificatore.py\u001b[0m in \u001b[0;36msolve\u001b[0;34m(self)\u001b[0m\n\u001b[1;32m     82\u001b[0m             \u001b[0msolving\u001b[0m\u001b[0;34m.\u001b[0m\u001b[0mbox_leaf\u001b[0m\u001b[0;34m(\u001b[0m\u001b[0;34m)\u001b[0m\u001b[0;34m\u001b[0m\u001b[0;34m\u001b[0m\u001b[0m\n\u001b[1;32m     83\u001b[0m             \u001b[0mtexts\u001b[0m\u001b[0;34m.\u001b[0m\u001b[0mappend\u001b[0m\u001b[0;34m(\u001b[0m\u001b[0mself\u001b[0m\u001b[0;34m.\u001b[0m\u001b[0mroot\u001b[0m\u001b[0;34m.\u001b[0m\u001b[0mget_latex\u001b[0m\u001b[0;34m(\u001b[0m\u001b[0;34m)\u001b[0m\u001b[0;34m)\u001b[0m\u001b[0;34m\u001b[0m\u001b[0;34m\u001b[0m\u001b[0m\n\u001b[0;32m---> 84\u001b[0;31m             \u001b[0msolving\u001b[0m \u001b[0;34m=\u001b[0m \u001b[0msolving\u001b[0m\u001b[0;34m.\u001b[0m\u001b[0msolve_step\u001b[0m\u001b[0;34m(\u001b[0m\u001b[0;34m)\u001b[0m\u001b[0;34m\u001b[0m\u001b[0;34m\u001b[0m\u001b[0m\n\u001b[0m\u001b[1;32m     85\u001b[0m             \u001b[0;32mif\u001b[0m \u001b[0msolving\u001b[0m\u001b[0;34m.\u001b[0m\u001b[0mleaf\u001b[0m\u001b[0;34m:\u001b[0m\u001b[0;34m\u001b[0m\u001b[0;34m\u001b[0m\u001b[0m\n\u001b[1;32m     86\u001b[0m                 \u001b[0mself\u001b[0m\u001b[0;34m.\u001b[0m\u001b[0mroot\u001b[0m \u001b[0;34m=\u001b[0m \u001b[0msolving\u001b[0m\u001b[0;34m\u001b[0m\u001b[0;34m\u001b[0m\u001b[0m\n",
      "\u001b[0;32m~/uni/linguaggietraduttori/progetto/ufficiale/simplicio/nodi.py\u001b[0m in \u001b[0;36msolve_step\u001b[0;34m(self)\u001b[0m\n\u001b[1;32m     77\u001b[0m             \u001b[0;32mif\u001b[0m \u001b[0mret\u001b[0m\u001b[0;34m.\u001b[0m\u001b[0mvalue\u001b[0m \u001b[0;34m<\u001b[0m \u001b[0;36m0\u001b[0m\u001b[0;34m:\u001b[0m\u001b[0;34m\u001b[0m\u001b[0;34m\u001b[0m\u001b[0m\n\u001b[1;32m     78\u001b[0m                 \u001b[0mprint\u001b[0m\u001b[0;34m(\u001b[0m\u001b[0mself\u001b[0m\u001b[0;34m)\u001b[0m\u001b[0;34m\u001b[0m\u001b[0;34m\u001b[0m\u001b[0m\n\u001b[0;32m---> 79\u001b[0;31m                 \u001b[0;32mraise\u001b[0m \u001b[0mexceptions\u001b[0m\u001b[0;34m.\u001b[0m\u001b[0mDomainException\u001b[0m\u001b[0;34m(\u001b[0m\u001b[0;34m\"Valori negativi non ammessi in N!\"\u001b[0m\u001b[0;34m)\u001b[0m\u001b[0;34m\u001b[0m\u001b[0;34m\u001b[0m\u001b[0m\n\u001b[0m\u001b[1;32m     80\u001b[0m             \u001b[0;32mif\u001b[0m \u001b[0mint\u001b[0m\u001b[0;34m(\u001b[0m\u001b[0mret\u001b[0m\u001b[0;34m.\u001b[0m\u001b[0mvalue\u001b[0m\u001b[0;34m)\u001b[0m \u001b[0;34m!=\u001b[0m \u001b[0mret\u001b[0m\u001b[0;34m.\u001b[0m\u001b[0mvalue\u001b[0m\u001b[0;34m:\u001b[0m\u001b[0;34m\u001b[0m\u001b[0;34m\u001b[0m\u001b[0m\n\u001b[1;32m     81\u001b[0m                 \u001b[0;32mraise\u001b[0m \u001b[0mexceptions\u001b[0m\u001b[0;34m.\u001b[0m\u001b[0mDomainException\u001b[0m\u001b[0;34m(\u001b[0m\u001b[0;34m\"Solo numeri interi in N!\"\u001b[0m\u001b[0;34m)\u001b[0m\u001b[0;34m\u001b[0m\u001b[0;34m\u001b[0m\u001b[0m\n",
      "\u001b[0;31mDomainException\u001b[0m: Valori negativi non ammessi in N!"
     ]
    }
   ],
   "source": [
    "txts = []\n",
    "for c in casi_N_ok:\n",
    "    txts.append(simplicio.string2latex(c, 'N'))\n",
    "    print(c, \"ok\")"
   ]
  },
  {
   "cell_type": "code",
   "execution_count": 18,
   "id": "e0f687dd",
   "metadata": {},
   "outputs": [
    {
     "data": {
      "image/svg+xml": [
       "<?xml version=\"1.0\" encoding=\"UTF-8\" standalone=\"no\"?>\n",
       "<!DOCTYPE svg PUBLIC \"-//W3C//DTD SVG 1.1//EN\"\n",
       " \"http://www.w3.org/Graphics/SVG/1.1/DTD/svg11.dtd\">\n",
       "<!-- Generated by graphviz version 2.47.1 (0)\n",
       " -->\n",
       "<!-- Pages: 1 -->\n",
       "<svg width=\"391pt\" height=\"346pt\"\n",
       " viewBox=\"0.00 0.00 391.00 346.00\" xmlns=\"http://www.w3.org/2000/svg\" xmlns:xlink=\"http://www.w3.org/1999/xlink\">\n",
       "<g id=\"graph0\" class=\"graph\" transform=\"scale(1 1) rotate(0) translate(4 342)\">\n",
       "<polygon fill=\"white\" stroke=\"transparent\" points=\"-4,4 -4,-342 387,-342 387,4 -4,4\"/>\n",
       "<!-- 140522154312944 -->\n",
       "<g id=\"node1\" class=\"node\">\n",
       "<title>140522154312944</title>\n",
       "<polygon fill=\"none\" stroke=\"black\" points=\"50.5,-319 50.5,-338 82.5,-338 82.5,-319 50.5,-319\"/>\n",
       "<text text-anchor=\"start\" x=\"53.5\" y=\"-325.4\" font-family=\"Times,serif\" font-size=\"12.00\">type</text>\n",
       "<polygon fill=\"none\" stroke=\"black\" points=\"82.5,-319 82.5,-338 158.5,-338 158.5,-319 82.5,-319\"/>\n",
       "<text text-anchor=\"start\" x=\"85.5\" y=\"-325.4\" font-family=\"Times,serif\" font-size=\"12.00\">Sottrazione</text>\n",
       "<polygon fill=\"none\" stroke=\"black\" points=\"50.5,-300 50.5,-319 82.5,-319 82.5,-300 50.5,-300\"/>\n",
       "<text text-anchor=\"start\" x=\"60.5\" y=\"-306.4\" font-family=\"Times,serif\" font-size=\"12.00\">id</text>\n",
       "<polygon fill=\"none\" stroke=\"black\" points=\"82.5,-300 82.5,-319 158.5,-319 158.5,-300 82.5,-300\"/>\n",
       "<text text-anchor=\"start\" x=\"116.5\" y=\"-306.4\" font-family=\"Times,serif\" font-size=\"12.00\">1</text>\n",
       "</g>\n",
       "<!-- 140522142055872 -->\n",
       "<g id=\"node2\" class=\"node\">\n",
       "<title>140522142055872</title>\n",
       "<polygon fill=\"none\" stroke=\"black\" points=\"0.5,-262.5 0.5,-281.5 39.5,-281.5 39.5,-262.5 0.5,-262.5\"/>\n",
       "<text text-anchor=\"start\" x=\"7\" y=\"-268.9\" font-family=\"Times,serif\" font-size=\"12.00\">type</text>\n",
       "<polygon fill=\"none\" stroke=\"black\" points=\"39.5,-262.5 39.5,-281.5 95.5,-281.5 95.5,-262.5 39.5,-262.5\"/>\n",
       "<text text-anchor=\"start\" x=\"42.5\" y=\"-268.9\" font-family=\"Times,serif\" font-size=\"12.00\">Numero</text>\n",
       "<polygon fill=\"none\" stroke=\"black\" points=\"0.5,-243.5 0.5,-262.5 39.5,-262.5 39.5,-243.5 0.5,-243.5\"/>\n",
       "<text text-anchor=\"start\" x=\"14\" y=\"-249.9\" font-family=\"Times,serif\" font-size=\"12.00\">id</text>\n",
       "<polygon fill=\"none\" stroke=\"black\" points=\"39.5,-243.5 39.5,-262.5 95.5,-262.5 95.5,-243.5 39.5,-243.5\"/>\n",
       "<text text-anchor=\"start\" x=\"63.5\" y=\"-249.9\" font-family=\"Times,serif\" font-size=\"12.00\">0</text>\n",
       "<polygon fill=\"none\" stroke=\"black\" points=\"0.5,-224.5 0.5,-243.5 39.5,-243.5 39.5,-224.5 0.5,-224.5\"/>\n",
       "<text text-anchor=\"start\" x=\"3.5\" y=\"-230.9\" font-family=\"Times,serif\" font-size=\"12.00\">value</text>\n",
       "<polygon fill=\"none\" stroke=\"black\" points=\"39.5,-224.5 39.5,-243.5 95.5,-243.5 95.5,-224.5 39.5,-224.5\"/>\n",
       "<text text-anchor=\"start\" x=\"63.5\" y=\"-230.9\" font-family=\"Times,serif\" font-size=\"12.00\">4</text>\n",
       "</g>\n",
       "<!-- 140522154312944&#45;&gt;140522142055872 -->\n",
       "<g id=\"edge1\" class=\"edge\">\n",
       "<title>140522154312944&#45;&gt;140522142055872</title>\n",
       "<path fill=\"none\" stroke=\"black\" d=\"M88.32,-299.97C83.32,-294.4 77.69,-288.13 72.24,-282.06\"/>\n",
       "</g>\n",
       "<!-- 140522153532576 -->\n",
       "<g id=\"node3\" class=\"node\">\n",
       "<title>140522153532576</title>\n",
       "<polygon fill=\"none\" stroke=\"black\" points=\"113.5,-253.5 113.5,-272.5 145.5,-272.5 145.5,-253.5 113.5,-253.5\"/>\n",
       "<text text-anchor=\"start\" x=\"116.5\" y=\"-259.9\" font-family=\"Times,serif\" font-size=\"12.00\">type</text>\n",
       "<polygon fill=\"none\" stroke=\"black\" points=\"145.5,-253.5 145.5,-272.5 211.5,-272.5 211.5,-253.5 145.5,-253.5\"/>\n",
       "<text text-anchor=\"start\" x=\"148.5\" y=\"-259.9\" font-family=\"Times,serif\" font-size=\"12.00\">Addizione</text>\n",
       "<polygon fill=\"none\" stroke=\"black\" points=\"113.5,-234.5 113.5,-253.5 145.5,-253.5 145.5,-234.5 113.5,-234.5\"/>\n",
       "<text text-anchor=\"start\" x=\"123.5\" y=\"-240.9\" font-family=\"Times,serif\" font-size=\"12.00\">id</text>\n",
       "<polygon fill=\"none\" stroke=\"black\" points=\"145.5,-234.5 145.5,-253.5 211.5,-253.5 211.5,-234.5 145.5,-234.5\"/>\n",
       "<text text-anchor=\"start\" x=\"174.5\" y=\"-240.9\" font-family=\"Times,serif\" font-size=\"12.00\">3</text>\n",
       "</g>\n",
       "<!-- 140522154312944&#45;&gt;140522153532576 -->\n",
       "<g id=\"edge2\" class=\"edge\">\n",
       "<title>140522154312944&#45;&gt;140522153532576</title>\n",
       "<path fill=\"none\" stroke=\"black\" d=\"M120.97,-299.97C128.74,-291.47 137.99,-281.33 145.79,-272.79\"/>\n",
       "</g>\n",
       "<!-- 140522142055872&#45;&gt;140522153532576 -->\n",
       "<!-- 140522153533200 -->\n",
       "<g id=\"node4\" class=\"node\">\n",
       "<title>140522153533200</title>\n",
       "<polygon fill=\"none\" stroke=\"black\" points=\"55.5,-187.5 55.5,-206.5 94.5,-206.5 94.5,-187.5 55.5,-187.5\"/>\n",
       "<text text-anchor=\"start\" x=\"62\" y=\"-193.9\" font-family=\"Times,serif\" font-size=\"12.00\">type</text>\n",
       "<polygon fill=\"none\" stroke=\"black\" points=\"94.5,-187.5 94.5,-206.5 150.5,-206.5 150.5,-187.5 94.5,-187.5\"/>\n",
       "<text text-anchor=\"start\" x=\"97.5\" y=\"-193.9\" font-family=\"Times,serif\" font-size=\"12.00\">Numero</text>\n",
       "<polygon fill=\"none\" stroke=\"black\" points=\"55.5,-168.5 55.5,-187.5 94.5,-187.5 94.5,-168.5 55.5,-168.5\"/>\n",
       "<text text-anchor=\"start\" x=\"69\" y=\"-174.9\" font-family=\"Times,serif\" font-size=\"12.00\">id</text>\n",
       "<polygon fill=\"none\" stroke=\"black\" points=\"94.5,-168.5 94.5,-187.5 150.5,-187.5 150.5,-168.5 94.5,-168.5\"/>\n",
       "<text text-anchor=\"start\" x=\"118.5\" y=\"-174.9\" font-family=\"Times,serif\" font-size=\"12.00\">2</text>\n",
       "<polygon fill=\"none\" stroke=\"black\" points=\"55.5,-149.5 55.5,-168.5 94.5,-168.5 94.5,-149.5 55.5,-149.5\"/>\n",
       "<text text-anchor=\"start\" x=\"58.5\" y=\"-155.9\" font-family=\"Times,serif\" font-size=\"12.00\">value</text>\n",
       "<polygon fill=\"none\" stroke=\"black\" points=\"94.5,-149.5 94.5,-168.5 150.5,-168.5 150.5,-149.5 94.5,-149.5\"/>\n",
       "<text text-anchor=\"start\" x=\"118.5\" y=\"-155.9\" font-family=\"Times,serif\" font-size=\"12.00\">8</text>\n",
       "</g>\n",
       "<!-- 140522153532576&#45;&gt;140522153533200 -->\n",
       "<g id=\"edge4\" class=\"edge\">\n",
       "<title>140522153532576&#45;&gt;140522153533200</title>\n",
       "<path fill=\"none\" stroke=\"black\" d=\"M147.67,-234.46C140.87,-226.18 132.65,-216.19 125.11,-207\"/>\n",
       "</g>\n",
       "<!-- 140522408064768 -->\n",
       "<g id=\"node5\" class=\"node\">\n",
       "<title>140522408064768</title>\n",
       "<polygon fill=\"none\" stroke=\"black\" points=\"168.5,-178.5 168.5,-197.5 200.5,-197.5 200.5,-178.5 168.5,-178.5\"/>\n",
       "<text text-anchor=\"start\" x=\"171.5\" y=\"-184.9\" font-family=\"Times,serif\" font-size=\"12.00\">type</text>\n",
       "<polygon fill=\"none\" stroke=\"black\" points=\"200.5,-178.5 200.5,-197.5 276.5,-197.5 276.5,-178.5 200.5,-178.5\"/>\n",
       "<text text-anchor=\"start\" x=\"203.5\" y=\"-184.9\" font-family=\"Times,serif\" font-size=\"12.00\">Sottrazione</text>\n",
       "<polygon fill=\"none\" stroke=\"black\" points=\"168.5,-159.5 168.5,-178.5 200.5,-178.5 200.5,-159.5 168.5,-159.5\"/>\n",
       "<text text-anchor=\"start\" x=\"178.5\" y=\"-165.9\" font-family=\"Times,serif\" font-size=\"12.00\">id</text>\n",
       "<polygon fill=\"none\" stroke=\"black\" points=\"200.5,-159.5 200.5,-178.5 276.5,-178.5 276.5,-159.5 200.5,-159.5\"/>\n",
       "<text text-anchor=\"start\" x=\"234.5\" y=\"-165.9\" font-family=\"Times,serif\" font-size=\"12.00\">5</text>\n",
       "</g>\n",
       "<!-- 140522153532576&#45;&gt;140522408064768 -->\n",
       "<g id=\"edge5\" class=\"edge\">\n",
       "<title>140522153532576&#45;&gt;140522408064768</title>\n",
       "<path fill=\"none\" stroke=\"black\" d=\"M177.33,-234.46C186.56,-223.22 198.39,-208.83 207.63,-197.59\"/>\n",
       "</g>\n",
       "<!-- 140522153533200&#45;&gt;140522408064768 -->\n",
       "<!-- 140522408066784 -->\n",
       "<g id=\"node6\" class=\"node\">\n",
       "<title>140522408066784</title>\n",
       "<polygon fill=\"none\" stroke=\"black\" points=\"117.5,-112.5 117.5,-131.5 156.5,-131.5 156.5,-112.5 117.5,-112.5\"/>\n",
       "<text text-anchor=\"start\" x=\"124\" y=\"-118.9\" font-family=\"Times,serif\" font-size=\"12.00\">type</text>\n",
       "<polygon fill=\"none\" stroke=\"black\" points=\"156.5,-112.5 156.5,-131.5 212.5,-131.5 212.5,-112.5 156.5,-112.5\"/>\n",
       "<text text-anchor=\"start\" x=\"159.5\" y=\"-118.9\" font-family=\"Times,serif\" font-size=\"12.00\">Numero</text>\n",
       "<polygon fill=\"none\" stroke=\"black\" points=\"117.5,-93.5 117.5,-112.5 156.5,-112.5 156.5,-93.5 117.5,-93.5\"/>\n",
       "<text text-anchor=\"start\" x=\"131\" y=\"-99.9\" font-family=\"Times,serif\" font-size=\"12.00\">id</text>\n",
       "<polygon fill=\"none\" stroke=\"black\" points=\"156.5,-93.5 156.5,-112.5 212.5,-112.5 212.5,-93.5 156.5,-93.5\"/>\n",
       "<text text-anchor=\"start\" x=\"180.5\" y=\"-99.9\" font-family=\"Times,serif\" font-size=\"12.00\">4</text>\n",
       "<polygon fill=\"none\" stroke=\"black\" points=\"117.5,-74.5 117.5,-93.5 156.5,-93.5 156.5,-74.5 117.5,-74.5\"/>\n",
       "<text text-anchor=\"start\" x=\"120.5\" y=\"-80.9\" font-family=\"Times,serif\" font-size=\"12.00\">value</text>\n",
       "<polygon fill=\"none\" stroke=\"black\" points=\"156.5,-74.5 156.5,-93.5 212.5,-93.5 212.5,-74.5 156.5,-74.5\"/>\n",
       "<text text-anchor=\"start\" x=\"180.5\" y=\"-80.9\" font-family=\"Times,serif\" font-size=\"12.00\">5</text>\n",
       "</g>\n",
       "<!-- 140522408064768&#45;&gt;140522408066784 -->\n",
       "<g id=\"edge7\" class=\"edge\">\n",
       "<title>140522408064768&#45;&gt;140522408066784</title>\n",
       "<path fill=\"none\" stroke=\"black\" d=\"M208.16,-159.46C201.59,-151.18 193.65,-141.19 186.35,-132\"/>\n",
       "</g>\n",
       "<!-- 140522408065344 -->\n",
       "<g id=\"node7\" class=\"node\">\n",
       "<title>140522408065344</title>\n",
       "<polygon fill=\"none\" stroke=\"black\" points=\"230.5,-103.5 230.5,-122.5 262.5,-122.5 262.5,-103.5 230.5,-103.5\"/>\n",
       "<text text-anchor=\"start\" x=\"233.5\" y=\"-109.9\" font-family=\"Times,serif\" font-size=\"12.00\">type</text>\n",
       "<polygon fill=\"none\" stroke=\"black\" points=\"262.5,-103.5 262.5,-122.5 328.5,-122.5 328.5,-103.5 262.5,-103.5\"/>\n",
       "<text text-anchor=\"start\" x=\"265.5\" y=\"-109.9\" font-family=\"Times,serif\" font-size=\"12.00\">Addizione</text>\n",
       "<polygon fill=\"none\" stroke=\"black\" points=\"230.5,-84.5 230.5,-103.5 262.5,-103.5 262.5,-84.5 230.5,-84.5\"/>\n",
       "<text text-anchor=\"start\" x=\"240.5\" y=\"-90.9\" font-family=\"Times,serif\" font-size=\"12.00\">id</text>\n",
       "<polygon fill=\"none\" stroke=\"black\" points=\"262.5,-84.5 262.5,-103.5 328.5,-103.5 328.5,-84.5 262.5,-84.5\"/>\n",
       "<text text-anchor=\"start\" x=\"291.5\" y=\"-90.9\" font-family=\"Times,serif\" font-size=\"12.00\">7</text>\n",
       "</g>\n",
       "<!-- 140522408064768&#45;&gt;140522408065344 -->\n",
       "<g id=\"edge8\" class=\"edge\">\n",
       "<title>140522408064768&#45;&gt;140522408065344</title>\n",
       "<path fill=\"none\" stroke=\"black\" d=\"M236.59,-159.46C245.36,-148.22 256.6,-133.83 265.37,-122.59\"/>\n",
       "</g>\n",
       "<!-- 140522408066784&#45;&gt;140522408065344 -->\n",
       "<!-- 140522408065440 -->\n",
       "<g id=\"node8\" class=\"node\">\n",
       "<title>140522408065440</title>\n",
       "<polygon fill=\"none\" stroke=\"black\" points=\"175.5,-37.5 175.5,-56.5 214.5,-56.5 214.5,-37.5 175.5,-37.5\"/>\n",
       "<text text-anchor=\"start\" x=\"182\" y=\"-43.9\" font-family=\"Times,serif\" font-size=\"12.00\">type</text>\n",
       "<polygon fill=\"none\" stroke=\"black\" points=\"214.5,-37.5 214.5,-56.5 270.5,-56.5 270.5,-37.5 214.5,-37.5\"/>\n",
       "<text text-anchor=\"start\" x=\"217.5\" y=\"-43.9\" font-family=\"Times,serif\" font-size=\"12.00\">Numero</text>\n",
       "<polygon fill=\"none\" stroke=\"black\" points=\"175.5,-18.5 175.5,-37.5 214.5,-37.5 214.5,-18.5 175.5,-18.5\"/>\n",
       "<text text-anchor=\"start\" x=\"189\" y=\"-24.9\" font-family=\"Times,serif\" font-size=\"12.00\">id</text>\n",
       "<polygon fill=\"none\" stroke=\"black\" points=\"214.5,-18.5 214.5,-37.5 270.5,-37.5 270.5,-18.5 214.5,-18.5\"/>\n",
       "<text text-anchor=\"start\" x=\"238.5\" y=\"-24.9\" font-family=\"Times,serif\" font-size=\"12.00\">6</text>\n",
       "<polygon fill=\"none\" stroke=\"black\" points=\"175.5,0.5 175.5,-18.5 214.5,-18.5 214.5,0.5 175.5,0.5\"/>\n",
       "<text text-anchor=\"start\" x=\"178.5\" y=\"-5.9\" font-family=\"Times,serif\" font-size=\"12.00\">value</text>\n",
       "<polygon fill=\"none\" stroke=\"black\" points=\"214.5,0.5 214.5,-18.5 270.5,-18.5 270.5,0.5 214.5,0.5\"/>\n",
       "<text text-anchor=\"start\" x=\"238.5\" y=\"-5.9\" font-family=\"Times,serif\" font-size=\"12.00\">2</text>\n",
       "</g>\n",
       "<!-- 140522408065344&#45;&gt;140522408065440 -->\n",
       "<g id=\"edge10\" class=\"edge\">\n",
       "<title>140522408065344&#45;&gt;140522408065440</title>\n",
       "<path fill=\"none\" stroke=\"black\" d=\"M265.41,-84.46C258.95,-76.18 251.15,-66.19 243.98,-57\"/>\n",
       "</g>\n",
       "<!-- 140522408065680 -->\n",
       "<g id=\"node9\" class=\"node\">\n",
       "<title>140522408065680</title>\n",
       "<polygon fill=\"none\" stroke=\"black\" points=\"288.5,-37.5 288.5,-56.5 327.5,-56.5 327.5,-37.5 288.5,-37.5\"/>\n",
       "<text text-anchor=\"start\" x=\"295\" y=\"-43.9\" font-family=\"Times,serif\" font-size=\"12.00\">type</text>\n",
       "<polygon fill=\"none\" stroke=\"black\" points=\"327.5,-37.5 327.5,-56.5 383.5,-56.5 383.5,-37.5 327.5,-37.5\"/>\n",
       "<text text-anchor=\"start\" x=\"330.5\" y=\"-43.9\" font-family=\"Times,serif\" font-size=\"12.00\">Numero</text>\n",
       "<polygon fill=\"none\" stroke=\"black\" points=\"288.5,-18.5 288.5,-37.5 327.5,-37.5 327.5,-18.5 288.5,-18.5\"/>\n",
       "<text text-anchor=\"start\" x=\"302\" y=\"-24.9\" font-family=\"Times,serif\" font-size=\"12.00\">id</text>\n",
       "<polygon fill=\"none\" stroke=\"black\" points=\"327.5,-18.5 327.5,-37.5 383.5,-37.5 383.5,-18.5 327.5,-18.5\"/>\n",
       "<text text-anchor=\"start\" x=\"351.5\" y=\"-24.9\" font-family=\"Times,serif\" font-size=\"12.00\">8</text>\n",
       "<polygon fill=\"none\" stroke=\"black\" points=\"288.5,0.5 288.5,-18.5 327.5,-18.5 327.5,0.5 288.5,0.5\"/>\n",
       "<text text-anchor=\"start\" x=\"291.5\" y=\"-5.9\" font-family=\"Times,serif\" font-size=\"12.00\">value</text>\n",
       "<polygon fill=\"none\" stroke=\"black\" points=\"327.5,0.5 327.5,-18.5 383.5,-18.5 383.5,0.5 327.5,0.5\"/>\n",
       "<text text-anchor=\"start\" x=\"351.5\" y=\"-5.9\" font-family=\"Times,serif\" font-size=\"12.00\">3</text>\n",
       "</g>\n",
       "<!-- 140522408065344&#45;&gt;140522408065680 -->\n",
       "<g id=\"edge11\" class=\"edge\">\n",
       "<title>140522408065344&#45;&gt;140522408065680</title>\n",
       "<path fill=\"none\" stroke=\"black\" d=\"M293.34,-84.46C299.69,-76.18 307.36,-66.19 314.4,-57\"/>\n",
       "</g>\n",
       "<!-- 140522408065440&#45;&gt;140522408065680 -->\n",
       "</g>\n",
       "</svg>\n"
      ],
      "text/plain": [
       "({'type': 'Sottrazione', 'id': 1}: ({'type': 'Numero', 'id': 0, 'value': 4}), ({'type': 'Addizione', 'id': 3}: ({'type': 'Numero', 'id': 2, 'value': 8}), ({'type': 'Sottrazione', 'id': 5}: ({'type': 'Numero', 'id': 4, 'value': 5}), ({'type': 'Addizione', 'id': 7}: ({'type': 'Numero', 'id': 6, 'value': 2}), ({'type': 'Numero', 'id': 8, 'value': 3})))))"
      ]
     },
     "execution_count": 18,
     "metadata": {},
     "output_type": "execute_result"
    }
   ],
   "source": [
    "n = sy.parse_expr(casi_N_ok[2], 'N')\n",
    "simpler = smp(n)\n",
    "nodo2tree(n)"
   ]
  },
  {
   "cell_type": "code",
   "execution_count": null,
   "id": "f9122e8f",
   "metadata": {},
   "outputs": [],
   "source": []
  }
 ],
 "metadata": {
  "kernelspec": {
   "display_name": "Python 3",
   "language": "python",
   "name": "python3"
  },
  "language_info": {
   "codemirror_mode": {
    "name": "ipython",
    "version": 3
   },
   "file_extension": ".py",
   "mimetype": "text/x-python",
   "name": "python",
   "nbconvert_exporter": "python",
   "pygments_lexer": "ipython3",
   "version": "3.9.5"
  }
 },
 "nbformat": 4,
 "nbformat_minor": 5
}
